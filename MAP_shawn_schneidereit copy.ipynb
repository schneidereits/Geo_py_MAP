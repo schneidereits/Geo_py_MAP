{
 "cells": [
  {
   "cell_type": "markdown",
   "metadata": {
    "slideshow": {
     "slide_type": "slide"
    }
   },
   "source": [
    "# Geoprocessing in python MAP\n",
    "## 23.01.2023\n",
    "#### Shawn Schneidereit"
   ]
  },
  {
   "cell_type": "markdown",
   "metadata": {
    "slideshow": {
     "slide_type": "slide"
    }
   },
   "source": [
    "# Content\n",
    "\n",
    "*\n",
    "*\n",
    "*"
   ]
  },
  {
   "cell_type": "markdown",
   "metadata": {
    "slideshow": {
     "slide_type": "slide"
    }
   },
   "source": [
    "# Packages"
   ]
  },
  {
   "cell_type": "code",
   "execution_count": 1,
   "metadata": {},
   "outputs": [],
   "source": [
    "import ee\n",
    "import os\n",
    "import geemap\n",
    "import pandas as pd\n",
    "import numpy as np\n",
    "import matplotlib.pyplot as plt\n",
    "import copy\n",
    "import json\n",
    "import geojson\n",
    "\n",
    "\n",
    "\n",
    "import scipy\n",
    "from osgeo import gdal, ogr\n",
    "from sh import gunzip\n",
    "\n",
    "\n",
    "# geopy10_fun.py must be in your working directory\n",
    "import geopy10_fun as geopy\n"
   ]
  },
  {
   "cell_type": "code",
   "execution_count": 2,
   "metadata": {},
   "outputs": [],
   "source": [
    "\n",
    "try:\n",
    "    ee.Initialize()\n",
    "except Exception as e:\n",
    "    ee.Authenticate()\n",
    "    ee.Initialize()"
   ]
  },
  {
   "cell_type": "markdown",
   "metadata": {
    "slideshow": {
     "slide_type": "slide"
    }
   },
   "source": [
    "### Visualization parameters"
   ]
  },
  {
   "cell_type": "code",
   "execution_count": 3,
   "metadata": {},
   "outputs": [],
   "source": [
    "# Sentinel-2 surface reflectance\n",
    "s2Vis = {\"bands\": [\"B4\", \"B3\", \"B2\"], \"min\":0, \"max\": 1200}\n",
    "\n",
    "# NDVI color palette\n",
    "ndviVis = {\"palette\": ['white', 'green'], \"min\":0.2, \"max\": 1}"
   ]
  },
  {
   "cell_type": "markdown",
   "metadata": {},
   "source": [
    "## Import wetland mask"
   ]
  },
  {
   "cell_type": "code",
   "execution_count": 4,
   "metadata": {},
   "outputs": [],
   "source": [
    "# set folder location\n",
    "fn_wetland = \"/Users/shawn/Documents/humbolt/semester_05/geo_processing/MAP/wetland_mask.tif\"\n",
    "# Open data source\n",
    "ds_wetland = gdal.Open(fn_wetland)\n",
    "\n",
    "# get geotransformation meta data\n",
    "ulx, xres, xskew, uly, yskew, yres  = ds_wetland.GetGeoTransform()\n",
    "lrx = ulx + (ds_wetland.RasterXSize * xres)\n",
    "lry = uly + (ds_wetland.RasterYSize * yres)"
   ]
  },
  {
   "cell_type": "code",
   "execution_count": 5,
   "metadata": {},
   "outputs": [],
   "source": [
    "wetland_mask = ee.Image(\"projects/geoprocessing-python/assets/wetland_mask\") "
   ]
  },
  {
   "cell_type": "markdown",
   "metadata": {},
   "source": [
    "\n",
    "\n",
    "# Download environmental variables\n",
    "\n",
    "For the data sourced from DWD I implemted a import pipe line that dynamically generated a download link for each time step, gets the data, unzips it, and crops and transforms the data to match my wetland mask. Unfortunatly it was not straight forward to define a function for this, as the url structure changes from source to source. "
   ]
  },
  {
   "cell_type": "markdown",
   "metadata": {},
   "source": [
    "## Drought index"
   ]
  },
  {
   "cell_type": "code",
   "execution_count": null,
   "metadata": {},
   "outputs": [],
   "source": [
    "import wget\n",
    "# initialize time step variables\n",
    "years = [\"2017\", \"2018\", \"2019\", \"2020\", \"2021\", \"2022\"]\n",
    "months = [\"01\",\"02\",\"03\",\"04\",\"05\",\"06\",\"07\",\"08\",\"09\",\"10\",\"11\",\"12\"]\n",
    "months_DE = [\"Jan\", \"Feb\", \"Mar\", \"Apr\", \"May\", \"Jun\", \"Jul\", \"Aug\", \"Sep\", \"Oct\", \"Nov\", \"Dec\"]"
   ]
  },
  {
   "cell_type": "code",
   "execution_count": null,
   "metadata": {},
   "outputs": [],
   "source": [
    "# starting at 0 index\n",
    "i = 0\n",
    "j = 0\n",
    "for year in years :\n",
    "    for month in months:\n",
    "        # dynamic generation of url\n",
    "        url = (\"https://opendata.dwd.de/climate_environment/CDC/grids_germany/monthly/drought_index/\"+ month + \"_\" + months_DE[j] + \"/grids_germany_monthly_drought_index_\" + year + month + \".asc.gz\")\n",
    "\n",
    "        # download file from server\n",
    "        wget.download(url, (\"drought_index/grids_germany_monthly_drought_index_\" + year + month + \".asc.gz\"))\n",
    "        # unzip into a usable format\n",
    "        gunzip(\"drought_index/grids_germany_monthly_drought_index_\" + year + month + \".asc.gz\")\n",
    "\n",
    "        # define i/o paths\n",
    "        path_asc = \"/Users/shawn/Documents/humbolt/semester_05/geo_processing/MAP/drought_index/grids_germany_monthly_drought_index_\"+ year + month + \".asc\"\n",
    "        path_tif = (path_asc[0:-3] + \"tif\")\n",
    "\n",
    "        # Create option\n",
    "        kwargs = {\n",
    "            'format': 'GTiff',\n",
    "            'outputSRS': \"EPSG:31467\" # cant transform here... needs to be SRS defined in the DWD documentation\n",
    "        }\n",
    "        # Perform file translation into tif\n",
    "        gdal.Translate(path_tif, path_asc, **kwargs)\n",
    "        # remove asc version of file\n",
    "        os.remove(path_asc)\n",
    "\n",
    "        # set folder location\n",
    "        ### Using Wetland projection, as this is the dault for other data inputs for my ROI\n",
    "        warp = gdal.Warp(path_tif,path_tif,dstSRS=ds_wetland.GetProjection(), outputBounds= [ulx, lry, lrx , uly])\n",
    "        warp = None # Closes the files\n",
    "\n",
    "\n",
    "\n",
    "        # giving an incrememt of 1 to j\n",
    "        j = j + 1\n",
    "        if j == 12: # reset counter after on full year (12 months)\n",
    "            j=0"
   ]
  },
  {
   "cell_type": "markdown",
   "metadata": {},
   "source": [
    "stack all bands (dates)"
   ]
  },
  {
   "cell_type": "code",
   "execution_count": null,
   "metadata": {},
   "outputs": [],
   "source": [
    "# Custom helper function that return full file path of files in dir (source: stackoverflow)\n",
    "def listdir_fullpath(d):\n",
    "    return [os.path.join(d, f) for f in os.listdir(d)]"
   ]
  },
  {
   "cell_type": "code",
   "execution_count": null,
   "metadata": {},
   "outputs": [],
   "source": [
    "# Custom helper funtion to stack and save all files in a dir as a tif\n",
    "def stackdir(path, file_name):\n",
    "    # build a VRT with all files in dir\n",
    "    path\n",
    "\n",
    "    ImageList = listdir_fullpath(path)\n",
    "\n",
    "    #Build A VRT of all tif files in dir\n",
    "    VRT = (path + file_name + \"_stack.vrt\")\n",
    "    gdal.BuildVRT(VRT, ImageList, separate=True, callback=gdal.TermProgress_nocb)\n",
    "    VRT\n",
    "\n",
    "    # Save VRT as tif\n",
    "    InputImage = gdal.Open(VRT, 0)  # open the VRT in read-only mode\n",
    "    gdal.Translate((path + file_name + '_stack.tif'), InputImage, format='GTiff',\n",
    "                creationOptions=['COMPRESS:DEFLATE', 'TILED:YES'],\n",
    "                callback=gdal.TermProgress_nocb)\n",
    "                \n",
    "    del InputImage  # close the VRT\n",
    "\n",
    "    # helper function to clean out all single date tif files \n",
    "    for filename in os.listdir(path):\n",
    "        #print(filename)\n",
    "        if filename not in (path + file_name + '_stack.tif'):\n",
    "             os.remove(path + filename)"
   ]
  },
  {
   "cell_type": "code",
   "execution_count": null,
   "metadata": {},
   "outputs": [],
   "source": [
    "stackdir('/Users/shawn/Documents/humbolt/semester_05/geo_processing/MAP/drought_index/', \"drought_index\")"
   ]
  },
  {
   "cell_type": "markdown",
   "metadata": {},
   "source": [
    "### soil moisture 1x1km at 60cm depth under grass\n",
    "\n"
   ]
  },
  {
   "cell_type": "code",
   "execution_count": null,
   "metadata": {},
   "outputs": [],
   "source": [
    "# starting at 0 index\n",
    "i = 0\n",
    "j = 0\n",
    "for year in years :\n",
    "    for month in months:\n",
    "        # dynamic generation of url\n",
    "        url = (\"https://opendata.dwd.de/climate_environment/CDC/grids_germany/monthly/soil_moist/grids_germany_monthly_soil_moist_\"+ year + month + \".asc.gz\")\n",
    "\n",
    "        # download file from server\n",
    "        wget.download(url, (\"soil_moister/grids_germany_monthly_soil_moister_\" + year + month + \".asc.gz\"))\n",
    "        # unzip into a usable format\n",
    "        gunzip(\"soil_moister/grids_germany_monthly_soil_moister_\" + year + month + \".asc.gz\")\n",
    "\n",
    "        # define i/o paths\n",
    "        path_asc = \"/Users/shawn/Documents/humbolt/semester_05/geo_processing/MAP/soil_moister/grids_germany_monthly_soil_moister_\"+ year + month + \".asc\"\n",
    "        path_tif = (path_asc[0:-3] + \"tif\")\n",
    "\n",
    "        # Create option\n",
    "        kwargs = {\n",
    "            'format': 'GTiff',\n",
    "            'outputSRS': \"EPSG:31467\" # cant transform here... needs to be SRS defined in the DWD documentation\n",
    "        }\n",
    "        # Perform file translation into tif\n",
    "        gdal.Translate(path_tif, path_asc, **kwargs)\n",
    "        # remove asc version of file\n",
    "        os.remove(path_asc)\n",
    "\n",
    "        # set folder location\n",
    "        warp = gdal.Warp(path_tif,path_tif,dstSRS=ds_wetland.GetProjection(), outputBounds= [ulx, lry, lrx , uly])\n",
    "        warp = None # Closes the files\n",
    "\n",
    "\n",
    "\n",
    "        # giving an incrememt of 1 to j\n",
    "        j = j + 1\n",
    "        if j == 12: # reset counter after on full year (12 months)\n",
    "            j=0"
   ]
  },
  {
   "cell_type": "code",
   "execution_count": null,
   "metadata": {},
   "outputs": [],
   "source": [
    "# build a VRT with all files in dir\n",
    "stackdir('/Users/shawn/Documents/humbolt/semester_05/geo_processing/MAP/soil_moister/', \"soil_moister\")\n"
   ]
  },
  {
   "cell_type": "markdown",
   "metadata": {},
   "source": [
    "### SMI: using Multi-annual grids of precipitation height over Germany 1981-2010 1x1km:\n"
   ]
  },
  {
   "cell_type": "markdown",
   "metadata": {},
   "source": [
    "## First get the average precipitation per month"
   ]
  },
  {
   "cell_type": "code",
   "execution_count": null,
   "metadata": {},
   "outputs": [],
   "source": [
    "# starting at 0 index\n",
    "i = 0\n",
    "j = 0\n",
    "for year in years :\n",
    "    for month in months:\n",
    "        # dynamic generation of url\n",
    "        url = (\"https://opendata.dwd.de/climate_environment/CDC/grids_germany/monthly/precipitation/\"+ month + \"_\" + months_DE[j] + \"/grids_germany_monthly_precipitation_\" + year + month + \".asc.gz\")\n",
    "\n",
    "        # download file from server\n",
    "        wget.download(url, (\"precipitation/precipitation_\" + year + month + \".asc.gz\"))\n",
    "        # unzip into a usable format\n",
    "        gunzip(\"precipitation/precipitation_\" + year + month + \".asc.gz\")\n",
    "\n",
    "        # define i/o paths\n",
    "        path_asc = \"/Users/shawn/Documents/humbolt/semester_05/geo_processing/MAP/precipitation/precipitation_\"+ year + month + \".asc\"\n",
    "        path_tif = (path_asc[0:-3] + \"tif\")\n",
    "\n",
    "        # Create option\n",
    "        kwargs = {\n",
    "            'format': 'GTiff',\n",
    "            'outputSRS': \"EPSG:31467\" # cant transform here... needs to be SRS defined in the DWD documentation\n",
    "        }\n",
    "        # Perform file translation into tif\n",
    "        gdal.Translate(path_tif, path_asc, **kwargs)\n",
    "        # remove asc version of file\n",
    "        os.remove(path_asc)\n",
    "\n",
    "        # set folder location\n",
    "        warp = gdal.Warp(path_tif,path_tif,dstSRS=ds_wetland.GetProjection(), outputBounds= [ulx, lry, lrx , uly])\n",
    "        warp = None # Closes the files\n",
    "        \n",
    "        # giving an incrememt of 1 to j\n",
    "        j = j + 1\n",
    "        if j == 12: # reset counter after on full year (12 months)\n",
    "            j=0"
   ]
  },
  {
   "cell_type": "code",
   "execution_count": null,
   "metadata": {},
   "outputs": [],
   "source": [
    "# build a VRT with all files in dir\n",
    "stackdir('/Users/shawn/Documents/humbolt/semester_05/geo_processing/MAP/precipitation/', \"precipitation\")"
   ]
  },
  {
   "cell_type": "markdown",
   "metadata": {},
   "source": [
    "## Then download the long term values from 1971-2010 \n"
   ]
  },
  {
   "cell_type": "markdown",
   "metadata": {},
   "source": [
    "##### Then get the long term percipitation values over the past 40 years to compute long term means and standard deviation inputs needed to compute SPI"
   ]
  },
  {
   "cell_type": "code",
   "execution_count": null,
   "metadata": {},
   "outputs": [],
   "source": [
    "years = (np.arange(1970,2011))\n",
    "years = list(map(str, years))"
   ]
  },
  {
   "cell_type": "code",
   "execution_count": null,
   "metadata": {},
   "outputs": [],
   "source": [
    "# starting at 0 index\n",
    "i = 0\n",
    "j = 0\n",
    "for year in years :\n",
    "    for month in months:\n",
    "        # dynamic generation of url\n",
    "        url = (\"https://opendata.dwd.de/climate_environment/CDC/grids_germany/monthly/precipitation/\"+ month + \"_\" + months_DE[j] + \"/grids_germany_monthly_precipitation_\" + year + month + \".asc.gz\")\n",
    "\n",
    "        # download file from server\n",
    "        wget.download(url, (\"precipitation_1970-2010/precipitation_\" + year + month + \".asc.gz\"))\n",
    "        # unzip into a usable format\n",
    "        gunzip(\"precipitation_1970-2010/precipitation_\" + year + month + \".asc.gz\")\n",
    "\n",
    "        # define i/o paths\n",
    "        path_asc = \"/Users/shawn/Documents/humbolt/semester_05/geo_processing/MAP/precipitation_1970-2010/precipitation_\"+ year + month + \".asc\"\n",
    "        path_tif = (path_asc[0:-3] + \"tif\")\n",
    "\n",
    "        # Create option\n",
    "        kwargs = {\n",
    "            'format': 'GTiff',\n",
    "            'outputSRS': \"EPSG:31467\" # cant transform here... needs to be SRS defined in the DWD documentation\n",
    "        }\n",
    "        # Perform file translation into tif\n",
    "        gdal.Translate(path_tif, path_asc, **kwargs)\n",
    "        # remove asc version of file\n",
    "        os.remove(path_asc)\n",
    "\n",
    "        # set folder location\n",
    "        warp = gdal.Warp(path_tif,path_tif,dstSRS=ds_wetland.GetProjection(), outputBounds= [ulx, lry, lrx , uly])\n",
    "        warp = None # Closes the files\n",
    "        \n",
    "        # giving an incrememt of 1 to j\n",
    "        j = j + 1\n",
    "        if j == 12: # reset counter after on full year (12 months)\n",
    "            j=0"
   ]
  },
  {
   "cell_type": "code",
   "execution_count": null,
   "metadata": {},
   "outputs": [],
   "source": [
    "# build a VRT with all files in dir\n",
    "stackdir('/Users/shawn/Documents/humbolt/semester_05/geo_processing/MAP/precipitation_1970-2010/', \"precipitation\")"
   ]
  },
  {
   "cell_type": "markdown",
   "metadata": {},
   "source": [
    "## Compute SMI\n",
    "\n",
    "SPI = (P-P*) /  σp\n",
    "\n",
    "__**where P = precipitation**__\n",
    "__**p = mean historic precipitation**__\n",
    "__**σp = standard deviation of precipitation**__\n",
    "\n",
    "\n",
    "#### Additonally of indicies are aggregated with a moving window of three months to better reflect the seasonal and cumulative drought effects"
   ]
  },
  {
   "cell_type": "markdown",
   "metadata": {},
   "source": [
    "##### Create binary wetland raster to mask climate variables via raster algebra and broadcasting"
   ]
  },
  {
   "cell_type": "code",
   "execution_count": null,
   "metadata": {},
   "outputs": [],
   "source": [
    "# get subprocess to call GDAL util\n",
    "import subprocess\n",
    "\n",
    "# define paths to raster and vector\n",
    "inraster = '/Users/shawn/Documents/humbolt/semester_05/geo_processing/MAP/wetland_mask_1km.tif'\n",
    "inshape = '/Users/shawn/Documents/humbolt/semester_05/geo_processing/MAP/wetland_mask_vector/wetland_mask.shp'\n",
    "\n",
    "# make gdal_rasterize command - will burn value 0 to raster where polygon intersects \n",
    "cmd = ('gdal_rasterize -burn 0 -i '+ inshape + ' ' + inraster)\n",
    "\n",
    "# run command\n",
    "subprocess.call(cmd, shell=True)\n",
    "\n",
    "# make gdal command to subset to only first band (apperently no option to this in rasterize)\n",
    "#cmd = (\"gdal_translate -b 1 \" + inraster + \" \" + inraster)\n",
    "#subprocess.call(cmd, shell=True)\n",
    "\n"
   ]
  },
  {
   "cell_type": "code",
   "execution_count": null,
   "metadata": {},
   "outputs": [],
   "source": [
    "\n",
    "\n",
    "wetland_mask_raster_src = gdal.Open(\"/Users/shawn/Documents/humbolt/semester_05/geo_processing/MAP/wetland_mask_1km.tif\")\n",
    "wetland_mask_raster = wetland_mask_raster_src.GetRasterBand(1).ReadAsArray()\n",
    "\n",
    "# Convert to binary\n",
    "wetland_mask_raster[wetland_mask_raster >0] = 1\n",
    "wetland_mask_raster = wetland_mask_raster.astype(float)\n",
    "wetland_mask_raster[wetland_mask_raster ==0] = np.nan # set no data value to nan in order to not influence downstream compurations and aggregations"
   ]
  },
  {
   "cell_type": "markdown",
   "metadata": {},
   "source": [
    "##### mask values outside of wetland areas by multiplying by zero"
   ]
  },
  {
   "cell_type": "code",
   "execution_count": null,
   "metadata": {},
   "outputs": [],
   "source": [
    "precipitation_src = gdal.Open(\"/Users/shawn/Documents/humbolt/semester_05/geo_processing/MAP/precipitation/precipitation_stack.tif\")\n",
    "precipitation = (precipitation_src.ReadAsArray()) \n",
    "precipitation = precipitation.astype(float)\n",
    "precipitation[precipitation == -999] = \"nan\"\n",
    "# mask via raster algebra and broadcasting \n",
    "### currently commmented out as I decided it make more sence to compile a complete tif for the ROI and can subset the data when preping the data for ML prediction\n",
    "#precipitation = precipitation*wetland_mask_raster\n"
   ]
  },
  {
   "cell_type": "markdown",
   "metadata": {},
   "source": [
    "#### Function to compute moving Window average \n",
    "(Window truncated in first 2 months)"
   ]
  },
  {
   "cell_type": "code",
   "execution_count": null,
   "metadata": {},
   "outputs": [],
   "source": [
    "def moving_window_mean(input_stack, output_stack):\n",
    "\n",
    "    for i in range(input_stack.shape[0]) :\n",
    "        if i == 0:\n",
    "            moving_window = copy.copy(input_stack[i])\n",
    "            output_stack[i] = moving_window\n",
    "\n",
    "        if i > 0:\n",
    "            moving_window = copy.copy(input_stack[i-1:i,])\n",
    "            output_stack[i] = np.nanmean(moving_window, axis=(0))\n",
    "\n",
    "        if i > 1:\n",
    "            moving_window = copy.copy(input_stack[i-2:i,])\n",
    "            output_stack[i] = np.nanmean(moving_window, axis=(0))\n",
    "\n",
    "        if i > 2:\n",
    "            moving_window = copy.copy(input_stack[i-3:i,])\n",
    "            output_stack[i] = np.nanmean(moving_window, axis=(0))"
   ]
  },
  {
   "cell_type": "code",
   "execution_count": null,
   "metadata": {},
   "outputs": [],
   "source": [
    "precipitation_smothed = np.zeros(precipitation.shape)\n",
    "moving_window_mean(precipitation, precipitation_smothed)"
   ]
  },
  {
   "cell_type": "markdown",
   "metadata": {},
   "source": [
    "#### Agregate the mean and std for long term precipitation "
   ]
  },
  {
   "cell_type": "code",
   "execution_count": null,
   "metadata": {},
   "outputs": [],
   "source": [
    "precipitation_1970_2010_src = gdal.Open(\"/Users/shawn/Documents/humbolt/semester_05/geo_processing/MAP/precipitation_1970-2010/precipitation_stack.tif\")\n",
    "precipitation_1970_2010 = (precipitation_1970_2010_src.ReadAsArray()) \n",
    "precipitation_1970_2010 = precipitation_1970_2010.astype(float)\n",
    "precipitation_1970_2010[precipitation_1970_2010 == -999] = np.nan\n",
    "# mask via raster algebra and broadcasting \n",
    "#precipitation_1970_2010 = precipitation_1970_2010*wetland_mask_raster\n"
   ]
  },
  {
   "cell_type": "markdown",
   "metadata": {},
   "source": [
    "The logic below it to index with i+every 12 band. This allows to compute the mean and std for each month across the previous 40 years"
   ]
  },
  {
   "cell_type": "code",
   "execution_count": null,
   "metadata": {},
   "outputs": [],
   "source": [
    "# intialize empty arrays to be populated in the loop \n",
    "precipitation_1970_2010_mean = np.zeros([12]+list(precipitation.shape[1:]))\n",
    "precipitation_1970_2010_std  = np.zeros([12]+list(precipitation.shape[1:]))\n",
    "\n",
    "for i in np.arange(12):\n",
    "    precipitation_1970_2010_mean[i] = np.nanmean(precipitation_1970_2010[i::12], axis=0)\n",
    "    precipitation_1970_2010_std[i] = np.nanstd(precipitation_1970_2010[i::12], axis=0)\n"
   ]
  },
  {
   "cell_type": "code",
   "execution_count": null,
   "metadata": {},
   "outputs": [],
   "source": [
    "precipitation_1970_2010_mean_smoothed = np.zeros(precipitation_1970_2010_mean.shape)\n",
    "precipitation_1970_2010_std_smoothed = np.zeros(precipitation_1970_2010_std.shape)\n",
    "moving_window_mean(precipitation_1970_2010_mean, precipitation_1970_2010_mean_smoothed)\n",
    "moving_window_mean(precipitation_1970_2010_std, precipitation_1970_2010_std_smoothed)"
   ]
  },
  {
   "cell_type": "markdown",
   "metadata": {},
   "source": [
    "#### Compute SPI\n",
    "\n",
    "Dynamically index yearly precipitation values, while keeping the long term mean and standard deviation fixed"
   ]
  },
  {
   "cell_type": "code",
   "execution_count": null,
   "metadata": {},
   "outputs": [],
   "source": [
    "# inital the array with first 12 months. The SPI for the rest of the time series are appened in the loop\n",
    "SPI = (precipitation_smothed[0:12]-precipitation_1970_2010_mean_smoothed)/(precipitation_1970_2010_std_smoothed)\n",
    "for i in np.arange(1,precipitation_smothed.shape[0]/12):\n",
    "    start_index = int(i*12)\n",
    "    end_index =   int((start_index + 12))\n",
    "    SPI_temp = (precipitation_smothed[start_index:end_index]-precipitation_1970_2010_mean_smoothed)/(precipitation_1970_2010_std_smoothed)\n",
    "    SPI = np.concatenate((SPI,SPI_temp))\n",
    "   "
   ]
  },
  {
   "cell_type": "markdown",
   "metadata": {},
   "source": [
    "#### Apply moving window to soil moister and drought index"
   ]
  },
  {
   "cell_type": "code",
   "execution_count": null,
   "metadata": {},
   "outputs": [],
   "source": [
    "drought_index_src = gdal.Open(\"/Users/shawn/Documents/humbolt/semester_05/geo_processing/MAP/drought_index/drought_index_stack.tif\")\n",
    "drought_index = (drought_index_src.ReadAsArray()) \n",
    "drought_index = drought_index.astype(float)\n",
    "drought_index[drought_index == -999] = np.nan\n",
    "# mask via raster algebra and broadcasting \n",
    "#drought_index = drought_index*wetland_mask_raster\n",
    "\n",
    "drought_index_smoothed = np.zeros(drought_index.shape)\n",
    "moving_window_mean(drought_index, drought_index_smoothed)"
   ]
  },
  {
   "cell_type": "code",
   "execution_count": null,
   "metadata": {},
   "outputs": [],
   "source": [
    "soil_moister_src = gdal.Open(\"/Users/shawn/Documents/humbolt/semester_05/geo_processing/MAP/soil_moister/soil_moister_stack.tif\")\n",
    "soil_moister = (soil_moister_src.ReadAsArray()) \n",
    "soil_moister = soil_moister.astype(float)\n",
    "soil_moister[soil_moister == -9999] = np.nan  # Utterly critical. For unexplaned reason the DWD set the no data value to -9999 instead of the -999 used in every other dataset... thanks.....\n",
    "# mask via raster algebra and broadcasting \n",
    "#soil_moister = soil_moister*wetland_mask_raster\n",
    "\n",
    "soil_moister_smoothed = np.zeros(soil_moister.shape)\n",
    "moving_window_mean(soil_moister, soil_moister_smoothed)\n",
    "#soil_moister_smothed[soil_moister_smothed == 255] = np.nan\n"
   ]
  },
  {
   "cell_type": "markdown",
   "metadata": {},
   "source": [
    "#### Save smoothed and formated  environmental time series to tifs"
   ]
  },
  {
   "cell_type": "code",
   "execution_count": null,
   "metadata": {},
   "outputs": [],
   "source": [
    "# Modified from source: https://gis.stackexchange.com/questions/213937/in-gdal-how-to-save-3-dimensional-array-as-stacked-raster-image\n",
    "def array_to_tif(out_path, Array, driver, no_data_value, \n",
    "                  GeoTransformation, Projection, DataType):\n",
    "    Array[np.isnan(Array)] = no_data_value\n",
    "    DataSet = driver.Create(out_path, Array.shape[2], Array.shape[1], Array.shape[0], DataType)\n",
    "    DataSet.SetGeoTransform(GeoTransformation)\n",
    "    DataSet.SetProjection(Projection)\n",
    "    for i, image in enumerate(Array, 1):\n",
    "        DataSet.GetRasterBand(i).WriteArray( image )\n",
    "        DataSet.GetRasterBand(i).SetNoDataValue(no_data_value)\n",
    "    DataSet.FlushCache()\n",
    "    return out_path"
   ]
  },
  {
   "cell_type": "code",
   "execution_count": null,
   "metadata": {},
   "outputs": [],
   "source": [
    "# define basis parameters\n",
    "driver = gdal.GetDriverByName(\"GTiff\")\n",
    "GeoTransformation = precipitation_src.GetGeoTransform()\n",
    "projection = precipitation_src.GetProjection()\n",
    "DataType = gdal.GDT_Float32\n",
    "\n",
    "out_path = \"/Users/shawn/Documents/humbolt/semester_05/geo_processing/MAP/SPI/SPI.tif\"\n",
    "array_to_tif(out_path,SPI,driver,-9999,GeoTransformation,projection, DataType)\n",
    "\n",
    "out_path = \"/Users/shawn/Documents/humbolt/semester_05/geo_processing/MAP/drought_index/drought_index_smoothed.tif\"\n",
    "array_to_tif(out_path,drought_index_smoothed,driver,-9999,GeoTransformation,projection, DataType)\n",
    "\n",
    "out_path = \"/Users/shawn/Documents/humbolt/semester_05/geo_processing/MAP/soil_moister/soil_moister_smoothed.tif\"\n",
    "array_to_tif(out_path,soil_moister_smoothed,driver,-9999,GeoTransformation,projection, DataType)"
   ]
  },
  {
   "cell_type": "markdown",
   "metadata": {},
   "source": [
    "### Potentially soil data from GEE data catalog (USDA so would need significant cleaning and aggregation of classes, especially since from what I can tell random forest in skikit-learn only allows for hot-coding of categorical variables)\n"
   ]
  },
  {
   "cell_type": "markdown",
   "metadata": {},
   "source": [
    "# Transform all to common CRS and use raster math to mask to relevant wetland areas\n",
    "\n",
    "Actually not needed as GEE can deal with projections on the fly\n"
   ]
  },
  {
   "cell_type": "code",
   "execution_count": null,
   "metadata": {},
   "outputs": [],
   "source": [
    "filename = \"/Users/shawn/Documents/humbolt/semester_05/geo_processing/MAP/drought_index/drought_index_smoothed.tif\"\n",
    "input_raster = gdal.Open(filename)\n",
    "output_raster = \"/Users/shawn/Documents/humbolt/semester_05/geo_processing/MAP/drought_index/drought_index_smoothed_espg3857.tif\"\n",
    "warp = gdal.Warp(output_raster,input_raster,dstSRS='EPSG:3857')\n",
    "warp = None # Closes the files"
   ]
  },
  {
   "cell_type": "markdown",
   "metadata": {},
   "source": [
    "Import environmental variables (uploaded from local to GEE project folder)"
   ]
  },
  {
   "cell_type": "code",
   "execution_count": 6,
   "metadata": {},
   "outputs": [],
   "source": [
    "drought_index = ee.Image(\"projects/geoprocessing-python/assets/drought_index\") \n",
    "soil_moister = ee.Image(\"projects/geoprocessing-python/assets/soil_moister\") \n",
    "SPI = ee.Image(\"projects/geoprocessing-python/assets/SPI\") "
   ]
  },
  {
   "cell_type": "code",
   "execution_count": 7,
   "metadata": {},
   "outputs": [],
   "source": [
    "bbox = drought_index.geometry()"
   ]
  },
  {
   "cell_type": "markdown",
   "metadata": {},
   "source": [
    "## Get NDVI time series from GEE data catalog\n"
   ]
  },
  {
   "cell_type": "markdown",
   "metadata": {},
   "source": [
    "### Set up map window\n"
   ]
  },
  {
   "cell_type": "code",
   "execution_count": 8,
   "metadata": {},
   "outputs": [],
   "source": [
    "Map = geemap.Map(center=[52.8, 11.5], zoom=7)\n",
    "Map.add_basemap('HYBRID')\n",
    "#Map\n"
   ]
  },
  {
   "cell_type": "code",
   "execution_count": 9,
   "metadata": {},
   "outputs": [],
   "source": [
    "# Sentinel-2 surface reflectance\n",
    "droughtVis = {\"bands\": [\"b1\"],\"palette\": ['blue',\"yellow\",\"orange\",\"red\", 'red'], \"min\":0, \"max\": 11}\n",
    "\n",
    "# NDVI color palette\n",
    "#ndviVis = {\"palette\": ['white', 'green'], \"min\":0.2, \"max\": 1}"
   ]
  },
  {
   "cell_type": "code",
   "execution_count": 10,
   "metadata": {},
   "outputs": [],
   "source": [
    "#Map.addLayer(drought_index, droughtVis, \"drought_index\")\n"
   ]
  },
  {
   "cell_type": "markdown",
   "metadata": {},
   "source": [
    "#### Below is code to generate a two property list from a static month and year range. The idea was to modify the calc_NDVI function to take two input parameters (in a dictionary or other data structure) and then map across this list. Would have been an elogent solution, but unfortunatly this does not seem to be possible. While i can see the month and year values in the output window, for the values to actually be accessable i need to use getinfo(). When attempting to do this using the map function it triggers an error since a client side process is being called in a server side computation. After extensive googleing and attempting to hack together a solution I was not able to find a way. Equally it is not possible to start out with \"normal\" python dictionary an converting them to ee.lists inside of the  monthlyNdviMedian function, as using map for a ee.ImageCollection will only let you map across an ee.list(). "
   ]
  },
  {
   "cell_type": "code",
   "execution_count": 11,
   "metadata": {},
   "outputs": [],
   "source": [
    "def get_year_month_combinations(start_year, end_year, start_month, end_month):\n",
    "    years = ee.List.sequence(start_year, end_year)\n",
    "    months = ee.List.sequence(start_month, end_month)\n",
    "\n",
    "    year_month_combinations = years.map(lambda y: \n",
    "                                          months.map(lambda m: \n",
    "                                            ee.Dictionary({\"year\": y, \"month\": ee.Number(m).int8()})))\n",
    "\n",
    "    return year_month_combinations.flatten()"
   ]
  },
  {
   "cell_type": "code",
   "execution_count": 12,
   "metadata": {},
   "outputs": [
    {
     "data": {
      "text/html": [
       "<div><style>:root {\n",
       "  --font-color-primary: var(--jp-content-font-color0, rgba(0, 0, 0, 1));\n",
       "  --font-color-secondary: var(--jp-content-font-color2, rgba(0, 0, 0, 0.6));\n",
       "  --font-color-accent: rgba(123, 31, 162, 1);\n",
       "  --border-color: var(--jp-border-color2, #e0e0e0);\n",
       "  --background-color: var(--jp-layout-color0, white);\n",
       "  --background-color-row-even: var(--jp-layout-color1, white);\n",
       "  --background-color-row-odd: var(--jp-layout-color2, #eeeeee);\n",
       "}\n",
       "\n",
       "html[theme=\"dark\"],\n",
       "body[data-theme=\"dark\"],\n",
       "body.vscode-dark {\n",
       "  --font-color-primary: rgba(255, 255, 255, 1);\n",
       "  --font-color-secondary: rgba(255, 255, 255, 0.6);\n",
       "  --font-color-accent: rgb(173, 132, 190);\n",
       "  --border-color: #2e2e2e;\n",
       "  --background-color: #111111;\n",
       "  --background-color-row-even: #111111;\n",
       "  --background-color-row-odd: #313131;\n",
       "}\n",
       "\n",
       ".ee {\n",
       "  padding: 1em;\n",
       "  line-height: 1.5em;\n",
       "  min-width: 300px;\n",
       "  max-width: 1200px;\n",
       "  overflow-y: scroll;\n",
       "  max-height: 600px;\n",
       "  border: 1px solid var(--border-color);\n",
       "  font-family: monospace;\n",
       "}\n",
       "\n",
       ".ee li {\n",
       "  list-style-type: none;\n",
       "}\n",
       "\n",
       ".ee ul {\n",
       "  padding-left: 1.5em !important;\n",
       "  margin: 0;\n",
       "}\n",
       "\n",
       ".ee > ul {\n",
       "  padding-left: 0 !important;\n",
       "}\n",
       "\n",
       ".ee-open,\n",
       ".ee-shut {\n",
       "  color: var(--font-color-secondary);\n",
       "  cursor: pointer;\n",
       "  margin: 0;\n",
       "}\n",
       "\n",
       ".ee-open:hover,\n",
       ".ee-shut:hover {\n",
       "  color: var(--font-color-primary);\n",
       "}\n",
       "\n",
       ".ee-k {\n",
       "  color: var(--font-color-accent);\n",
       "  margin-right: 6px;\n",
       "}\n",
       "\n",
       ".ee-v {\n",
       "  color: var(--font-color-primary);\n",
       "}\n",
       "\n",
       ".ee-toggle {\n",
       "  display: none;\n",
       "}\n",
       "\n",
       ".ee-shut + ul {\n",
       "  display: none;\n",
       "}\n",
       "\n",
       ".ee-open + ul {\n",
       "  display: block;\n",
       "}\n",
       "\n",
       ".ee-shut::before {\n",
       "  display: inline-block;\n",
       "  content: \"▼\";\n",
       "  margin-right: 6px;\n",
       "  transform: rotate(-90deg);\n",
       "  transition: transform 0.2s;\n",
       "}\n",
       "\n",
       ".ee-open::before {\n",
       "  transform: rotate(0deg);\n",
       "  display: inline-block;\n",
       "  content: \"▼\";\n",
       "  margin-right: 6px;\n",
       "  transition: transform 0.2s;\n",
       "}\n",
       "</style><div class='ee'><ul><li><label class='ee-shut'>Object (2 properties)<input type='checkbox' class='ee-toggle'></label><ul><li><span class='ee-k'>month:</span><span class='ee-v'>1</span></li><li><span class='ee-k'>year:</span><span class='ee-v'>2017</span></li></ul></li></ul></div><script>function toggleHeader() {\n",
       "    const parent = this.parentElement;\n",
       "    parent.className = parent.className === \"ee-open\" ? \"ee-shut\" : \"ee-open\";\n",
       "}\n",
       "\n",
       "for (let c of document.getElementsByClassName(\"ee-toggle\")) {\n",
       "    c.onclick = toggleHeader;\n",
       "}</script></div>"
      ],
      "text/plain": [
       "<ee.computedobject.ComputedObject at 0x7faa49c09e70>"
      ]
     },
     "execution_count": 12,
     "metadata": {},
     "output_type": "execute_result"
    }
   ],
   "source": [
    "year_month_combinations = get_year_month_combinations(2017, 2022, 1, 12)\n",
    "combination = year_month_combinations.get(0)\n",
    "combination"
   ]
  },
  {
   "cell_type": "code",
   "execution_count": 13,
   "metadata": {},
   "outputs": [
    {
     "data": {
      "text/plain": [
       "(ee.ee_list.List, list, dict)"
      ]
     },
     "execution_count": 13,
     "metadata": {},
     "output_type": "execute_result"
    }
   ],
   "source": [
    "# checking data types for possible workarounds to feed the data into the monthlyNdviMedian fucniton\n",
    "combination_list = year_month_combinations.getInfo()\n",
    "first_combination = combination_list[0]\n",
    "month = first_combination[\"month\"]\n",
    "year = first_combination[\"year\"]\n",
    "type(year_month_combinations), type(combination_list), type(first_combination)"
   ]
  },
  {
   "cell_type": "markdown",
   "metadata": {},
   "source": [
    "### SO I found a solution that completely removed the need for using the map function. This defenelty results in a slower computation as was very challenging to implement but it works... "
   ]
  },
  {
   "cell_type": "code",
   "execution_count": 14,
   "metadata": {},
   "outputs": [],
   "source": [
    "# Function to get all year and month combinations\n",
    "def get_year_month_combinations(start_year, end_year, start_month, end_month):\n",
    "    year_month_combinations = [] # Initialize empty list to store combinations\n",
    "    for year in range(start_year, end_year + 1): # Loop through years \n",
    "        for month in range(start_month, end_month + 1): # Loop through months for each year\n",
    "            year_month_combinations.append(str(year) + \"_\" + str(month).zfill(2)) # Combine year and month into a string and append to list\n",
    "    return year_month_combinations"
   ]
  },
  {
   "cell_type": "code",
   "execution_count": 15,
   "metadata": {},
   "outputs": [],
   "source": [
    "# Function to get median NDVI for a given year-month combination (modified from Dirk)\n",
    "def monthlyNdviMedian(combination_string):\n",
    "    year, month = combination_string.split(\"_\") # Split year-month combination into year and month\n",
    "    year = int(year)\n",
    "    month = int(month)\n",
    "\n",
    "    # Filter images based on year and month\n",
    "    dateFilter = ee.Filter.And(ee.Filter.calendarRange(month, month, \"month\"),\n",
    "                               ee.Filter.date(ee.Date.fromYMD(year, 1, 1), \n",
    "                               ee.Date.fromYMD(year, 12, 31)))\n",
    "    \n",
    "    # Get Sentinal-2 image collection and calculate NDVI\n",
    "    S2 = ee.ImageCollection(\"COPERNICUS/S2_SR\") \\\n",
    "             .filter(dateFilter) \\\n",
    "             .filterBounds(bbox) \\\n",
    "             .filterMetadata(\"CLOUDY_PIXEL_PERCENTAGE\", \"less_than\", 70) \\\n",
    "             .map(geopy.maskCloudsS2) \\\n",
    "             .map(geopy.calcNdviS2)\n",
    "\n",
    "    medianNdvi = S2.median()\n",
    "\n",
    "    # Rename the median NDVI image with year-month and suffix\n",
    "    return medianNdvi.rename(ee.Number(year).format().cat(\"_\").cat(ee.Number(month).format()).cat(ee.String(\"_median_ndvi\")))      "
   ]
  },
  {
   "cell_type": "code",
   "execution_count": 16,
   "metadata": {},
   "outputs": [],
   "source": [
    "# Function to get median NDVI for all year-month combinations\n",
    "def monthlyNdviMedianAll(year_month_combinations):\n",
    "  image = ee.Image().select([]) # Initialize empty image\n",
    "\n",
    "  for combination in year_month_combinations: # Loop through year-month combinations\n",
    "    medianNdvi = monthlyNdviMedian(combination) # Get median NDVI for each combination\n",
    "    image = image.addBands(medianNdvi) # Add the median NDVI to the empty image\n",
    "\n",
    "  return image"
   ]
  },
  {
   "cell_type": "code",
   "execution_count": 17,
   "metadata": {},
   "outputs": [],
   "source": [
    "year_month_combinations = get_year_month_combinations(2017, 2022, 1, 12)\n",
    "medianNdviStack = monthlyNdviMedianAll(year_month_combinations)\n",
    "#medianNdviStack"
   ]
  },
  {
   "cell_type": "code",
   "execution_count": 18,
   "metadata": {},
   "outputs": [],
   "source": [
    "#Map.addLayer(medianNdviStack.select([\"2017_5_median_ndvi\"]), ndviVis, \"median NDVI Stack\")"
   ]
  },
  {
   "cell_type": "markdown",
   "metadata": {},
   "source": [
    "## REMOVED AS ITS ONLY AVAILABLE FOR US.... \n",
    "#### GRIDMET DROUGHT: CONUS Drought Indices from GEE (4x4km spatial resolution)\n",
    "\n",
    "No where in the GEE was it noted that this is US only... Fully implemented but useless as it does not cover study area. Thanks google\n",
    "\n",
    "Here I use modifed code, following the same workflow from above. "
   ]
  },
  {
   "cell_type": "code",
   "execution_count": 19,
   "metadata": {},
   "outputs": [],
   "source": [
    "# Function to get GRIDMET for a given year-month combination (modified from Dirk)\n",
    "def monthlyGRIDMET(combination_string):\n",
    "    year, month = combination_string.split(\"_\") # Split year-month combination into year and month\n",
    "    year = int(year)\n",
    "    month = int(month)\n",
    "\n",
    "    # Filter images based on year and month\n",
    "    dateFilter = ee.Filter.And(ee.Filter.calendarRange(month, month, \"month\"),\n",
    "                               ee.Filter.date(ee.Date.fromYMD(year, 1, 1), \n",
    "                               ee.Date.fromYMD(year, 12, 31)))\n",
    "    \n",
    "    # Get Sentinal-2 image collection and calculate NDVI\n",
    "    GRIDMET = ee.ImageCollection(\"GRIDMET/DROUGHT\") \\\n",
    "             .filter(dateFilter) \\\n",
    "             .filterBounds(bbox) \\\n",
    "             .select(['spei30d', 'eddi30d', 'pdsi']) # select the relavent target bands (Standardized Precipitation Evapotranspiration Index (SPEI)(monthly), Evaporative Drought Demand Index (EDDI)(monthly), Palmer Drought Severity Index (pdsi))\n",
    "\n",
    "    GRIDMET = GRIDMET.median() \\\n",
    "              .rename(ee.Number(year).format().cat(\"_\").cat(ee.Number(month).format()).cat(ee.String(\"_SPEI\")), \\\n",
    "                      ee.Number(year).format().cat(\"_\").cat(ee.Number(month).format()).cat(ee.String(\"_EDDI\")), \\\n",
    "                      ee.Number(year).format().cat(\"_\").cat(ee.Number(month).format()).cat(ee.String(\"_PDSI\"))  \\\n",
    "                     )\n",
    "\n",
    "\n",
    "    # Rename the GRIDMET image with year-month and suffix\n",
    "    return GRIDMET#.rename(ee.Number(year).format().cat(\"_\").cat(ee.Number(month).format()).cat(ee.String(\"_GRIDMET\")))      "
   ]
  },
  {
   "cell_type": "code",
   "execution_count": 20,
   "metadata": {},
   "outputs": [],
   "source": [
    "# Function to get median NDVI for all year-month combinations\n",
    "def monthlyGRIDMETAll(year_month_combinations):\n",
    "  image = ee.Image().select([]) # Initialize empty image\n",
    "\n",
    "  for combination in year_month_combinations: # Loop through year-month combinations\n",
    "    GRIDMET = monthlyGRIDMET(combination) # Get median NDVI for each combination\n",
    "    image = image.addBands(GRIDMET) # Add the median NDVI to the empty image\n",
    "\n",
    "  return image"
   ]
  },
  {
   "cell_type": "code",
   "execution_count": 21,
   "metadata": {},
   "outputs": [],
   "source": [
    "#GRIDMETstack = monthlyGRIDMETAll(year_month_combinations)"
   ]
  },
  {
   "cell_type": "markdown",
   "metadata": {},
   "source": [
    "### Import OpenLandMap Predicted Hapludalfs Probability (Predicted USDA soil great groups at 250 m (probabilities))"
   ]
  },
  {
   "cell_type": "code",
   "execution_count": 22,
   "metadata": {},
   "outputs": [],
   "source": [
    "soil_type = ee.Image(\"OpenLandMap/SOL/SOL_GRTGROUP_USDA-SOILTAX-HAPLUDALFS_P/v01\") \\\n",
    "             .clip(bbox) "
   ]
  },
  {
   "cell_type": "code",
   "execution_count": 23,
   "metadata": {},
   "outputs": [],
   "source": [
    "soilvis = {\n",
    "  \"bands\": ['grtgroup'],\n",
    "  \"min\": 0.0,\n",
    "  \"max\": 35.0,\n",
    "  \"palette\": ['ffffb2', 'fecc5c', 'fd8d3c', 'f03b20', 'bd0026']\n",
    "}\n",
    "\n",
    "#Map.addLayer(soil_type, soilvis, \"soil_type\")"
   ]
  },
  {
   "cell_type": "markdown",
   "metadata": {},
   "source": [
    "#### OpenLandMap Soil Water Content at 33kPa (Field Capacity)"
   ]
  },
  {
   "cell_type": "code",
   "execution_count": 24,
   "metadata": {},
   "outputs": [],
   "source": [
    "field_capacity = ee.Image(\"OpenLandMap/SOL/SOL_WATERCONTENT-33KPA_USDA-4B1C_M/v01\").clip(bbox).reduce(ee.Reducer.median()).rename('field_capacity')"
   ]
  },
  {
   "cell_type": "markdown",
   "metadata": {},
   "source": [
    "OpenLandMap Soil Bulk Density"
   ]
  },
  {
   "cell_type": "code",
   "execution_count": 25,
   "metadata": {},
   "outputs": [],
   "source": [
    "soil_bulk_density = ee.Image(\"OpenLandMap/SOL/SOL_BULKDENS-FINEEARTH_USDA-4A1H_M/v02\").clip(bbox).reduce(ee.Reducer.median()).rename('soil_bulk_density')"
   ]
  },
  {
   "cell_type": "markdown",
   "metadata": {},
   "source": [
    "#### Import sample points"
   ]
  },
  {
   "cell_type": "code",
   "execution_count": 26,
   "metadata": {},
   "outputs": [],
   "source": [
    "pts = ogr.Open(\"/Users/shawn/Documents/humbolt/semester_05/geo_processing/MAP/sample_points_regular/sample_points_regular.shp\")\n",
    "lyr = pts.GetLayer()"
   ]
  },
  {
   "cell_type": "code",
   "execution_count": 27,
   "metadata": {},
   "outputs": [
    {
     "data": {
      "text/plain": [
       "['id', 'FID']"
      ]
     },
     "execution_count": 27,
     "metadata": {},
     "output_type": "execute_result"
    }
   ],
   "source": [
    "# check names in shp\n",
    "[field.name for field in lyr.schema]"
   ]
  },
  {
   "cell_type": "markdown",
   "metadata": {},
   "source": [
    "#### Subset the whole sample_points feature collection to avoid memory issues "
   ]
  },
  {
   "cell_type": "code",
   "execution_count": 28,
   "metadata": {},
   "outputs": [],
   "source": [
    "import random\n",
    "\n",
    "# Get the number of features in the layer\n",
    "feature_count = lyr.GetFeatureCount()\n",
    "\n",
    "# Generate a list of random indices\n",
    "sample_size = 5000 # change this to the desired number of samples\n",
    "random_indices = random.sample(range(feature_count), sample_size)\n",
    "\n",
    "# Create a new layer to store the selected features\n",
    "driver = ogr.GetDriverByName(\"ESRI Shapefile\")\n",
    "dst_ds = driver.CreateDataSource(\"/Users/shawn/Documents/humbolt/semester_05/geo_processing/MAP/sample_points_regular/sample_points_regular_subset.shp\")\n",
    "dst_layer = dst_ds.CreateLayer(\"selected_points\", lyr.GetSpatialRef(), ogr.wkbPoint)\n",
    "\n",
    "# Check if the lyr data source has an 'id' field\n",
    "src_layer_defn = lyr.GetLayerDefn()\n",
    "id_field_index = src_layer_defn.GetFieldIndex(\"id\")\n",
    "if id_field_index != -1:\n",
    "    # Add an 'id' field to the destination layer if it exists in the source layer\n",
    "    id_field = src_layer_defn.GetFieldDefn(id_field_index)\n",
    "    dst_layer.CreateField(id_field)\n",
    "\n",
    "# Loop through the random indices and extract the corresponding features\n",
    "for i in random_indices:\n",
    "    lyr.SetNextByIndex(i)\n",
    "    feature = lyr.GetNextFeature()\n",
    "    geom = feature.GetGeometryRef()\n",
    "    if geom.GetGeometryType() == ogr.wkbMultiPoint:\n",
    "        # Extract individual points from the multi-point feature\n",
    "        for j in range(geom.GetGeometryCount()):\n",
    "            point = geom.GetGeometryRef(j)\n",
    "            new_feature = ogr.Feature(dst_layer.GetLayerDefn())\n",
    "            new_feature.SetGeometry(point)\n",
    "            if id_field_index != -1:\n",
    "                new_feature.SetField(\"id\", feature.GetField(\"id\"))\n",
    "            dst_layer.CreateFeature(new_feature)\n",
    "    else:\n",
    "        new_feature = ogr.Feature(dst_layer.GetLayerDefn())\n",
    "        new_feature.SetGeometry(geom)\n",
    "        if id_field_index != -1:\n",
    "            new_feature.SetField(\"id\", feature.GetField(\"id\"))\n",
    "        dst_layer.CreateFeature(new_feature)\n",
    "\n",
    "# Clean up\n",
    "# src_ds = None\n",
    "dst_ds = None\n"
   ]
  },
  {
   "cell_type": "code",
   "execution_count": 29,
   "metadata": {},
   "outputs": [
    {
     "data": {
      "text/plain": [
       "['id']"
      ]
     },
     "execution_count": 29,
     "metadata": {},
     "output_type": "execute_result"
    }
   ],
   "source": [
    "\n",
    "pts = ogr.Open(\"/Users/shawn/Documents/humbolt/semester_05/geo_processing/MAP/sample_points_regular/sample_points_regular_subset.shp\")\n",
    "lyr2 = pts.GetLayer()\n",
    "# check names in shp\n",
    "[field.name for field in lyr2.schema]"
   ]
  },
  {
   "cell_type": "code",
   "execution_count": 30,
   "metadata": {},
   "outputs": [
    {
     "data": {
      "text/plain": [
       "5000"
      ]
     },
     "execution_count": 30,
     "metadata": {},
     "output_type": "execute_result"
    }
   ],
   "source": [
    "# creat google earth feature collection for server side processing\n",
    "featList = [] # Instantiate a list that we populate with the features\n",
    "feat = lyr2.GetNextFeature()\n",
    "while feat:\n",
    "    id = feat.GetField('id')\n",
    "    #print(id)\n",
    "    # -----------------------------------------\n",
    "    geom = feat.geometry()\n",
    "    geom_json = json.loads(geom.ExportToJson())\n",
    "    geom_coord = geom_json['coordinates']\n",
    "    geom_EE = ee.Geometry.Point(coords=geom_coord, proj=\"EPSG:5653\") # critical to hard code define the espg definition\n",
    "    # Create ee.Feature(), append to list\n",
    "    eeFeat = ee.Feature(geom_EE, {\"UniqueID\": id})\n",
    "    featList.append(eeFeat)\n",
    "\n",
    "    # -----------------------------------------\n",
    "    feat = lyr2.GetNextFeature()\n",
    "lyr2.ResetReading()\n",
    "\n",
    "len(featList)"
   ]
  },
  {
   "cell_type": "code",
   "execution_count": 31,
   "metadata": {},
   "outputs": [],
   "source": [
    "fc = ee.FeatureCollection(ee.List(featList))\n"
   ]
  },
  {
   "cell_type": "markdown",
   "metadata": {},
   "source": [
    "#### A unelagent but funcitonal method to rename bands from generic b1,b2,... to a combination of year month and data type (this allows subsequent filtering in the next step)"
   ]
  },
  {
   "cell_type": "code",
   "execution_count": 32,
   "metadata": {},
   "outputs": [],
   "source": [
    "years = [2017, 2018, 2019, 2020, 2021, 2022]\n",
    "months = [1, 2, 3, 4, 5, 6, 7, 8, 9, 10, 11, 12]\n",
    "\n",
    "band_names = [str(year) + \"_\" + str(month) + \"_drought_index\" for year in years for month in months]\n",
    "drought_index = drought_index.rename(ee.List(band_names))\n",
    "\n",
    "band_names = [str(year) + \"_\" + str(month) + \"_soil_moister\" for year in years for month in months]\n",
    "soil_moister = soil_moister.rename(ee.List(band_names))\n",
    "\n",
    "band_names = [str(year) + \"_\" + str(month) + \"_SPI\" for year in years for month in months]\n",
    "SPI = SPI.rename(ee.List(band_names))\n"
   ]
  },
  {
   "cell_type": "code",
   "execution_count": 33,
   "metadata": {},
   "outputs": [
    {
     "data": {
      "text/plain": [
       "ee.image.Image"
      ]
     },
     "execution_count": 33,
     "metadata": {},
     "output_type": "execute_result"
    }
   ],
   "source": [
    "allRas = medianNdviStack.addBands([drought_index, soil_moister, SPI, soil_type, field_capacity, soil_bulk_density])\n",
    "type(allRas)"
   ]
  },
  {
   "cell_type": "markdown",
   "metadata": {},
   "source": [
    "#### Subset each data source to contain only the relavent bands for each year and month combinaiton"
   ]
  },
  {
   "cell_type": "code",
   "execution_count": 34,
   "metadata": {},
   "outputs": [],
   "source": [
    "allRas_subsets = {}\n",
    "\n",
    "for year in years:\n",
    "    for month in months:\n",
    "        medianNdviStack = \"{}_{}_median_ndvi\".format(year, month)\n",
    "        drought_band = \"{}_{}_drought_index\".format(year, month)\n",
    "        soil_moister_band = \"{}_{}_soil_moister\".format(year, month)\n",
    "        SPI_band = \"{}_{}_SPI\".format(year, month)\n",
    "        soil_type = \"grtgroup\"\n",
    "        field_capacity = \"field_capacity\"\n",
    "        soil_bulk_density = \"soil_bulk_density\"\n",
    "        \n",
    "        \n",
    "        year_month_image = allRas.select([medianNdviStack, drought_band, soil_moister_band, SPI_band, soil_type,field_capacity, soil_bulk_density])\n",
    "        \n",
    "        key = \"{}_{}\".format(year, month)  # found on the interwebs. Neat, but dont if I like it or if its best pratice...\n",
    "        allRas_subsets[key] = year_month_image"
   ]
  },
  {
   "cell_type": "code",
   "execution_count": 35,
   "metadata": {},
   "outputs": [],
   "source": [
    "year_month = \"2017_5\" \n",
    "allRas_subset = allRas_subsets[year_month]\n"
   ]
  },
  {
   "cell_type": "code",
   "execution_count": 36,
   "metadata": {},
   "outputs": [],
   "source": [
    "band_names = allRas_subset.bandNames()\n",
    "#print('Band names:', band_names.getInfo())  # ee.List of band names"
   ]
  },
  {
   "cell_type": "markdown",
   "metadata": {},
   "source": [
    "#### Extract the raster data for the sample ponts "
   ]
  },
  {
   "cell_type": "code",
   "execution_count": 37,
   "metadata": {},
   "outputs": [],
   "source": [
    "vals = allRas_subset.sampleRegions(collection=fc, properties=['UniqueID'], scale=10, tileScale=4, geometries=False).getInfo()\n",
    "#vals"
   ]
  },
  {
   "cell_type": "code",
   "execution_count": 87,
   "metadata": {},
   "outputs": [
    {
     "data": {
      "text/html": [
       "<div>\n",
       "<style scoped>\n",
       "    .dataframe tbody tr th:only-of-type {\n",
       "        vertical-align: middle;\n",
       "    }\n",
       "\n",
       "    .dataframe tbody tr th {\n",
       "        vertical-align: top;\n",
       "    }\n",
       "\n",
       "    .dataframe thead th {\n",
       "        text-align: right;\n",
       "    }\n",
       "</style>\n",
       "<table border=\"1\" class=\"dataframe\">\n",
       "  <thead>\n",
       "    <tr style=\"text-align: right;\">\n",
       "      <th></th>\n",
       "      <th>2017_5_SPI</th>\n",
       "      <th>2017_5_drought_index</th>\n",
       "      <th>2017_5_median_ndvi</th>\n",
       "      <th>2017_5_soil_moister</th>\n",
       "      <th>UniqueID</th>\n",
       "      <th>field_capacity</th>\n",
       "      <th>grtgroup</th>\n",
       "      <th>soil_bulk_density</th>\n",
       "    </tr>\n",
       "  </thead>\n",
       "  <tbody>\n",
       "    <tr>\n",
       "      <th>0</th>\n",
       "      <td>-0.037208</td>\n",
       "      <td>2.666667</td>\n",
       "      <td>0.919937</td>\n",
       "      <td>64.666664</td>\n",
       "      <td>775849</td>\n",
       "      <td>25.0</td>\n",
       "      <td>25</td>\n",
       "      <td>146.5</td>\n",
       "    </tr>\n",
       "    <tr>\n",
       "      <th>0</th>\n",
       "      <td>0.155271</td>\n",
       "      <td>2.333333</td>\n",
       "      <td>0.842228</td>\n",
       "      <td>65.000000</td>\n",
       "      <td>405232</td>\n",
       "      <td>35.0</td>\n",
       "      <td>14</td>\n",
       "      <td>133.0</td>\n",
       "    </tr>\n",
       "    <tr>\n",
       "      <th>0</th>\n",
       "      <td>-0.456887</td>\n",
       "      <td>2.000000</td>\n",
       "      <td>0.752873</td>\n",
       "      <td>61.333332</td>\n",
       "      <td>1065135</td>\n",
       "      <td>25.5</td>\n",
       "      <td>19</td>\n",
       "      <td>147.5</td>\n",
       "    </tr>\n",
       "    <tr>\n",
       "      <th>0</th>\n",
       "      <td>0.756059</td>\n",
       "      <td>2.333333</td>\n",
       "      <td>0.804369</td>\n",
       "      <td>65.666664</td>\n",
       "      <td>472782</td>\n",
       "      <td>25.0</td>\n",
       "      <td>27</td>\n",
       "      <td>147.0</td>\n",
       "    </tr>\n",
       "    <tr>\n",
       "      <th>0</th>\n",
       "      <td>-0.010885</td>\n",
       "      <td>2.000000</td>\n",
       "      <td>0.910751</td>\n",
       "      <td>65.000000</td>\n",
       "      <td>428338</td>\n",
       "      <td>41.0</td>\n",
       "      <td>22</td>\n",
       "      <td>132.5</td>\n",
       "    </tr>\n",
       "  </tbody>\n",
       "</table>\n",
       "</div>"
      ],
      "text/plain": [
       "   2017_5_SPI  2017_5_drought_index  2017_5_median_ndvi  2017_5_soil_moister  \\\n",
       "0   -0.037208              2.666667            0.919937            64.666664   \n",
       "0    0.155271              2.333333            0.842228            65.000000   \n",
       "0   -0.456887              2.000000            0.752873            61.333332   \n",
       "0    0.756059              2.333333            0.804369            65.666664   \n",
       "0   -0.010885              2.000000            0.910751            65.000000   \n",
       "\n",
       "   UniqueID  field_capacity  grtgroup  soil_bulk_density  \n",
       "0    775849            25.0        25              146.5  \n",
       "0    405232            35.0        14              133.0  \n",
       "0   1065135            25.5        19              147.5  \n",
       "0    472782            25.0        27              147.0  \n",
       "0    428338            41.0        22              132.5  "
      ]
     },
     "execution_count": 87,
     "metadata": {},
     "output_type": "execute_result"
    }
   ],
   "source": [
    "flag = 0\n",
    "featureValues = vals['features']\n",
    "for f in featureValues:\n",
    " # Chekc here always the right order of the indices\n",
    "    prop = f['properties']\n",
    "    if flag == 0:\n",
    "        out_pd = pd.DataFrame(prop, index=[0])\n",
    "        flag = 1\n",
    "    else:\n",
    "        out_pd = pd.concat([out_pd, pd.DataFrame(prop, index=[0])])\n",
    "out_pd.head()"
   ]
  },
  {
   "cell_type": "markdown",
   "metadata": {},
   "source": [
    "## Split data (either random 30/70, or could use BB points to predict MV or visa versa)\n"
   ]
  },
  {
   "cell_type": "markdown",
   "metadata": {},
   "source": [
    "### Parameterize classifiers locally "
   ]
  },
  {
   "cell_type": "markdown",
   "metadata": {},
   "source": [
    "#### Extract feature target array\n"
   ]
  },
  {
   "cell_type": "code",
   "execution_count": 104,
   "metadata": {},
   "outputs": [],
   "source": [
    "from sklearn.model_selection import GridSearchCV\n",
    "from sklearn.ensemble import RandomForestRegressor\n",
    "from sklearn.model_selection import train_test_split\n",
    "from sklearn import metrics\n",
    "\n",
    "\n",
    "# Create the two arrays\n",
    "y = out_pd['2017_5_median_ndvi']\n",
    "X = out_pd.drop(['2017_5_median_ndvi', 'UniqueID'], axis=1)"
   ]
  },
  {
   "cell_type": "markdown",
   "metadata": {},
   "source": [
    "##### soil type renaming"
   ]
  },
  {
   "cell_type": "code",
   "execution_count": 105,
   "metadata": {},
   "outputs": [
    {
     "data": {
      "text/html": [
       "<div>\n",
       "<style scoped>\n",
       "    .dataframe tbody tr th:only-of-type {\n",
       "        vertical-align: middle;\n",
       "    }\n",
       "\n",
       "    .dataframe tbody tr th {\n",
       "        vertical-align: top;\n",
       "    }\n",
       "\n",
       "    .dataframe thead th {\n",
       "        text-align: right;\n",
       "    }\n",
       "</style>\n",
       "<table border=\"1\" class=\"dataframe\">\n",
       "  <thead>\n",
       "    <tr style=\"text-align: right;\">\n",
       "      <th></th>\n",
       "      <th>grtgroup</th>\n",
       "      <th>Color</th>\n",
       "      <th>soil_type</th>\n",
       "    </tr>\n",
       "  </thead>\n",
       "  <tbody>\n",
       "    <tr>\n",
       "      <th>0</th>\n",
       "      <td>0</td>\n",
       "      <td>FFFFFF</td>\n",
       "      <td>NODATA</td>\n",
       "    </tr>\n",
       "    <tr>\n",
       "      <th>1</th>\n",
       "      <td>1</td>\n",
       "      <td>ADFF2D</td>\n",
       "      <td>Albaqualfs</td>\n",
       "    </tr>\n",
       "    <tr>\n",
       "      <th>2</th>\n",
       "      <td>2</td>\n",
       "      <td>ADFF22</td>\n",
       "      <td>Cryaqualfs</td>\n",
       "    </tr>\n",
       "    <tr>\n",
       "      <th>3</th>\n",
       "      <td>4</td>\n",
       "      <td>A5FF2F</td>\n",
       "      <td>Durixeralfs</td>\n",
       "    </tr>\n",
       "    <tr>\n",
       "      <th>4</th>\n",
       "      <td>6</td>\n",
       "      <td>87FF37</td>\n",
       "      <td>Endoaqualfs</td>\n",
       "    </tr>\n",
       "  </tbody>\n",
       "</table>\n",
       "</div>"
      ],
      "text/plain": [
       "   grtgroup   Color    soil_type\n",
       "0         0  FFFFFF       NODATA\n",
       "1         1  ADFF2D   Albaqualfs\n",
       "2         2  ADFF22   Cryaqualfs\n",
       "3         4  A5FF2F  Durixeralfs\n",
       "4         6  87FF37  Endoaqualfs"
      ]
     },
     "execution_count": 105,
     "metadata": {},
     "output_type": "execute_result"
    }
   ],
   "source": [
    "soil_names = df = pd.read_csv(\"/Users/shawn/Documents/humbolt/semester_05/geo_processing/MAP/USDA Soil Taxonomy Great Groups.csv\")\n",
    "soil_names= soil_names.rename(columns={\"Value\": \"grtgroup\", \"Description\": \"soil_type\"})\n",
    "soil_names.head()"
   ]
  },
  {
   "cell_type": "code",
   "execution_count": 106,
   "metadata": {},
   "outputs": [
    {
     "data": {
      "text/html": [
       "<div>\n",
       "<style scoped>\n",
       "    .dataframe tbody tr th:only-of-type {\n",
       "        vertical-align: middle;\n",
       "    }\n",
       "\n",
       "    .dataframe tbody tr th {\n",
       "        vertical-align: top;\n",
       "    }\n",
       "\n",
       "    .dataframe thead th {\n",
       "        text-align: right;\n",
       "    }\n",
       "</style>\n",
       "<table border=\"1\" class=\"dataframe\">\n",
       "  <thead>\n",
       "    <tr style=\"text-align: right;\">\n",
       "      <th></th>\n",
       "      <th>2017_5_SPI</th>\n",
       "      <th>2017_5_drought_index</th>\n",
       "      <th>2017_5_soil_moister</th>\n",
       "      <th>field_capacity</th>\n",
       "      <th>soil_bulk_density</th>\n",
       "      <th>soil_type</th>\n",
       "    </tr>\n",
       "  </thead>\n",
       "  <tbody>\n",
       "    <tr>\n",
       "      <th>0</th>\n",
       "      <td>-0.037208</td>\n",
       "      <td>2.666667</td>\n",
       "      <td>64.666664</td>\n",
       "      <td>25.0</td>\n",
       "      <td>146.5</td>\n",
       "      <td>Natraqualfs</td>\n",
       "    </tr>\n",
       "    <tr>\n",
       "      <th>0</th>\n",
       "      <td>0.155271</td>\n",
       "      <td>2.333333</td>\n",
       "      <td>65.000000</td>\n",
       "      <td>35.0</td>\n",
       "      <td>133.0</td>\n",
       "      <td>Glossocryalfs</td>\n",
       "    </tr>\n",
       "    <tr>\n",
       "      <th>0</th>\n",
       "      <td>-0.456887</td>\n",
       "      <td>2.000000</td>\n",
       "      <td>61.333332</td>\n",
       "      <td>25.5</td>\n",
       "      <td>147.5</td>\n",
       "      <td>Haplustalfs</td>\n",
       "    </tr>\n",
       "    <tr>\n",
       "      <th>0</th>\n",
       "      <td>0.756059</td>\n",
       "      <td>2.333333</td>\n",
       "      <td>65.666664</td>\n",
       "      <td>25.0</td>\n",
       "      <td>147.0</td>\n",
       "      <td>Natrudalfs</td>\n",
       "    </tr>\n",
       "    <tr>\n",
       "      <th>0</th>\n",
       "      <td>-0.010885</td>\n",
       "      <td>2.000000</td>\n",
       "      <td>65.000000</td>\n",
       "      <td>41.0</td>\n",
       "      <td>132.5</td>\n",
       "      <td>NaN</td>\n",
       "    </tr>\n",
       "    <tr>\n",
       "      <th>...</th>\n",
       "      <td>...</td>\n",
       "      <td>...</td>\n",
       "      <td>...</td>\n",
       "      <td>...</td>\n",
       "      <td>...</td>\n",
       "      <td>...</td>\n",
       "    </tr>\n",
       "    <tr>\n",
       "      <th>0</th>\n",
       "      <td>-0.145000</td>\n",
       "      <td>1.666667</td>\n",
       "      <td>62.000000</td>\n",
       "      <td>24.0</td>\n",
       "      <td>151.0</td>\n",
       "      <td>NaN</td>\n",
       "    </tr>\n",
       "    <tr>\n",
       "      <th>0</th>\n",
       "      <td>0.125197</td>\n",
       "      <td>2.333333</td>\n",
       "      <td>66.000000</td>\n",
       "      <td>29.0</td>\n",
       "      <td>133.5</td>\n",
       "      <td>Glossudalfs</td>\n",
       "    </tr>\n",
       "    <tr>\n",
       "      <th>0</th>\n",
       "      <td>0.074870</td>\n",
       "      <td>1.666667</td>\n",
       "      <td>61.666668</td>\n",
       "      <td>29.0</td>\n",
       "      <td>135.5</td>\n",
       "      <td>Fragiaqualfs</td>\n",
       "    </tr>\n",
       "    <tr>\n",
       "      <th>0</th>\n",
       "      <td>-0.061427</td>\n",
       "      <td>1.666667</td>\n",
       "      <td>66.333336</td>\n",
       "      <td>25.0</td>\n",
       "      <td>146.0</td>\n",
       "      <td>Haploxeralfs</td>\n",
       "    </tr>\n",
       "    <tr>\n",
       "      <th>0</th>\n",
       "      <td>-0.419968</td>\n",
       "      <td>2.000000</td>\n",
       "      <td>61.666668</td>\n",
       "      <td>24.5</td>\n",
       "      <td>143.0</td>\n",
       "      <td>NaN</td>\n",
       "    </tr>\n",
       "  </tbody>\n",
       "</table>\n",
       "<p>4804 rows × 6 columns</p>\n",
       "</div>"
      ],
      "text/plain": [
       "    2017_5_SPI  2017_5_drought_index  2017_5_soil_moister  field_capacity  \\\n",
       "0    -0.037208              2.666667            64.666664            25.0   \n",
       "0     0.155271              2.333333            65.000000            35.0   \n",
       "0    -0.456887              2.000000            61.333332            25.5   \n",
       "0     0.756059              2.333333            65.666664            25.0   \n",
       "0    -0.010885              2.000000            65.000000            41.0   \n",
       "..         ...                   ...                  ...             ...   \n",
       "0    -0.145000              1.666667            62.000000            24.0   \n",
       "0     0.125197              2.333333            66.000000            29.0   \n",
       "0     0.074870              1.666667            61.666668            29.0   \n",
       "0    -0.061427              1.666667            66.333336            25.0   \n",
       "0    -0.419968              2.000000            61.666668            24.5   \n",
       "\n",
       "    soil_bulk_density      soil_type  \n",
       "0               146.5    Natraqualfs  \n",
       "0               133.0  Glossocryalfs  \n",
       "0               147.5    Haplustalfs  \n",
       "0               147.0     Natrudalfs  \n",
       "0               132.5            NaN  \n",
       "..                ...            ...  \n",
       "0               151.0            NaN  \n",
       "0               133.5    Glossudalfs  \n",
       "0               135.5   Fragiaqualfs  \n",
       "0               146.0   Haploxeralfs  \n",
       "0               143.0            NaN  \n",
       "\n",
       "[4804 rows x 6 columns]"
      ]
     },
     "execution_count": 106,
     "metadata": {},
     "output_type": "execute_result"
    }
   ],
   "source": [
    "X= X.join(soil_names[[\"grtgroup\",\"soil_type\"]].set_index('grtgroup'), on='grtgroup').drop(\"grtgroup\", axis=1)\n",
    "X"
   ]
  },
  {
   "cell_type": "markdown",
   "metadata": {},
   "source": [
    "#### standardize the feature vector (z-transformation (zero mean and unit variance))\n",
    "The data need to be scaled to remove unit and size imbalances between variables. Failing to do so would overweight some variables predictive significance soely based on there numeric size."
   ]
  },
  {
   "cell_type": "code",
   "execution_count": 108,
   "metadata": {},
   "outputs": [],
   "source": [
    "from sklearn import preprocessing\n",
    "from sklearn.preprocessing import StandardScaler\n",
    "scaler = preprocessing.StandardScaler().fit(X.drop(\"soil_type\", axis=1))\n",
    "#X = scaler.transform(X)"
   ]
  },
  {
   "cell_type": "code",
   "execution_count": 109,
   "metadata": {},
   "outputs": [
    {
     "data": {
      "text/html": [
       "<div>\n",
       "<style scoped>\n",
       "    .dataframe tbody tr th:only-of-type {\n",
       "        vertical-align: middle;\n",
       "    }\n",
       "\n",
       "    .dataframe tbody tr th {\n",
       "        vertical-align: top;\n",
       "    }\n",
       "\n",
       "    .dataframe thead th {\n",
       "        text-align: right;\n",
       "    }\n",
       "</style>\n",
       "<table border=\"1\" class=\"dataframe\">\n",
       "  <thead>\n",
       "    <tr style=\"text-align: right;\">\n",
       "      <th></th>\n",
       "      <th>2017_5_SPI</th>\n",
       "      <th>2017_5_drought_index</th>\n",
       "      <th>2017_5_soil_moister</th>\n",
       "      <th>field_capacity</th>\n",
       "      <th>soil_bulk_density</th>\n",
       "      <th>soil_type</th>\n",
       "    </tr>\n",
       "  </thead>\n",
       "  <tbody>\n",
       "    <tr>\n",
       "      <th>0</th>\n",
       "      <td>-0.037208</td>\n",
       "      <td>2.666667</td>\n",
       "      <td>64.666664</td>\n",
       "      <td>25.0</td>\n",
       "      <td>146.5</td>\n",
       "      <td>Natraqualfs</td>\n",
       "    </tr>\n",
       "    <tr>\n",
       "      <th>0</th>\n",
       "      <td>0.155271</td>\n",
       "      <td>2.333333</td>\n",
       "      <td>65.000000</td>\n",
       "      <td>35.0</td>\n",
       "      <td>133.0</td>\n",
       "      <td>Glossocryalfs</td>\n",
       "    </tr>\n",
       "    <tr>\n",
       "      <th>0</th>\n",
       "      <td>-0.456887</td>\n",
       "      <td>2.000000</td>\n",
       "      <td>61.333332</td>\n",
       "      <td>25.5</td>\n",
       "      <td>147.5</td>\n",
       "      <td>Haplustalfs</td>\n",
       "    </tr>\n",
       "    <tr>\n",
       "      <th>0</th>\n",
       "      <td>0.756059</td>\n",
       "      <td>2.333333</td>\n",
       "      <td>65.666664</td>\n",
       "      <td>25.0</td>\n",
       "      <td>147.0</td>\n",
       "      <td>Natrudalfs</td>\n",
       "    </tr>\n",
       "    <tr>\n",
       "      <th>0</th>\n",
       "      <td>-0.010885</td>\n",
       "      <td>2.000000</td>\n",
       "      <td>65.000000</td>\n",
       "      <td>41.0</td>\n",
       "      <td>132.5</td>\n",
       "      <td>NaN</td>\n",
       "    </tr>\n",
       "  </tbody>\n",
       "</table>\n",
       "</div>"
      ],
      "text/plain": [
       "   2017_5_SPI  2017_5_drought_index  2017_5_soil_moister  field_capacity  \\\n",
       "0   -0.037208              2.666667            64.666664            25.0   \n",
       "0    0.155271              2.333333            65.000000            35.0   \n",
       "0   -0.456887              2.000000            61.333332            25.5   \n",
       "0    0.756059              2.333333            65.666664            25.0   \n",
       "0   -0.010885              2.000000            65.000000            41.0   \n",
       "\n",
       "   soil_bulk_density      soil_type  \n",
       "0              146.5    Natraqualfs  \n",
       "0              133.0  Glossocryalfs  \n",
       "0              147.5    Haplustalfs  \n",
       "0              147.0     Natrudalfs  \n",
       "0              132.5            NaN  "
      ]
     },
     "execution_count": 109,
     "metadata": {},
     "output_type": "execute_result"
    }
   ],
   "source": [
    "X.head()"
   ]
  },
  {
   "cell_type": "code",
   "execution_count": 110,
   "metadata": {},
   "outputs": [],
   "source": [
    "X[[\"2017_5_SPI\",\"2017_5_drought_index\",\"2017_5_soil_moister\",\"field_capacity\",\"soil_bulk_density\"]] = StandardScaler().fit_transform(X[[\"2017_5_SPI\",\"2017_5_drought_index\",\"2017_5_soil_moister\",\"field_capacity\",\"soil_bulk_density\"]])\n"
   ]
  },
  {
   "cell_type": "code",
   "execution_count": 111,
   "metadata": {},
   "outputs": [
    {
     "data": {
      "text/html": [
       "<div>\n",
       "<style scoped>\n",
       "    .dataframe tbody tr th:only-of-type {\n",
       "        vertical-align: middle;\n",
       "    }\n",
       "\n",
       "    .dataframe tbody tr th {\n",
       "        vertical-align: top;\n",
       "    }\n",
       "\n",
       "    .dataframe thead th {\n",
       "        text-align: right;\n",
       "    }\n",
       "</style>\n",
       "<table border=\"1\" class=\"dataframe\">\n",
       "  <thead>\n",
       "    <tr style=\"text-align: right;\">\n",
       "      <th></th>\n",
       "      <th>2017_5_SPI</th>\n",
       "      <th>2017_5_drought_index</th>\n",
       "      <th>2017_5_soil_moister</th>\n",
       "      <th>field_capacity</th>\n",
       "      <th>soil_bulk_density</th>\n",
       "      <th>soil_type_Albaqualfs</th>\n",
       "      <th>soil_type_Cryaqualfs</th>\n",
       "      <th>soil_type_Durixeralfs</th>\n",
       "      <th>soil_type_Endoaqualfs</th>\n",
       "      <th>soil_type_Epiaqualfs</th>\n",
       "      <th>...</th>\n",
       "      <th>soil_type_Haplustalfs</th>\n",
       "      <th>soil_type_Natraqualfs</th>\n",
       "      <th>soil_type_Natrixeralfs</th>\n",
       "      <th>soil_type_Natrudalfs</th>\n",
       "      <th>soil_type_Natrustalfs</th>\n",
       "      <th>soil_type_Palecryalfs</th>\n",
       "      <th>soil_type_Paleudalfs</th>\n",
       "      <th>soil_type_Paleustalfs</th>\n",
       "      <th>soil_type_Palexeralfs</th>\n",
       "      <th>soil_type_Rhodustalfs</th>\n",
       "    </tr>\n",
       "  </thead>\n",
       "  <tbody>\n",
       "    <tr>\n",
       "      <th>0</th>\n",
       "      <td>-0.191129</td>\n",
       "      <td>1.782676</td>\n",
       "      <td>0.792517</td>\n",
       "      <td>-1.044509</td>\n",
       "      <td>1.048266</td>\n",
       "      <td>0</td>\n",
       "      <td>0</td>\n",
       "      <td>0</td>\n",
       "      <td>0</td>\n",
       "      <td>0</td>\n",
       "      <td>...</td>\n",
       "      <td>0</td>\n",
       "      <td>1</td>\n",
       "      <td>0</td>\n",
       "      <td>0</td>\n",
       "      <td>0</td>\n",
       "      <td>0</td>\n",
       "      <td>0</td>\n",
       "      <td>0</td>\n",
       "      <td>0</td>\n",
       "      <td>0</td>\n",
       "    </tr>\n",
       "    <tr>\n",
       "      <th>0</th>\n",
       "      <td>0.859125</td>\n",
       "      <td>1.013709</td>\n",
       "      <td>0.949589</td>\n",
       "      <td>1.149169</td>\n",
       "      <td>-0.411751</td>\n",
       "      <td>0</td>\n",
       "      <td>0</td>\n",
       "      <td>0</td>\n",
       "      <td>0</td>\n",
       "      <td>0</td>\n",
       "      <td>...</td>\n",
       "      <td>0</td>\n",
       "      <td>0</td>\n",
       "      <td>0</td>\n",
       "      <td>0</td>\n",
       "      <td>0</td>\n",
       "      <td>0</td>\n",
       "      <td>0</td>\n",
       "      <td>0</td>\n",
       "      <td>0</td>\n",
       "      <td>0</td>\n",
       "    </tr>\n",
       "    <tr>\n",
       "      <th>0</th>\n",
       "      <td>-2.481080</td>\n",
       "      <td>0.244744</td>\n",
       "      <td>-0.778198</td>\n",
       "      <td>-0.934825</td>\n",
       "      <td>1.156416</td>\n",
       "      <td>0</td>\n",
       "      <td>0</td>\n",
       "      <td>0</td>\n",
       "      <td>0</td>\n",
       "      <td>0</td>\n",
       "      <td>...</td>\n",
       "      <td>1</td>\n",
       "      <td>0</td>\n",
       "      <td>0</td>\n",
       "      <td>0</td>\n",
       "      <td>0</td>\n",
       "      <td>0</td>\n",
       "      <td>0</td>\n",
       "      <td>0</td>\n",
       "      <td>0</td>\n",
       "      <td>0</td>\n",
       "    </tr>\n",
       "    <tr>\n",
       "      <th>0</th>\n",
       "      <td>4.137282</td>\n",
       "      <td>1.013709</td>\n",
       "      <td>1.263731</td>\n",
       "      <td>-1.044509</td>\n",
       "      <td>1.102341</td>\n",
       "      <td>0</td>\n",
       "      <td>0</td>\n",
       "      <td>0</td>\n",
       "      <td>0</td>\n",
       "      <td>0</td>\n",
       "      <td>...</td>\n",
       "      <td>0</td>\n",
       "      <td>0</td>\n",
       "      <td>0</td>\n",
       "      <td>1</td>\n",
       "      <td>0</td>\n",
       "      <td>0</td>\n",
       "      <td>0</td>\n",
       "      <td>0</td>\n",
       "      <td>0</td>\n",
       "      <td>0</td>\n",
       "    </tr>\n",
       "    <tr>\n",
       "      <th>0</th>\n",
       "      <td>-0.047498</td>\n",
       "      <td>0.244744</td>\n",
       "      <td>0.949589</td>\n",
       "      <td>2.465376</td>\n",
       "      <td>-0.465826</td>\n",
       "      <td>0</td>\n",
       "      <td>0</td>\n",
       "      <td>0</td>\n",
       "      <td>0</td>\n",
       "      <td>0</td>\n",
       "      <td>...</td>\n",
       "      <td>0</td>\n",
       "      <td>0</td>\n",
       "      <td>0</td>\n",
       "      <td>0</td>\n",
       "      <td>0</td>\n",
       "      <td>0</td>\n",
       "      <td>0</td>\n",
       "      <td>0</td>\n",
       "      <td>0</td>\n",
       "      <td>0</td>\n",
       "    </tr>\n",
       "  </tbody>\n",
       "</table>\n",
       "<p>5 rows × 30 columns</p>\n",
       "</div>"
      ],
      "text/plain": [
       "   2017_5_SPI  2017_5_drought_index  2017_5_soil_moister  field_capacity  \\\n",
       "0   -0.191129              1.782676             0.792517       -1.044509   \n",
       "0    0.859125              1.013709             0.949589        1.149169   \n",
       "0   -2.481080              0.244744            -0.778198       -0.934825   \n",
       "0    4.137282              1.013709             1.263731       -1.044509   \n",
       "0   -0.047498              0.244744             0.949589        2.465376   \n",
       "\n",
       "   soil_bulk_density  soil_type_Albaqualfs  soil_type_Cryaqualfs  \\\n",
       "0           1.048266                     0                     0   \n",
       "0          -0.411751                     0                     0   \n",
       "0           1.156416                     0                     0   \n",
       "0           1.102341                     0                     0   \n",
       "0          -0.465826                     0                     0   \n",
       "\n",
       "   soil_type_Durixeralfs  soil_type_Endoaqualfs  soil_type_Epiaqualfs  ...  \\\n",
       "0                      0                      0                     0  ...   \n",
       "0                      0                      0                     0  ...   \n",
       "0                      0                      0                     0  ...   \n",
       "0                      0                      0                     0  ...   \n",
       "0                      0                      0                     0  ...   \n",
       "\n",
       "   soil_type_Haplustalfs  soil_type_Natraqualfs  soil_type_Natrixeralfs  \\\n",
       "0                      0                      1                       0   \n",
       "0                      0                      0                       0   \n",
       "0                      1                      0                       0   \n",
       "0                      0                      0                       0   \n",
       "0                      0                      0                       0   \n",
       "\n",
       "   soil_type_Natrudalfs  soil_type_Natrustalfs  soil_type_Palecryalfs  \\\n",
       "0                     0                      0                      0   \n",
       "0                     0                      0                      0   \n",
       "0                     0                      0                      0   \n",
       "0                     1                      0                      0   \n",
       "0                     0                      0                      0   \n",
       "\n",
       "   soil_type_Paleudalfs  soil_type_Paleustalfs  soil_type_Palexeralfs  \\\n",
       "0                     0                      0                      0   \n",
       "0                     0                      0                      0   \n",
       "0                     0                      0                      0   \n",
       "0                     0                      0                      0   \n",
       "0                     0                      0                      0   \n",
       "\n",
       "   soil_type_Rhodustalfs  \n",
       "0                      0  \n",
       "0                      0  \n",
       "0                      0  \n",
       "0                      0  \n",
       "0                      0  \n",
       "\n",
       "[5 rows x 30 columns]"
      ]
     },
     "execution_count": 111,
     "metadata": {},
     "output_type": "execute_result"
    }
   ],
   "source": [
    "# One-hot encode the data using pandas get_dummies\n",
    "X['soil_type'] = pd.Categorical(X.soil_type)\n",
    "X = pd.get_dummies(X, prefix='soil_type')\n",
    "# Display the first 5 rows of the last 12 columns\n",
    "X.head()"
   ]
  },
  {
   "cell_type": "markdown",
   "metadata": {},
   "source": [
    "#### Tune hyperparameters\n",
    "\n",
    "Shifted from a grid search to a random sampleling of the grid. Seems to be both quicker and provide better estimates, as a effecitvely a larger grid can be searched."
   ]
  },
  {
   "cell_type": "code",
   "execution_count": 137,
   "metadata": {},
   "outputs": [
    {
     "ename": "TypeError",
     "evalue": "Parameter grid for parameter 'n_estimators' needs to be a list or a numpy array, but got <scipy.stats._distn_infrastructure.rv_continuous_frozen object at 0x7faa4b85e680> (of type rv_continuous_frozen) instead. Single values need to be wrapped in a list with one element.",
     "output_type": "error",
     "traceback": [
      "\u001b[0;31m---------------------------------------------------------------------------\u001b[0m",
      "\u001b[0;31mTypeError\u001b[0m                                 Traceback (most recent call last)",
      "Cell \u001b[0;32mIn [137], line 11\u001b[0m\n\u001b[1;32m      6\u001b[0m RF \u001b[39m=\u001b[39m RandomForestRegressor(random_state\u001b[39m=\u001b[39m\u001b[39m1\u001b[39m)\n\u001b[1;32m      7\u001b[0m param_grid \u001b[39m=\u001b[39m {\u001b[39m'\u001b[39m\u001b[39mn_estimators\u001b[39m\u001b[39m'\u001b[39m: sp_rand(),\u001b[39m# 'numberOfTrees\u001b[39;00m\n\u001b[1;32m      8\u001b[0m               \u001b[39m'\u001b[39m\u001b[39mmax_features\u001b[39m\u001b[39m'\u001b[39m: sp_rand(),\u001b[39m# 'variablesPerSplit'\u001b[39;00m\n\u001b[1;32m      9\u001b[0m               \u001b[39m'\u001b[39m\u001b[39mmin_samples_split\u001b[39m\u001b[39m'\u001b[39m: sp_rand(), \u001b[39m# minLeafPopulation\u001b[39;00m\n\u001b[1;32m     10\u001b[0m               \u001b[39m'\u001b[39m\u001b[39mmax_depth\u001b[39m\u001b[39m'\u001b[39m: sp_rand()} \u001b[39m# maxNodes\u001b[39;00m\n\u001b[0;32m---> 11\u001b[0m RF_cv \u001b[39m=\u001b[39m GridSearchCV(RF, param_grid\u001b[39m=\u001b[39;49mparam_grid, cv\u001b[39m=\u001b[39;49m\u001b[39m3\u001b[39;49m, refit\u001b[39m=\u001b[39;49m\u001b[39mTrue\u001b[39;49;00m, n_jobs\u001b[39m=\u001b[39;49m\u001b[39m8\u001b[39;49m)\u001b[39m.\u001b[39;49mfit(X, y)\n",
      "File \u001b[0;32m~/opt/anaconda3/envs/anaconda_env/lib/python3.10/site-packages/sklearn/model_selection/_search.py:875\u001b[0m, in \u001b[0;36mBaseSearchCV.fit\u001b[0;34m(self, X, y, groups, **fit_params)\u001b[0m\n\u001b[1;32m    869\u001b[0m     results \u001b[39m=\u001b[39m \u001b[39mself\u001b[39m\u001b[39m.\u001b[39m_format_results(\n\u001b[1;32m    870\u001b[0m         all_candidate_params, n_splits, all_out, all_more_results\n\u001b[1;32m    871\u001b[0m     )\n\u001b[1;32m    873\u001b[0m     \u001b[39mreturn\u001b[39;00m results\n\u001b[0;32m--> 875\u001b[0m \u001b[39mself\u001b[39;49m\u001b[39m.\u001b[39;49m_run_search(evaluate_candidates)\n\u001b[1;32m    877\u001b[0m \u001b[39m# multimetric is determined here because in the case of a callable\u001b[39;00m\n\u001b[1;32m    878\u001b[0m \u001b[39m# self.scoring the return type is only known after calling\u001b[39;00m\n\u001b[1;32m    879\u001b[0m first_test_score \u001b[39m=\u001b[39m all_out[\u001b[39m0\u001b[39m][\u001b[39m\"\u001b[39m\u001b[39mtest_scores\u001b[39m\u001b[39m\"\u001b[39m]\n",
      "File \u001b[0;32m~/opt/anaconda3/envs/anaconda_env/lib/python3.10/site-packages/sklearn/model_selection/_search.py:1379\u001b[0m, in \u001b[0;36mGridSearchCV._run_search\u001b[0;34m(self, evaluate_candidates)\u001b[0m\n\u001b[1;32m   1377\u001b[0m \u001b[39mdef\u001b[39;00m \u001b[39m_run_search\u001b[39m(\u001b[39mself\u001b[39m, evaluate_candidates):\n\u001b[1;32m   1378\u001b[0m     \u001b[39m\"\"\"Search all candidates in param_grid\"\"\"\u001b[39;00m\n\u001b[0;32m-> 1379\u001b[0m     evaluate_candidates(ParameterGrid(\u001b[39mself\u001b[39;49m\u001b[39m.\u001b[39;49mparam_grid))\n",
      "File \u001b[0;32m~/opt/anaconda3/envs/anaconda_env/lib/python3.10/site-packages/sklearn/model_selection/_search.py:118\u001b[0m, in \u001b[0;36mParameterGrid.__init__\u001b[0;34m(self, param_grid)\u001b[0m\n\u001b[1;32m    111\u001b[0m     \u001b[39mraise\u001b[39;00m \u001b[39mValueError\u001b[39;00m(\n\u001b[1;32m    112\u001b[0m         \u001b[39mf\u001b[39m\u001b[39m\"\u001b[39m\u001b[39mParameter array for \u001b[39m\u001b[39m{\u001b[39;00mkey\u001b[39m!r}\u001b[39;00m\u001b[39m should be one-dimensional, got:\u001b[39m\u001b[39m\"\u001b[39m\n\u001b[1;32m    113\u001b[0m         \u001b[39mf\u001b[39m\u001b[39m\"\u001b[39m\u001b[39m \u001b[39m\u001b[39m{\u001b[39;00mvalue\u001b[39m!r}\u001b[39;00m\u001b[39m with shape \u001b[39m\u001b[39m{\u001b[39;00mvalue\u001b[39m.\u001b[39mshape\u001b[39m}\u001b[39;00m\u001b[39m\"\u001b[39m\n\u001b[1;32m    114\u001b[0m     )\n\u001b[1;32m    115\u001b[0m \u001b[39mif\u001b[39;00m \u001b[39misinstance\u001b[39m(value, \u001b[39mstr\u001b[39m) \u001b[39mor\u001b[39;00m \u001b[39mnot\u001b[39;00m \u001b[39misinstance\u001b[39m(\n\u001b[1;32m    116\u001b[0m     value, (np\u001b[39m.\u001b[39mndarray, Sequence)\n\u001b[1;32m    117\u001b[0m ):\n\u001b[0;32m--> 118\u001b[0m     \u001b[39mraise\u001b[39;00m \u001b[39mTypeError\u001b[39;00m(\n\u001b[1;32m    119\u001b[0m         \u001b[39mf\u001b[39m\u001b[39m\"\u001b[39m\u001b[39mParameter grid for parameter \u001b[39m\u001b[39m{\u001b[39;00mkey\u001b[39m!r}\u001b[39;00m\u001b[39m needs to be a list or a\u001b[39m\u001b[39m\"\u001b[39m\n\u001b[1;32m    120\u001b[0m         \u001b[39mf\u001b[39m\u001b[39m\"\u001b[39m\u001b[39m numpy array, but got \u001b[39m\u001b[39m{\u001b[39;00mvalue\u001b[39m!r}\u001b[39;00m\u001b[39m (of type \u001b[39m\u001b[39m\"\u001b[39m\n\u001b[1;32m    121\u001b[0m         \u001b[39mf\u001b[39m\u001b[39m\"\u001b[39m\u001b[39m{\u001b[39;00m\u001b[39mtype\u001b[39m(value)\u001b[39m.\u001b[39m\u001b[39m__name__\u001b[39m\u001b[39m}\u001b[39;00m\u001b[39m) instead. Single values \u001b[39m\u001b[39m\"\u001b[39m\n\u001b[1;32m    122\u001b[0m         \u001b[39m\"\u001b[39m\u001b[39mneed to be wrapped in a list with one element.\u001b[39m\u001b[39m\"\u001b[39m\n\u001b[1;32m    123\u001b[0m     )\n\u001b[1;32m    124\u001b[0m \u001b[39mif\u001b[39;00m \u001b[39mlen\u001b[39m(value) \u001b[39m==\u001b[39m \u001b[39m0\u001b[39m:\n\u001b[1;32m    125\u001b[0m     \u001b[39mraise\u001b[39;00m \u001b[39mValueError\u001b[39;00m(\n\u001b[1;32m    126\u001b[0m         \u001b[39mf\u001b[39m\u001b[39m\"\u001b[39m\u001b[39mParameter grid for parameter \u001b[39m\u001b[39m{\u001b[39;00mkey\u001b[39m!r}\u001b[39;00m\u001b[39m need \u001b[39m\u001b[39m\"\u001b[39m\n\u001b[1;32m    127\u001b[0m         \u001b[39mf\u001b[39m\u001b[39m\"\u001b[39m\u001b[39mto be a non-empty sequence, got: \u001b[39m\u001b[39m{\u001b[39;00mvalue\u001b[39m!r}\u001b[39;00m\u001b[39m\"\u001b[39m\n\u001b[1;32m    128\u001b[0m     )\n",
      "\u001b[0;31mTypeError\u001b[0m: Parameter grid for parameter 'n_estimators' needs to be a list or a numpy array, but got <scipy.stats._distn_infrastructure.rv_continuous_frozen object at 0x7faa4b85e680> (of type rv_continuous_frozen) instead. Single values need to be wrapped in a list with one element."
     ]
    }
   ],
   "source": [
    "from sklearn.model_selection import RandomizedSearchCV\n",
    "\n",
    "# Create a classifier instance\n",
    "RF = RandomForestRegressor(random_state=1)\n",
    "param_grid = {'n_estimators': [10, 25, 50, 75, 100],# 'numberOfTrees\n",
    "              'max_features': [5, 10, 25, 'sqrt'],# 'variablesPerSplit'\n",
    "              'min_samples_split': [5, 10, 15, 25], # minLeafPopulation\n",
    "              'max_depth': [5, 10, 20, 50]} # maxNodes\n",
    "#RF_cv = GridSearchCV(RF, param_grid=param_grid, cv=3, refit=True, n_jobs=8).fit(X, y)"
   ]
  },
  {
   "cell_type": "code",
   "execution_count": 154,
   "metadata": {},
   "outputs": [
    {
     "name": "stderr",
     "output_type": "stream",
     "text": [
      "/Users/shawn/opt/anaconda3/envs/anaconda_env/lib/python3.10/site-packages/sklearn/ensemble/_forest.py:416: FutureWarning: `max_features='auto'` has been deprecated in 1.1 and will be removed in 1.3. To keep the past behaviour, explicitly set `max_features=1.0` or remove this parameter as it is also the default value for RandomForestRegressors and ExtraTreesRegressors.\n",
      "  warn(\n",
      "/Users/shawn/opt/anaconda3/envs/anaconda_env/lib/python3.10/site-packages/sklearn/ensemble/_forest.py:416: FutureWarning: `max_features='auto'` has been deprecated in 1.1 and will be removed in 1.3. To keep the past behaviour, explicitly set `max_features=1.0` or remove this parameter as it is also the default value for RandomForestRegressors and ExtraTreesRegressors.\n",
      "  warn(\n",
      "/Users/shawn/opt/anaconda3/envs/anaconda_env/lib/python3.10/site-packages/sklearn/ensemble/_forest.py:416: FutureWarning: `max_features='auto'` has been deprecated in 1.1 and will be removed in 1.3. To keep the past behaviour, explicitly set `max_features=1.0` or remove this parameter as it is also the default value for RandomForestRegressors and ExtraTreesRegressors.\n",
      "  warn(\n",
      "/Users/shawn/opt/anaconda3/envs/anaconda_env/lib/python3.10/site-packages/sklearn/ensemble/_forest.py:416: FutureWarning: `max_features='auto'` has been deprecated in 1.1 and will be removed in 1.3. To keep the past behaviour, explicitly set `max_features=1.0` or remove this parameter as it is also the default value for RandomForestRegressors and ExtraTreesRegressors.\n",
      "  warn(\n",
      "/Users/shawn/opt/anaconda3/envs/anaconda_env/lib/python3.10/site-packages/sklearn/ensemble/_forest.py:416: FutureWarning: `max_features='auto'` has been deprecated in 1.1 and will be removed in 1.3. To keep the past behaviour, explicitly set `max_features=1.0` or remove this parameter as it is also the default value for RandomForestRegressors and ExtraTreesRegressors.\n",
      "  warn(\n",
      "/Users/shawn/opt/anaconda3/envs/anaconda_env/lib/python3.10/site-packages/sklearn/ensemble/_forest.py:416: FutureWarning: `max_features='auto'` has been deprecated in 1.1 and will be removed in 1.3. To keep the past behaviour, explicitly set `max_features=1.0` or remove this parameter as it is also the default value for RandomForestRegressors and ExtraTreesRegressors.\n",
      "  warn(\n",
      "/Users/shawn/opt/anaconda3/envs/anaconda_env/lib/python3.10/site-packages/sklearn/ensemble/_forest.py:416: FutureWarning: `max_features='auto'` has been deprecated in 1.1 and will be removed in 1.3. To keep the past behaviour, explicitly set `max_features=1.0` or remove this parameter as it is also the default value for RandomForestRegressors and ExtraTreesRegressors.\n",
      "  warn(\n",
      "/Users/shawn/opt/anaconda3/envs/anaconda_env/lib/python3.10/site-packages/sklearn/ensemble/_forest.py:416: FutureWarning: `max_features='auto'` has been deprecated in 1.1 and will be removed in 1.3. To keep the past behaviour, explicitly set `max_features=1.0` or remove this parameter as it is also the default value for RandomForestRegressors and ExtraTreesRegressors.\n",
      "  warn(\n",
      "/Users/shawn/opt/anaconda3/envs/anaconda_env/lib/python3.10/site-packages/sklearn/ensemble/_forest.py:416: FutureWarning: `max_features='auto'` has been deprecated in 1.1 and will be removed in 1.3. To keep the past behaviour, explicitly set `max_features=1.0` or remove this parameter as it is also the default value for RandomForestRegressors and ExtraTreesRegressors.\n",
      "  warn(\n",
      "/Users/shawn/opt/anaconda3/envs/anaconda_env/lib/python3.10/site-packages/sklearn/ensemble/_forest.py:416: FutureWarning: `max_features='auto'` has been deprecated in 1.1 and will be removed in 1.3. To keep the past behaviour, explicitly set `max_features=1.0` or remove this parameter as it is also the default value for RandomForestRegressors and ExtraTreesRegressors.\n",
      "  warn(\n",
      "/Users/shawn/opt/anaconda3/envs/anaconda_env/lib/python3.10/site-packages/sklearn/ensemble/_forest.py:416: FutureWarning: `max_features='auto'` has been deprecated in 1.1 and will be removed in 1.3. To keep the past behaviour, explicitly set `max_features=1.0` or remove this parameter as it is also the default value for RandomForestRegressors and ExtraTreesRegressors.\n",
      "  warn(\n",
      "/Users/shawn/opt/anaconda3/envs/anaconda_env/lib/python3.10/site-packages/sklearn/ensemble/_forest.py:416: FutureWarning: `max_features='auto'` has been deprecated in 1.1 and will be removed in 1.3. To keep the past behaviour, explicitly set `max_features=1.0` or remove this parameter as it is also the default value for RandomForestRegressors and ExtraTreesRegressors.\n",
      "  warn(\n",
      "/Users/shawn/opt/anaconda3/envs/anaconda_env/lib/python3.10/site-packages/sklearn/ensemble/_forest.py:416: FutureWarning: `max_features='auto'` has been deprecated in 1.1 and will be removed in 1.3. To keep the past behaviour, explicitly set `max_features=1.0` or remove this parameter as it is also the default value for RandomForestRegressors and ExtraTreesRegressors.\n",
      "  warn(\n",
      "/Users/shawn/opt/anaconda3/envs/anaconda_env/lib/python3.10/site-packages/sklearn/ensemble/_forest.py:416: FutureWarning: `max_features='auto'` has been deprecated in 1.1 and will be removed in 1.3. To keep the past behaviour, explicitly set `max_features=1.0` or remove this parameter as it is also the default value for RandomForestRegressors and ExtraTreesRegressors.\n",
      "  warn(\n",
      "/Users/shawn/opt/anaconda3/envs/anaconda_env/lib/python3.10/site-packages/sklearn/ensemble/_forest.py:416: FutureWarning: `max_features='auto'` has been deprecated in 1.1 and will be removed in 1.3. To keep the past behaviour, explicitly set `max_features=1.0` or remove this parameter as it is also the default value for RandomForestRegressors and ExtraTreesRegressors.\n",
      "  warn(\n",
      "/Users/shawn/opt/anaconda3/envs/anaconda_env/lib/python3.10/site-packages/sklearn/ensemble/_forest.py:416: FutureWarning: `max_features='auto'` has been deprecated in 1.1 and will be removed in 1.3. To keep the past behaviour, explicitly set `max_features=1.0` or remove this parameter as it is also the default value for RandomForestRegressors and ExtraTreesRegressors.\n",
      "  warn(\n",
      "/Users/shawn/opt/anaconda3/envs/anaconda_env/lib/python3.10/site-packages/sklearn/ensemble/_forest.py:416: FutureWarning: `max_features='auto'` has been deprecated in 1.1 and will be removed in 1.3. To keep the past behaviour, explicitly set `max_features=1.0` or remove this parameter as it is also the default value for RandomForestRegressors and ExtraTreesRegressors.\n",
      "  warn(\n",
      "/Users/shawn/opt/anaconda3/envs/anaconda_env/lib/python3.10/site-packages/sklearn/ensemble/_forest.py:416: FutureWarning: `max_features='auto'` has been deprecated in 1.1 and will be removed in 1.3. To keep the past behaviour, explicitly set `max_features=1.0` or remove this parameter as it is also the default value for RandomForestRegressors and ExtraTreesRegressors.\n",
      "  warn(\n",
      "/Users/shawn/opt/anaconda3/envs/anaconda_env/lib/python3.10/site-packages/sklearn/ensemble/_forest.py:416: FutureWarning: `max_features='auto'` has been deprecated in 1.1 and will be removed in 1.3. To keep the past behaviour, explicitly set `max_features=1.0` or remove this parameter as it is also the default value for RandomForestRegressors and ExtraTreesRegressors.\n",
      "  warn(\n",
      "/Users/shawn/opt/anaconda3/envs/anaconda_env/lib/python3.10/site-packages/sklearn/ensemble/_forest.py:416: FutureWarning: `max_features='auto'` has been deprecated in 1.1 and will be removed in 1.3. To keep the past behaviour, explicitly set `max_features=1.0` or remove this parameter as it is also the default value for RandomForestRegressors and ExtraTreesRegressors.\n",
      "  warn(\n",
      "/Users/shawn/opt/anaconda3/envs/anaconda_env/lib/python3.10/site-packages/sklearn/ensemble/_forest.py:416: FutureWarning: `max_features='auto'` has been deprecated in 1.1 and will be removed in 1.3. To keep the past behaviour, explicitly set `max_features=1.0` or remove this parameter as it is also the default value for RandomForestRegressors and ExtraTreesRegressors.\n",
      "  warn(\n",
      "/Users/shawn/opt/anaconda3/envs/anaconda_env/lib/python3.10/site-packages/sklearn/ensemble/_forest.py:416: FutureWarning: `max_features='auto'` has been deprecated in 1.1 and will be removed in 1.3. To keep the past behaviour, explicitly set `max_features=1.0` or remove this parameter as it is also the default value for RandomForestRegressors and ExtraTreesRegressors.\n",
      "  warn(\n",
      "/Users/shawn/opt/anaconda3/envs/anaconda_env/lib/python3.10/site-packages/sklearn/ensemble/_forest.py:416: FutureWarning: `max_features='auto'` has been deprecated in 1.1 and will be removed in 1.3. To keep the past behaviour, explicitly set `max_features=1.0` or remove this parameter as it is also the default value for RandomForestRegressors and ExtraTreesRegressors.\n",
      "  warn(\n",
      "/Users/shawn/opt/anaconda3/envs/anaconda_env/lib/python3.10/site-packages/sklearn/ensemble/_forest.py:416: FutureWarning: `max_features='auto'` has been deprecated in 1.1 and will be removed in 1.3. To keep the past behaviour, explicitly set `max_features=1.0` or remove this parameter as it is also the default value for RandomForestRegressors and ExtraTreesRegressors.\n",
      "  warn(\n",
      "/Users/shawn/opt/anaconda3/envs/anaconda_env/lib/python3.10/site-packages/sklearn/ensemble/_forest.py:416: FutureWarning: `max_features='auto'` has been deprecated in 1.1 and will be removed in 1.3. To keep the past behaviour, explicitly set `max_features=1.0` or remove this parameter as it is also the default value for RandomForestRegressors and ExtraTreesRegressors.\n",
      "  warn(\n",
      "/Users/shawn/opt/anaconda3/envs/anaconda_env/lib/python3.10/site-packages/sklearn/ensemble/_forest.py:416: FutureWarning: `max_features='auto'` has been deprecated in 1.1 and will be removed in 1.3. To keep the past behaviour, explicitly set `max_features=1.0` or remove this parameter as it is also the default value for RandomForestRegressors and ExtraTreesRegressors.\n",
      "  warn(\n",
      "/Users/shawn/opt/anaconda3/envs/anaconda_env/lib/python3.10/site-packages/sklearn/ensemble/_forest.py:416: FutureWarning: `max_features='auto'` has been deprecated in 1.1 and will be removed in 1.3. To keep the past behaviour, explicitly set `max_features=1.0` or remove this parameter as it is also the default value for RandomForestRegressors and ExtraTreesRegressors.\n",
      "  warn(\n",
      "/Users/shawn/opt/anaconda3/envs/anaconda_env/lib/python3.10/site-packages/sklearn/ensemble/_forest.py:416: FutureWarning: `max_features='auto'` has been deprecated in 1.1 and will be removed in 1.3. To keep the past behaviour, explicitly set `max_features=1.0` or remove this parameter as it is also the default value for RandomForestRegressors and ExtraTreesRegressors.\n",
      "  warn(\n",
      "/Users/shawn/opt/anaconda3/envs/anaconda_env/lib/python3.10/site-packages/sklearn/ensemble/_forest.py:416: FutureWarning: `max_features='auto'` has been deprecated in 1.1 and will be removed in 1.3. To keep the past behaviour, explicitly set `max_features=1.0` or remove this parameter as it is also the default value for RandomForestRegressors and ExtraTreesRegressors.\n",
      "  warn(\n",
      "/Users/shawn/opt/anaconda3/envs/anaconda_env/lib/python3.10/site-packages/sklearn/ensemble/_forest.py:416: FutureWarning: `max_features='auto'` has been deprecated in 1.1 and will be removed in 1.3. To keep the past behaviour, explicitly set `max_features=1.0` or remove this parameter as it is also the default value for RandomForestRegressors and ExtraTreesRegressors.\n",
      "  warn(\n",
      "/Users/shawn/opt/anaconda3/envs/anaconda_env/lib/python3.10/site-packages/sklearn/ensemble/_forest.py:416: FutureWarning: `max_features='auto'` has been deprecated in 1.1 and will be removed in 1.3. To keep the past behaviour, explicitly set `max_features=1.0` or remove this parameter as it is also the default value for RandomForestRegressors and ExtraTreesRegressors.\n",
      "  warn(\n",
      "/Users/shawn/opt/anaconda3/envs/anaconda_env/lib/python3.10/site-packages/sklearn/ensemble/_forest.py:416: FutureWarning: `max_features='auto'` has been deprecated in 1.1 and will be removed in 1.3. To keep the past behaviour, explicitly set `max_features=1.0` or remove this parameter as it is also the default value for RandomForestRegressors and ExtraTreesRegressors.\n",
      "  warn(\n",
      "/Users/shawn/opt/anaconda3/envs/anaconda_env/lib/python3.10/site-packages/sklearn/ensemble/_forest.py:416: FutureWarning: `max_features='auto'` has been deprecated in 1.1 and will be removed in 1.3. To keep the past behaviour, explicitly set `max_features=1.0` or remove this parameter as it is also the default value for RandomForestRegressors and ExtraTreesRegressors.\n",
      "  warn(\n",
      "/Users/shawn/opt/anaconda3/envs/anaconda_env/lib/python3.10/site-packages/sklearn/ensemble/_forest.py:416: FutureWarning: `max_features='auto'` has been deprecated in 1.1 and will be removed in 1.3. To keep the past behaviour, explicitly set `max_features=1.0` or remove this parameter as it is also the default value for RandomForestRegressors and ExtraTreesRegressors.\n",
      "  warn(\n",
      "/Users/shawn/opt/anaconda3/envs/anaconda_env/lib/python3.10/site-packages/sklearn/ensemble/_forest.py:416: FutureWarning: `max_features='auto'` has been deprecated in 1.1 and will be removed in 1.3. To keep the past behaviour, explicitly set `max_features=1.0` or remove this parameter as it is also the default value for RandomForestRegressors and ExtraTreesRegressors.\n",
      "  warn(\n",
      "/Users/shawn/opt/anaconda3/envs/anaconda_env/lib/python3.10/site-packages/sklearn/ensemble/_forest.py:416: FutureWarning: `max_features='auto'` has been deprecated in 1.1 and will be removed in 1.3. To keep the past behaviour, explicitly set `max_features=1.0` or remove this parameter as it is also the default value for RandomForestRegressors and ExtraTreesRegressors.\n",
      "  warn(\n",
      "/Users/shawn/opt/anaconda3/envs/anaconda_env/lib/python3.10/site-packages/sklearn/ensemble/_forest.py:416: FutureWarning: `max_features='auto'` has been deprecated in 1.1 and will be removed in 1.3. To keep the past behaviour, explicitly set `max_features=1.0` or remove this parameter as it is also the default value for RandomForestRegressors and ExtraTreesRegressors.\n",
      "  warn(\n",
      "/Users/shawn/opt/anaconda3/envs/anaconda_env/lib/python3.10/site-packages/sklearn/ensemble/_forest.py:416: FutureWarning: `max_features='auto'` has been deprecated in 1.1 and will be removed in 1.3. To keep the past behaviour, explicitly set `max_features=1.0` or remove this parameter as it is also the default value for RandomForestRegressors and ExtraTreesRegressors.\n",
      "  warn(\n",
      "/Users/shawn/opt/anaconda3/envs/anaconda_env/lib/python3.10/site-packages/sklearn/ensemble/_forest.py:416: FutureWarning: `max_features='auto'` has been deprecated in 1.1 and will be removed in 1.3. To keep the past behaviour, explicitly set `max_features=1.0` or remove this parameter as it is also the default value for RandomForestRegressors and ExtraTreesRegressors.\n",
      "  warn(\n",
      "/Users/shawn/opt/anaconda3/envs/anaconda_env/lib/python3.10/site-packages/sklearn/ensemble/_forest.py:416: FutureWarning: `max_features='auto'` has been deprecated in 1.1 and will be removed in 1.3. To keep the past behaviour, explicitly set `max_features=1.0` or remove this parameter as it is also the default value for RandomForestRegressors and ExtraTreesRegressors.\n",
      "  warn(\n",
      "/Users/shawn/opt/anaconda3/envs/anaconda_env/lib/python3.10/site-packages/sklearn/ensemble/_forest.py:416: FutureWarning: `max_features='auto'` has been deprecated in 1.1 and will be removed in 1.3. To keep the past behaviour, explicitly set `max_features=1.0` or remove this parameter as it is also the default value for RandomForestRegressors and ExtraTreesRegressors.\n",
      "  warn(\n",
      "/Users/shawn/opt/anaconda3/envs/anaconda_env/lib/python3.10/site-packages/sklearn/ensemble/_forest.py:416: FutureWarning: `max_features='auto'` has been deprecated in 1.1 and will be removed in 1.3. To keep the past behaviour, explicitly set `max_features=1.0` or remove this parameter as it is also the default value for RandomForestRegressors and ExtraTreesRegressors.\n",
      "  warn(\n",
      "/Users/shawn/opt/anaconda3/envs/anaconda_env/lib/python3.10/site-packages/sklearn/ensemble/_forest.py:416: FutureWarning: `max_features='auto'` has been deprecated in 1.1 and will be removed in 1.3. To keep the past behaviour, explicitly set `max_features=1.0` or remove this parameter as it is also the default value for RandomForestRegressors and ExtraTreesRegressors.\n",
      "  warn(\n",
      "/Users/shawn/opt/anaconda3/envs/anaconda_env/lib/python3.10/site-packages/sklearn/ensemble/_forest.py:416: FutureWarning: `max_features='auto'` has been deprecated in 1.1 and will be removed in 1.3. To keep the past behaviour, explicitly set `max_features=1.0` or remove this parameter as it is also the default value for RandomForestRegressors and ExtraTreesRegressors.\n",
      "  warn(\n",
      "/Users/shawn/opt/anaconda3/envs/anaconda_env/lib/python3.10/site-packages/sklearn/ensemble/_forest.py:416: FutureWarning: `max_features='auto'` has been deprecated in 1.1 and will be removed in 1.3. To keep the past behaviour, explicitly set `max_features=1.0` or remove this parameter as it is also the default value for RandomForestRegressors and ExtraTreesRegressors.\n",
      "  warn(\n",
      "/Users/shawn/opt/anaconda3/envs/anaconda_env/lib/python3.10/site-packages/sklearn/ensemble/_forest.py:416: FutureWarning: `max_features='auto'` has been deprecated in 1.1 and will be removed in 1.3. To keep the past behaviour, explicitly set `max_features=1.0` or remove this parameter as it is also the default value for RandomForestRegressors and ExtraTreesRegressors.\n",
      "  warn(\n",
      "/Users/shawn/opt/anaconda3/envs/anaconda_env/lib/python3.10/site-packages/sklearn/ensemble/_forest.py:416: FutureWarning: `max_features='auto'` has been deprecated in 1.1 and will be removed in 1.3. To keep the past behaviour, explicitly set `max_features=1.0` or remove this parameter as it is also the default value for RandomForestRegressors and ExtraTreesRegressors.\n",
      "  warn(\n",
      "/Users/shawn/opt/anaconda3/envs/anaconda_env/lib/python3.10/site-packages/sklearn/ensemble/_forest.py:416: FutureWarning: `max_features='auto'` has been deprecated in 1.1 and will be removed in 1.3. To keep the past behaviour, explicitly set `max_features=1.0` or remove this parameter as it is also the default value for RandomForestRegressors and ExtraTreesRegressors.\n",
      "  warn(\n",
      "/Users/shawn/opt/anaconda3/envs/anaconda_env/lib/python3.10/site-packages/sklearn/ensemble/_forest.py:416: FutureWarning: `max_features='auto'` has been deprecated in 1.1 and will be removed in 1.3. To keep the past behaviour, explicitly set `max_features=1.0` or remove this parameter as it is also the default value for RandomForestRegressors and ExtraTreesRegressors.\n",
      "  warn(\n",
      "/Users/shawn/opt/anaconda3/envs/anaconda_env/lib/python3.10/site-packages/sklearn/ensemble/_forest.py:416: FutureWarning: `max_features='auto'` has been deprecated in 1.1 and will be removed in 1.3. To keep the past behaviour, explicitly set `max_features=1.0` or remove this parameter as it is also the default value for RandomForestRegressors and ExtraTreesRegressors.\n",
      "  warn(\n",
      "/Users/shawn/opt/anaconda3/envs/anaconda_env/lib/python3.10/site-packages/sklearn/ensemble/_forest.py:416: FutureWarning: `max_features='auto'` has been deprecated in 1.1 and will be removed in 1.3. To keep the past behaviour, explicitly set `max_features=1.0` or remove this parameter as it is also the default value for RandomForestRegressors and ExtraTreesRegressors.\n",
      "  warn(\n",
      "/Users/shawn/opt/anaconda3/envs/anaconda_env/lib/python3.10/site-packages/sklearn/ensemble/_forest.py:416: FutureWarning: `max_features='auto'` has been deprecated in 1.1 and will be removed in 1.3. To keep the past behaviour, explicitly set `max_features=1.0` or remove this parameter as it is also the default value for RandomForestRegressors and ExtraTreesRegressors.\n",
      "  warn(\n",
      "/Users/shawn/opt/anaconda3/envs/anaconda_env/lib/python3.10/site-packages/sklearn/ensemble/_forest.py:416: FutureWarning: `max_features='auto'` has been deprecated in 1.1 and will be removed in 1.3. To keep the past behaviour, explicitly set `max_features=1.0` or remove this parameter as it is also the default value for RandomForestRegressors and ExtraTreesRegressors.\n",
      "  warn(\n",
      "/Users/shawn/opt/anaconda3/envs/anaconda_env/lib/python3.10/site-packages/sklearn/ensemble/_forest.py:416: FutureWarning: `max_features='auto'` has been deprecated in 1.1 and will be removed in 1.3. To keep the past behaviour, explicitly set `max_features=1.0` or remove this parameter as it is also the default value for RandomForestRegressors and ExtraTreesRegressors.\n",
      "  warn(\n",
      "/Users/shawn/opt/anaconda3/envs/anaconda_env/lib/python3.10/site-packages/sklearn/ensemble/_forest.py:416: FutureWarning: `max_features='auto'` has been deprecated in 1.1 and will be removed in 1.3. To keep the past behaviour, explicitly set `max_features=1.0` or remove this parameter as it is also the default value for RandomForestRegressors and ExtraTreesRegressors.\n",
      "  warn(\n",
      "/Users/shawn/opt/anaconda3/envs/anaconda_env/lib/python3.10/site-packages/sklearn/ensemble/_forest.py:416: FutureWarning: `max_features='auto'` has been deprecated in 1.1 and will be removed in 1.3. To keep the past behaviour, explicitly set `max_features=1.0` or remove this parameter as it is also the default value for RandomForestRegressors and ExtraTreesRegressors.\n",
      "  warn(\n",
      "/Users/shawn/opt/anaconda3/envs/anaconda_env/lib/python3.10/site-packages/sklearn/ensemble/_forest.py:416: FutureWarning: `max_features='auto'` has been deprecated in 1.1 and will be removed in 1.3. To keep the past behaviour, explicitly set `max_features=1.0` or remove this parameter as it is also the default value for RandomForestRegressors and ExtraTreesRegressors.\n",
      "  warn(\n",
      "/Users/shawn/opt/anaconda3/envs/anaconda_env/lib/python3.10/site-packages/sklearn/ensemble/_forest.py:416: FutureWarning: `max_features='auto'` has been deprecated in 1.1 and will be removed in 1.3. To keep the past behaviour, explicitly set `max_features=1.0` or remove this parameter as it is also the default value for RandomForestRegressors and ExtraTreesRegressors.\n",
      "  warn(\n",
      "/Users/shawn/opt/anaconda3/envs/anaconda_env/lib/python3.10/site-packages/sklearn/ensemble/_forest.py:416: FutureWarning: `max_features='auto'` has been deprecated in 1.1 and will be removed in 1.3. To keep the past behaviour, explicitly set `max_features=1.0` or remove this parameter as it is also the default value for RandomForestRegressors and ExtraTreesRegressors.\n",
      "  warn(\n",
      "/Users/shawn/opt/anaconda3/envs/anaconda_env/lib/python3.10/site-packages/sklearn/ensemble/_forest.py:416: FutureWarning: `max_features='auto'` has been deprecated in 1.1 and will be removed in 1.3. To keep the past behaviour, explicitly set `max_features=1.0` or remove this parameter as it is also the default value for RandomForestRegressors and ExtraTreesRegressors.\n",
      "  warn(\n",
      "/Users/shawn/opt/anaconda3/envs/anaconda_env/lib/python3.10/site-packages/sklearn/ensemble/_forest.py:416: FutureWarning: `max_features='auto'` has been deprecated in 1.1 and will be removed in 1.3. To keep the past behaviour, explicitly set `max_features=1.0` or remove this parameter as it is also the default value for RandomForestRegressors and ExtraTreesRegressors.\n",
      "  warn(\n",
      "/Users/shawn/opt/anaconda3/envs/anaconda_env/lib/python3.10/site-packages/sklearn/ensemble/_forest.py:416: FutureWarning: `max_features='auto'` has been deprecated in 1.1 and will be removed in 1.3. To keep the past behaviour, explicitly set `max_features=1.0` or remove this parameter as it is also the default value for RandomForestRegressors and ExtraTreesRegressors.\n",
      "  warn(\n",
      "/Users/shawn/opt/anaconda3/envs/anaconda_env/lib/python3.10/site-packages/sklearn/ensemble/_forest.py:416: FutureWarning: `max_features='auto'` has been deprecated in 1.1 and will be removed in 1.3. To keep the past behaviour, explicitly set `max_features=1.0` or remove this parameter as it is also the default value for RandomForestRegressors and ExtraTreesRegressors.\n",
      "  warn(\n",
      "/Users/shawn/opt/anaconda3/envs/anaconda_env/lib/python3.10/site-packages/sklearn/ensemble/_forest.py:416: FutureWarning: `max_features='auto'` has been deprecated in 1.1 and will be removed in 1.3. To keep the past behaviour, explicitly set `max_features=1.0` or remove this parameter as it is also the default value for RandomForestRegressors and ExtraTreesRegressors.\n",
      "  warn(\n",
      "/Users/shawn/opt/anaconda3/envs/anaconda_env/lib/python3.10/site-packages/sklearn/ensemble/_forest.py:416: FutureWarning: `max_features='auto'` has been deprecated in 1.1 and will be removed in 1.3. To keep the past behaviour, explicitly set `max_features=1.0` or remove this parameter as it is also the default value for RandomForestRegressors and ExtraTreesRegressors.\n",
      "  warn(\n",
      "/Users/shawn/opt/anaconda3/envs/anaconda_env/lib/python3.10/site-packages/sklearn/ensemble/_forest.py:416: FutureWarning: `max_features='auto'` has been deprecated in 1.1 and will be removed in 1.3. To keep the past behaviour, explicitly set `max_features=1.0` or remove this parameter as it is also the default value for RandomForestRegressors and ExtraTreesRegressors.\n",
      "  warn(\n",
      "/Users/shawn/opt/anaconda3/envs/anaconda_env/lib/python3.10/site-packages/sklearn/ensemble/_forest.py:416: FutureWarning: `max_features='auto'` has been deprecated in 1.1 and will be removed in 1.3. To keep the past behaviour, explicitly set `max_features=1.0` or remove this parameter as it is also the default value for RandomForestRegressors and ExtraTreesRegressors.\n",
      "  warn(\n",
      "/Users/shawn/opt/anaconda3/envs/anaconda_env/lib/python3.10/site-packages/sklearn/ensemble/_forest.py:416: FutureWarning: `max_features='auto'` has been deprecated in 1.1 and will be removed in 1.3. To keep the past behaviour, explicitly set `max_features=1.0` or remove this parameter as it is also the default value for RandomForestRegressors and ExtraTreesRegressors.\n",
      "  warn(\n",
      "/Users/shawn/opt/anaconda3/envs/anaconda_env/lib/python3.10/site-packages/sklearn/ensemble/_forest.py:416: FutureWarning: `max_features='auto'` has been deprecated in 1.1 and will be removed in 1.3. To keep the past behaviour, explicitly set `max_features=1.0` or remove this parameter as it is also the default value for RandomForestRegressors and ExtraTreesRegressors.\n",
      "  warn(\n",
      "/Users/shawn/opt/anaconda3/envs/anaconda_env/lib/python3.10/site-packages/sklearn/ensemble/_forest.py:416: FutureWarning: `max_features='auto'` has been deprecated in 1.1 and will be removed in 1.3. To keep the past behaviour, explicitly set `max_features=1.0` or remove this parameter as it is also the default value for RandomForestRegressors and ExtraTreesRegressors.\n",
      "  warn(\n",
      "/Users/shawn/opt/anaconda3/envs/anaconda_env/lib/python3.10/site-packages/sklearn/ensemble/_forest.py:416: FutureWarning: `max_features='auto'` has been deprecated in 1.1 and will be removed in 1.3. To keep the past behaviour, explicitly set `max_features=1.0` or remove this parameter as it is also the default value for RandomForestRegressors and ExtraTreesRegressors.\n",
      "  warn(\n",
      "/Users/shawn/opt/anaconda3/envs/anaconda_env/lib/python3.10/site-packages/sklearn/ensemble/_forest.py:416: FutureWarning: `max_features='auto'` has been deprecated in 1.1 and will be removed in 1.3. To keep the past behaviour, explicitly set `max_features=1.0` or remove this parameter as it is also the default value for RandomForestRegressors and ExtraTreesRegressors.\n",
      "  warn(\n",
      "/Users/shawn/opt/anaconda3/envs/anaconda_env/lib/python3.10/site-packages/sklearn/ensemble/_forest.py:416: FutureWarning: `max_features='auto'` has been deprecated in 1.1 and will be removed in 1.3. To keep the past behaviour, explicitly set `max_features=1.0` or remove this parameter as it is also the default value for RandomForestRegressors and ExtraTreesRegressors.\n",
      "  warn(\n",
      "/Users/shawn/opt/anaconda3/envs/anaconda_env/lib/python3.10/site-packages/sklearn/ensemble/_forest.py:416: FutureWarning: `max_features='auto'` has been deprecated in 1.1 and will be removed in 1.3. To keep the past behaviour, explicitly set `max_features=1.0` or remove this parameter as it is also the default value for RandomForestRegressors and ExtraTreesRegressors.\n",
      "  warn(\n",
      "/Users/shawn/opt/anaconda3/envs/anaconda_env/lib/python3.10/site-packages/sklearn/ensemble/_forest.py:416: FutureWarning: `max_features='auto'` has been deprecated in 1.1 and will be removed in 1.3. To keep the past behaviour, explicitly set `max_features=1.0` or remove this parameter as it is also the default value for RandomForestRegressors and ExtraTreesRegressors.\n",
      "  warn(\n",
      "/Users/shawn/opt/anaconda3/envs/anaconda_env/lib/python3.10/site-packages/sklearn/ensemble/_forest.py:416: FutureWarning: `max_features='auto'` has been deprecated in 1.1 and will be removed in 1.3. To keep the past behaviour, explicitly set `max_features=1.0` or remove this parameter as it is also the default value for RandomForestRegressors and ExtraTreesRegressors.\n",
      "  warn(\n",
      "/Users/shawn/opt/anaconda3/envs/anaconda_env/lib/python3.10/site-packages/sklearn/ensemble/_forest.py:416: FutureWarning: `max_features='auto'` has been deprecated in 1.1 and will be removed in 1.3. To keep the past behaviour, explicitly set `max_features=1.0` or remove this parameter as it is also the default value for RandomForestRegressors and ExtraTreesRegressors.\n",
      "  warn(\n",
      "/Users/shawn/opt/anaconda3/envs/anaconda_env/lib/python3.10/site-packages/sklearn/ensemble/_forest.py:416: FutureWarning: `max_features='auto'` has been deprecated in 1.1 and will be removed in 1.3. To keep the past behaviour, explicitly set `max_features=1.0` or remove this parameter as it is also the default value for RandomForestRegressors and ExtraTreesRegressors.\n",
      "  warn(\n",
      "/Users/shawn/opt/anaconda3/envs/anaconda_env/lib/python3.10/site-packages/sklearn/ensemble/_forest.py:416: FutureWarning: `max_features='auto'` has been deprecated in 1.1 and will be removed in 1.3. To keep the past behaviour, explicitly set `max_features=1.0` or remove this parameter as it is also the default value for RandomForestRegressors and ExtraTreesRegressors.\n",
      "  warn(\n",
      "/Users/shawn/opt/anaconda3/envs/anaconda_env/lib/python3.10/site-packages/sklearn/ensemble/_forest.py:416: FutureWarning: `max_features='auto'` has been deprecated in 1.1 and will be removed in 1.3. To keep the past behaviour, explicitly set `max_features=1.0` or remove this parameter as it is also the default value for RandomForestRegressors and ExtraTreesRegressors.\n",
      "  warn(\n",
      "/Users/shawn/opt/anaconda3/envs/anaconda_env/lib/python3.10/site-packages/sklearn/ensemble/_forest.py:416: FutureWarning: `max_features='auto'` has been deprecated in 1.1 and will be removed in 1.3. To keep the past behaviour, explicitly set `max_features=1.0` or remove this parameter as it is also the default value for RandomForestRegressors and ExtraTreesRegressors.\n",
      "  warn(\n",
      "/Users/shawn/opt/anaconda3/envs/anaconda_env/lib/python3.10/site-packages/sklearn/ensemble/_forest.py:416: FutureWarning: `max_features='auto'` has been deprecated in 1.1 and will be removed in 1.3. To keep the past behaviour, explicitly set `max_features=1.0` or remove this parameter as it is also the default value for RandomForestRegressors and ExtraTreesRegressors.\n",
      "  warn(\n",
      "/Users/shawn/opt/anaconda3/envs/anaconda_env/lib/python3.10/site-packages/sklearn/ensemble/_forest.py:416: FutureWarning: `max_features='auto'` has been deprecated in 1.1 and will be removed in 1.3. To keep the past behaviour, explicitly set `max_features=1.0` or remove this parameter as it is also the default value for RandomForestRegressors and ExtraTreesRegressors.\n",
      "  warn(\n",
      "/Users/shawn/opt/anaconda3/envs/anaconda_env/lib/python3.10/site-packages/sklearn/ensemble/_forest.py:416: FutureWarning: `max_features='auto'` has been deprecated in 1.1 and will be removed in 1.3. To keep the past behaviour, explicitly set `max_features=1.0` or remove this parameter as it is also the default value for RandomForestRegressors and ExtraTreesRegressors.\n",
      "  warn(\n",
      "/Users/shawn/opt/anaconda3/envs/anaconda_env/lib/python3.10/site-packages/sklearn/ensemble/_forest.py:416: FutureWarning: `max_features='auto'` has been deprecated in 1.1 and will be removed in 1.3. To keep the past behaviour, explicitly set `max_features=1.0` or remove this parameter as it is also the default value for RandomForestRegressors and ExtraTreesRegressors.\n",
      "  warn(\n",
      "/Users/shawn/opt/anaconda3/envs/anaconda_env/lib/python3.10/site-packages/sklearn/ensemble/_forest.py:416: FutureWarning: `max_features='auto'` has been deprecated in 1.1 and will be removed in 1.3. To keep the past behaviour, explicitly set `max_features=1.0` or remove this parameter as it is also the default value for RandomForestRegressors and ExtraTreesRegressors.\n",
      "  warn(\n",
      "/Users/shawn/opt/anaconda3/envs/anaconda_env/lib/python3.10/site-packages/sklearn/ensemble/_forest.py:416: FutureWarning: `max_features='auto'` has been deprecated in 1.1 and will be removed in 1.3. To keep the past behaviour, explicitly set `max_features=1.0` or remove this parameter as it is also the default value for RandomForestRegressors and ExtraTreesRegressors.\n",
      "  warn(\n",
      "/Users/shawn/opt/anaconda3/envs/anaconda_env/lib/python3.10/site-packages/sklearn/ensemble/_forest.py:416: FutureWarning: `max_features='auto'` has been deprecated in 1.1 and will be removed in 1.3. To keep the past behaviour, explicitly set `max_features=1.0` or remove this parameter as it is also the default value for RandomForestRegressors and ExtraTreesRegressors.\n",
      "  warn(\n",
      "/Users/shawn/opt/anaconda3/envs/anaconda_env/lib/python3.10/site-packages/sklearn/ensemble/_forest.py:416: FutureWarning: `max_features='auto'` has been deprecated in 1.1 and will be removed in 1.3. To keep the past behaviour, explicitly set `max_features=1.0` or remove this parameter as it is also the default value for RandomForestRegressors and ExtraTreesRegressors.\n",
      "  warn(\n",
      "/Users/shawn/opt/anaconda3/envs/anaconda_env/lib/python3.10/site-packages/sklearn/ensemble/_forest.py:416: FutureWarning: `max_features='auto'` has been deprecated in 1.1 and will be removed in 1.3. To keep the past behaviour, explicitly set `max_features=1.0` or remove this parameter as it is also the default value for RandomForestRegressors and ExtraTreesRegressors.\n",
      "  warn(\n",
      "/Users/shawn/opt/anaconda3/envs/anaconda_env/lib/python3.10/site-packages/sklearn/ensemble/_forest.py:416: FutureWarning: `max_features='auto'` has been deprecated in 1.1 and will be removed in 1.3. To keep the past behaviour, explicitly set `max_features=1.0` or remove this parameter as it is also the default value for RandomForestRegressors and ExtraTreesRegressors.\n",
      "  warn(\n",
      "/Users/shawn/opt/anaconda3/envs/anaconda_env/lib/python3.10/site-packages/sklearn/ensemble/_forest.py:416: FutureWarning: `max_features='auto'` has been deprecated in 1.1 and will be removed in 1.3. To keep the past behaviour, explicitly set `max_features=1.0` or remove this parameter as it is also the default value for RandomForestRegressors and ExtraTreesRegressors.\n",
      "  warn(\n",
      "/Users/shawn/opt/anaconda3/envs/anaconda_env/lib/python3.10/site-packages/sklearn/ensemble/_forest.py:416: FutureWarning: `max_features='auto'` has been deprecated in 1.1 and will be removed in 1.3. To keep the past behaviour, explicitly set `max_features=1.0` or remove this parameter as it is also the default value for RandomForestRegressors and ExtraTreesRegressors.\n",
      "  warn(\n",
      "/Users/shawn/opt/anaconda3/envs/anaconda_env/lib/python3.10/site-packages/sklearn/ensemble/_forest.py:416: FutureWarning: `max_features='auto'` has been deprecated in 1.1 and will be removed in 1.3. To keep the past behaviour, explicitly set `max_features=1.0` or remove this parameter as it is also the default value for RandomForestRegressors and ExtraTreesRegressors.\n",
      "  warn(\n",
      "/Users/shawn/opt/anaconda3/envs/anaconda_env/lib/python3.10/site-packages/sklearn/ensemble/_forest.py:416: FutureWarning: `max_features='auto'` has been deprecated in 1.1 and will be removed in 1.3. To keep the past behaviour, explicitly set `max_features=1.0` or remove this parameter as it is also the default value for RandomForestRegressors and ExtraTreesRegressors.\n",
      "  warn(\n",
      "/Users/shawn/opt/anaconda3/envs/anaconda_env/lib/python3.10/site-packages/sklearn/ensemble/_forest.py:416: FutureWarning: `max_features='auto'` has been deprecated in 1.1 and will be removed in 1.3. To keep the past behaviour, explicitly set `max_features=1.0` or remove this parameter as it is also the default value for RandomForestRegressors and ExtraTreesRegressors.\n",
      "  warn(\n",
      "/Users/shawn/opt/anaconda3/envs/anaconda_env/lib/python3.10/site-packages/sklearn/ensemble/_forest.py:416: FutureWarning: `max_features='auto'` has been deprecated in 1.1 and will be removed in 1.3. To keep the past behaviour, explicitly set `max_features=1.0` or remove this parameter as it is also the default value for RandomForestRegressors and ExtraTreesRegressors.\n",
      "  warn(\n",
      "/Users/shawn/opt/anaconda3/envs/anaconda_env/lib/python3.10/site-packages/sklearn/ensemble/_forest.py:416: FutureWarning: `max_features='auto'` has been deprecated in 1.1 and will be removed in 1.3. To keep the past behaviour, explicitly set `max_features=1.0` or remove this parameter as it is also the default value for RandomForestRegressors and ExtraTreesRegressors.\n",
      "  warn(\n",
      "/Users/shawn/opt/anaconda3/envs/anaconda_env/lib/python3.10/site-packages/sklearn/ensemble/_forest.py:416: FutureWarning: `max_features='auto'` has been deprecated in 1.1 and will be removed in 1.3. To keep the past behaviour, explicitly set `max_features=1.0` or remove this parameter as it is also the default value for RandomForestRegressors and ExtraTreesRegressors.\n",
      "  warn(\n",
      "/Users/shawn/opt/anaconda3/envs/anaconda_env/lib/python3.10/site-packages/sklearn/ensemble/_forest.py:416: FutureWarning: `max_features='auto'` has been deprecated in 1.1 and will be removed in 1.3. To keep the past behaviour, explicitly set `max_features=1.0` or remove this parameter as it is also the default value for RandomForestRegressors and ExtraTreesRegressors.\n",
      "  warn(\n",
      "/Users/shawn/opt/anaconda3/envs/anaconda_env/lib/python3.10/site-packages/sklearn/ensemble/_forest.py:416: FutureWarning: `max_features='auto'` has been deprecated in 1.1 and will be removed in 1.3. To keep the past behaviour, explicitly set `max_features=1.0` or remove this parameter as it is also the default value for RandomForestRegressors and ExtraTreesRegressors.\n",
      "  warn(\n",
      "/Users/shawn/opt/anaconda3/envs/anaconda_env/lib/python3.10/site-packages/sklearn/ensemble/_forest.py:416: FutureWarning: `max_features='auto'` has been deprecated in 1.1 and will be removed in 1.3. To keep the past behaviour, explicitly set `max_features=1.0` or remove this parameter as it is also the default value for RandomForestRegressors and ExtraTreesRegressors.\n",
      "  warn(\n",
      "/Users/shawn/opt/anaconda3/envs/anaconda_env/lib/python3.10/site-packages/sklearn/ensemble/_forest.py:416: FutureWarning: `max_features='auto'` has been deprecated in 1.1 and will be removed in 1.3. To keep the past behaviour, explicitly set `max_features=1.0` or remove this parameter as it is also the default value for RandomForestRegressors and ExtraTreesRegressors.\n",
      "  warn(\n",
      "/Users/shawn/opt/anaconda3/envs/anaconda_env/lib/python3.10/site-packages/sklearn/ensemble/_forest.py:416: FutureWarning: `max_features='auto'` has been deprecated in 1.1 and will be removed in 1.3. To keep the past behaviour, explicitly set `max_features=1.0` or remove this parameter as it is also the default value for RandomForestRegressors and ExtraTreesRegressors.\n",
      "  warn(\n",
      "/Users/shawn/opt/anaconda3/envs/anaconda_env/lib/python3.10/site-packages/sklearn/ensemble/_forest.py:416: FutureWarning: `max_features='auto'` has been deprecated in 1.1 and will be removed in 1.3. To keep the past behaviour, explicitly set `max_features=1.0` or remove this parameter as it is also the default value for RandomForestRegressors and ExtraTreesRegressors.\n",
      "  warn(\n"
     ]
    }
   ],
   "source": [
    "from sklearn.model_selection import RandomizedSearchCV\n",
    "# Number of trees in random forest\n",
    "n_estimators = [int(x) for x in np.linspace(start = 10, stop = 100, num = 10)]\n",
    "# Number of features to consider at every split\n",
    "max_features = ['auto', 'sqrt']\n",
    "# Maximum number of levels in tree\n",
    "max_depth = [int(x) for x in np.linspace(10, 110, num = 11)]\n",
    "max_depth.append(None)\n",
    "# Minimum number of samples required to split a node\n",
    "min_samples_split = [2, 5, 10]\n",
    "# Minimum number of samples required at each leaf node\n",
    "min_samples_leaf = [1, 2, 4]\n",
    "# Method of selecting samples for training each tree\n",
    "bootstrap = [True, False]\n",
    "\n",
    "# Create the random grid\n",
    "random_grid = {'n_estimators': n_estimators,\n",
    "               'max_features': max_features,\n",
    "               'max_depth': max_depth,\n",
    "               'min_samples_split': min_samples_split,\n",
    "               'min_samples_leaf': min_samples_leaf,\n",
    "               'bootstrap': bootstrap}\n",
    "\n",
    "RF_random = RandomizedSearchCV(estimator = RF, param_distributions = random_grid, n_iter = 100, cv = 3, verbose=0, random_state=1, n_jobs = -1).fit(X, y)"
   ]
  },
  {
   "cell_type": "markdown",
   "metadata": {},
   "source": [
    "#### evaluate best_mod parameters"
   ]
  },
  {
   "cell_type": "code",
   "execution_count": 113,
   "metadata": {},
   "outputs": [
    {
     "data": {
      "text/html": [
       "<style>#sk-container-id-3 {color: black;background-color: white;}#sk-container-id-3 pre{padding: 0;}#sk-container-id-3 div.sk-toggleable {background-color: white;}#sk-container-id-3 label.sk-toggleable__label {cursor: pointer;display: block;width: 100%;margin-bottom: 0;padding: 0.3em;box-sizing: border-box;text-align: center;}#sk-container-id-3 label.sk-toggleable__label-arrow:before {content: \"▸\";float: left;margin-right: 0.25em;color: #696969;}#sk-container-id-3 label.sk-toggleable__label-arrow:hover:before {color: black;}#sk-container-id-3 div.sk-estimator:hover label.sk-toggleable__label-arrow:before {color: black;}#sk-container-id-3 div.sk-toggleable__content {max-height: 0;max-width: 0;overflow: hidden;text-align: left;background-color: #f0f8ff;}#sk-container-id-3 div.sk-toggleable__content pre {margin: 0.2em;color: black;border-radius: 0.25em;background-color: #f0f8ff;}#sk-container-id-3 input.sk-toggleable__control:checked~div.sk-toggleable__content {max-height: 200px;max-width: 100%;overflow: auto;}#sk-container-id-3 input.sk-toggleable__control:checked~label.sk-toggleable__label-arrow:before {content: \"▾\";}#sk-container-id-3 div.sk-estimator input.sk-toggleable__control:checked~label.sk-toggleable__label {background-color: #d4ebff;}#sk-container-id-3 div.sk-label input.sk-toggleable__control:checked~label.sk-toggleable__label {background-color: #d4ebff;}#sk-container-id-3 input.sk-hidden--visually {border: 0;clip: rect(1px 1px 1px 1px);clip: rect(1px, 1px, 1px, 1px);height: 1px;margin: -1px;overflow: hidden;padding: 0;position: absolute;width: 1px;}#sk-container-id-3 div.sk-estimator {font-family: monospace;background-color: #f0f8ff;border: 1px dotted black;border-radius: 0.25em;box-sizing: border-box;margin-bottom: 0.5em;}#sk-container-id-3 div.sk-estimator:hover {background-color: #d4ebff;}#sk-container-id-3 div.sk-parallel-item::after {content: \"\";width: 100%;border-bottom: 1px solid gray;flex-grow: 1;}#sk-container-id-3 div.sk-label:hover label.sk-toggleable__label {background-color: #d4ebff;}#sk-container-id-3 div.sk-serial::before {content: \"\";position: absolute;border-left: 1px solid gray;box-sizing: border-box;top: 0;bottom: 0;left: 50%;z-index: 0;}#sk-container-id-3 div.sk-serial {display: flex;flex-direction: column;align-items: center;background-color: white;padding-right: 0.2em;padding-left: 0.2em;position: relative;}#sk-container-id-3 div.sk-item {position: relative;z-index: 1;}#sk-container-id-3 div.sk-parallel {display: flex;align-items: stretch;justify-content: center;background-color: white;position: relative;}#sk-container-id-3 div.sk-item::before, #sk-container-id-3 div.sk-parallel-item::before {content: \"\";position: absolute;border-left: 1px solid gray;box-sizing: border-box;top: 0;bottom: 0;left: 50%;z-index: -1;}#sk-container-id-3 div.sk-parallel-item {display: flex;flex-direction: column;z-index: 1;position: relative;background-color: white;}#sk-container-id-3 div.sk-parallel-item:first-child::after {align-self: flex-end;width: 50%;}#sk-container-id-3 div.sk-parallel-item:last-child::after {align-self: flex-start;width: 50%;}#sk-container-id-3 div.sk-parallel-item:only-child::after {width: 0;}#sk-container-id-3 div.sk-dashed-wrapped {border: 1px dashed gray;margin: 0 0.4em 0.5em 0.4em;box-sizing: border-box;padding-bottom: 0.4em;background-color: white;}#sk-container-id-3 div.sk-label label {font-family: monospace;font-weight: bold;display: inline-block;line-height: 1.2em;}#sk-container-id-3 div.sk-label-container {text-align: center;}#sk-container-id-3 div.sk-container {/* jupyter's `normalize.less` sets `[hidden] { display: none; }` but bootstrap.min.css set `[hidden] { display: none !important; }` so we also need the `!important` here to be able to override the default hidden behavior on the sphinx rendered scikit-learn.org. See: https://github.com/scikit-learn/scikit-learn/issues/21755 */display: inline-block !important;position: relative;}#sk-container-id-3 div.sk-text-repr-fallback {display: none;}</style><div id=\"sk-container-id-3\" class=\"sk-top-container\"><div class=\"sk-text-repr-fallback\"><pre>RandomForestRegressor(max_depth=50, max_features=10, min_samples_split=5,\n",
       "                      n_estimators=75, random_state=1)</pre><b>In a Jupyter environment, please rerun this cell to show the HTML representation or trust the notebook. <br />On GitHub, the HTML representation is unable to render, please try loading this page with nbviewer.org.</b></div><div class=\"sk-container\" hidden><div class=\"sk-item\"><div class=\"sk-estimator sk-toggleable\"><input class=\"sk-toggleable__control sk-hidden--visually\" id=\"sk-estimator-id-3\" type=\"checkbox\" checked><label for=\"sk-estimator-id-3\" class=\"sk-toggleable__label sk-toggleable__label-arrow\">RandomForestRegressor</label><div class=\"sk-toggleable__content\"><pre>RandomForestRegressor(max_depth=50, max_features=10, min_samples_split=5,\n",
       "                      n_estimators=75, random_state=1)</pre></div></div></div></div></div>"
      ],
      "text/plain": [
       "RandomForestRegressor(max_depth=50, max_features=10, min_samples_split=5,\n",
       "                      n_estimators=75, random_state=1)"
      ]
     },
     "execution_count": 113,
     "metadata": {},
     "output_type": "execute_result"
    }
   ],
   "source": [
    "#best_mod = RF_cv.best_estimator_\n",
    "#best_mod"
   ]
  },
  {
   "cell_type": "code",
   "execution_count": 144,
   "metadata": {},
   "outputs": [
    {
     "data": {
      "text/html": [
       "<style>#sk-container-id-4 {color: black;background-color: white;}#sk-container-id-4 pre{padding: 0;}#sk-container-id-4 div.sk-toggleable {background-color: white;}#sk-container-id-4 label.sk-toggleable__label {cursor: pointer;display: block;width: 100%;margin-bottom: 0;padding: 0.3em;box-sizing: border-box;text-align: center;}#sk-container-id-4 label.sk-toggleable__label-arrow:before {content: \"▸\";float: left;margin-right: 0.25em;color: #696969;}#sk-container-id-4 label.sk-toggleable__label-arrow:hover:before {color: black;}#sk-container-id-4 div.sk-estimator:hover label.sk-toggleable__label-arrow:before {color: black;}#sk-container-id-4 div.sk-toggleable__content {max-height: 0;max-width: 0;overflow: hidden;text-align: left;background-color: #f0f8ff;}#sk-container-id-4 div.sk-toggleable__content pre {margin: 0.2em;color: black;border-radius: 0.25em;background-color: #f0f8ff;}#sk-container-id-4 input.sk-toggleable__control:checked~div.sk-toggleable__content {max-height: 200px;max-width: 100%;overflow: auto;}#sk-container-id-4 input.sk-toggleable__control:checked~label.sk-toggleable__label-arrow:before {content: \"▾\";}#sk-container-id-4 div.sk-estimator input.sk-toggleable__control:checked~label.sk-toggleable__label {background-color: #d4ebff;}#sk-container-id-4 div.sk-label input.sk-toggleable__control:checked~label.sk-toggleable__label {background-color: #d4ebff;}#sk-container-id-4 input.sk-hidden--visually {border: 0;clip: rect(1px 1px 1px 1px);clip: rect(1px, 1px, 1px, 1px);height: 1px;margin: -1px;overflow: hidden;padding: 0;position: absolute;width: 1px;}#sk-container-id-4 div.sk-estimator {font-family: monospace;background-color: #f0f8ff;border: 1px dotted black;border-radius: 0.25em;box-sizing: border-box;margin-bottom: 0.5em;}#sk-container-id-4 div.sk-estimator:hover {background-color: #d4ebff;}#sk-container-id-4 div.sk-parallel-item::after {content: \"\";width: 100%;border-bottom: 1px solid gray;flex-grow: 1;}#sk-container-id-4 div.sk-label:hover label.sk-toggleable__label {background-color: #d4ebff;}#sk-container-id-4 div.sk-serial::before {content: \"\";position: absolute;border-left: 1px solid gray;box-sizing: border-box;top: 0;bottom: 0;left: 50%;z-index: 0;}#sk-container-id-4 div.sk-serial {display: flex;flex-direction: column;align-items: center;background-color: white;padding-right: 0.2em;padding-left: 0.2em;position: relative;}#sk-container-id-4 div.sk-item {position: relative;z-index: 1;}#sk-container-id-4 div.sk-parallel {display: flex;align-items: stretch;justify-content: center;background-color: white;position: relative;}#sk-container-id-4 div.sk-item::before, #sk-container-id-4 div.sk-parallel-item::before {content: \"\";position: absolute;border-left: 1px solid gray;box-sizing: border-box;top: 0;bottom: 0;left: 50%;z-index: -1;}#sk-container-id-4 div.sk-parallel-item {display: flex;flex-direction: column;z-index: 1;position: relative;background-color: white;}#sk-container-id-4 div.sk-parallel-item:first-child::after {align-self: flex-end;width: 50%;}#sk-container-id-4 div.sk-parallel-item:last-child::after {align-self: flex-start;width: 50%;}#sk-container-id-4 div.sk-parallel-item:only-child::after {width: 0;}#sk-container-id-4 div.sk-dashed-wrapped {border: 1px dashed gray;margin: 0 0.4em 0.5em 0.4em;box-sizing: border-box;padding-bottom: 0.4em;background-color: white;}#sk-container-id-4 div.sk-label label {font-family: monospace;font-weight: bold;display: inline-block;line-height: 1.2em;}#sk-container-id-4 div.sk-label-container {text-align: center;}#sk-container-id-4 div.sk-container {/* jupyter's `normalize.less` sets `[hidden] { display: none; }` but bootstrap.min.css set `[hidden] { display: none !important; }` so we also need the `!important` here to be able to override the default hidden behavior on the sphinx rendered scikit-learn.org. See: https://github.com/scikit-learn/scikit-learn/issues/21755 */display: inline-block !important;position: relative;}#sk-container-id-4 div.sk-text-repr-fallback {display: none;}</style><div id=\"sk-container-id-4\" class=\"sk-top-container\"><div class=\"sk-text-repr-fallback\"><pre>RandomForestRegressor(max_depth=70, max_features=&#x27;sqrt&#x27;, min_samples_leaf=2,\n",
       "                      n_estimators=30, random_state=1)</pre><b>In a Jupyter environment, please rerun this cell to show the HTML representation or trust the notebook. <br />On GitHub, the HTML representation is unable to render, please try loading this page with nbviewer.org.</b></div><div class=\"sk-container\" hidden><div class=\"sk-item\"><div class=\"sk-estimator sk-toggleable\"><input class=\"sk-toggleable__control sk-hidden--visually\" id=\"sk-estimator-id-4\" type=\"checkbox\" checked><label for=\"sk-estimator-id-4\" class=\"sk-toggleable__label sk-toggleable__label-arrow\">RandomForestRegressor</label><div class=\"sk-toggleable__content\"><pre>RandomForestRegressor(max_depth=70, max_features=&#x27;sqrt&#x27;, min_samples_leaf=2,\n",
       "                      n_estimators=30, random_state=1)</pre></div></div></div></div></div>"
      ],
      "text/plain": [
       "RandomForestRegressor(max_depth=70, max_features='sqrt', min_samples_leaf=2,\n",
       "                      n_estimators=30, random_state=1)"
      ]
     },
     "execution_count": 144,
     "metadata": {},
     "output_type": "execute_result"
    }
   ],
   "source": [
    "best_mod = RF_random.best_estimator_\n",
    "best_mod"
   ]
  },
  {
   "cell_type": "code",
   "execution_count": 145,
   "metadata": {},
   "outputs": [],
   "source": [
    "X_train, X_val, y_train, y_val = train_test_split(X, y, test_size=0.3)\n",
    "y_pred = best_mod.predict(X_val)"
   ]
  },
  {
   "cell_type": "code",
   "execution_count": 146,
   "metadata": {},
   "outputs": [
    {
     "data": {
      "text/plain": [
       "(0.06872685137115327, 0.11726745194489499)"
      ]
     },
     "execution_count": 146,
     "metadata": {},
     "output_type": "execute_result"
    }
   ],
   "source": [
    "mae = metrics.mean_absolute_error(y_val, y_pred)\n",
    "mse = metrics.mean_squared_error(y_val, y_pred)\n",
    "rmse = mse**0.5\n",
    "\n",
    "mae, rmse"
   ]
  },
  {
   "cell_type": "code",
   "execution_count": 147,
   "metadata": {},
   "outputs": [
    {
     "data": {
      "image/png": "[encoded data removed]",
      "text/plain": [
       "<Figure size 640x480 with 1 Axes>"
      ]
     },
     "metadata": {},
     "output_type": "display_data"
    }
   ],
   "source": [
    "import seaborn as sns\n",
    "#create scatterplot with regression line and confidence interval lines\n",
    "sns.regplot(x=y_val, y=y_pred)\n",
    "plt.plot([0,1], [0,1], 'black') #1 to 1 line\n",
    "plt.ylabel('Predicted NDVI')\n",
    "plt.xlabel('Actual NDVI')\n",
    "# show the plot\n",
    "plt.show()"
   ]
  },
  {
   "cell_type": "markdown",
   "metadata": {},
   "source": [
    "### Get variable importance"
   ]
  },
  {
   "cell_type": "code",
   "execution_count": 148,
   "metadata": {},
   "outputs": [
    {
     "name": "stdout",
     "output_type": "stream",
     "text": [
      "Variable: 2017_5_SPI           Importance: 0.24\n",
      "Variable: soil_bulk_density    Importance: 0.21\n",
      "Variable: field_capacity       Importance: 0.2\n",
      "Variable: 2017_5_soil_moister  Importance: 0.17\n",
      "Variable: 2017_5_drought_index Importance: 0.06\n",
      "Variable: soil_type_Durixeralfs Importance: 0.02\n",
      "Variable: soil_type_Epiaqualfs Importance: 0.02\n",
      "Variable: soil_type_Endoaqualfs Importance: 0.01\n",
      "Variable: soil_type_Fragiaqualfs Importance: 0.01\n",
      "Variable: soil_type_Fragiudalfs Importance: 0.01\n",
      "Variable: soil_type_Fragixeralfs Importance: 0.01\n",
      "Variable: soil_type_Fraglossudalfs Importance: 0.01\n",
      "Variable: soil_type_Glossaqualfs Importance: 0.01\n",
      "Variable: soil_type_Glossocryalfs Importance: 0.01\n",
      "Variable: soil_type_Glossudalfs Importance: 0.01\n",
      "Variable: soil_type_Haploxeralfs Importance: 0.01\n",
      "Variable: soil_type_Albaqualfs Importance: 0.0\n",
      "Variable: soil_type_Cryaqualfs Importance: 0.0\n",
      "Variable: soil_type_Haplocryalfs Importance: 0.0\n",
      "Variable: soil_type_Hapludalfs Importance: 0.0\n",
      "Variable: soil_type_Haplustalfs Importance: 0.0\n",
      "Variable: soil_type_Natraqualfs Importance: 0.0\n",
      "Variable: soil_type_Natrixeralfs Importance: 0.0\n",
      "Variable: soil_type_Natrudalfs Importance: 0.0\n",
      "Variable: soil_type_Natrustalfs Importance: 0.0\n",
      "Variable: soil_type_Palecryalfs Importance: 0.0\n",
      "Variable: soil_type_Paleudalfs Importance: 0.0\n",
      "Variable: soil_type_Paleustalfs Importance: 0.0\n",
      "Variable: soil_type_Palexeralfs Importance: 0.0\n",
      "Variable: soil_type_Rhodustalfs Importance: 0.0\n"
     ]
    }
   ],
   "source": [
    "# Get numerical feature importances\n",
    "importances = list(best_mod.feature_importances_)\n",
    "# List of tuples with variable and importance\n",
    "feature_importances = [(feature, round(importance, 2)) for feature, importance in zip(X, importances)]\n",
    "# Sort the feature importances by most important first\n",
    "feature_importances = sorted(feature_importances, key = lambda x: x[1], reverse = True)\n",
    "# Print out the feature and importances \n",
    "[print('Variable: {:20} Importance: {}'.format(*pair)) for pair in feature_importances];"
   ]
  },
  {
   "cell_type": "code",
   "execution_count": 149,
   "metadata": {},
   "outputs": [
    {
     "data": {
      "image/png": "[encoded data removed]",
      "text/plain": [
       "<Figure size 640x480 with 1 Axes>"
      ]
     },
     "metadata": {},
     "output_type": "display_data"
    }
   ],
   "source": [
    "%matplotlib inline\n",
    "# Set the style\n",
    "plt.style.use('fivethirtyeight')\n",
    "# list of x locations for plotting\n",
    "x_values = list(range(len(importances)))\n",
    "# Make a bar chart\n",
    "plt.bar(x_values, importances, orientation = 'vertical')\n",
    "# Tick labels for x axis\n",
    "plt.xticks(x_values, X, rotation= 90, size=6)\n",
    "# Axis labels and title\n",
    "plt.ylabel('Importance'); plt.xlabel('Variable'); plt.title('Variable Importances');"
   ]
  },
  {
   "cell_type": "markdown",
   "metadata": {},
   "source": [
    "#### Setting up classification in GEE"
   ]
  },
  {
   "cell_type": "markdown",
   "metadata": {},
   "source": [
    "#### Create string description of RF model that is interpretable in GEE"
   ]
  },
  {
   "cell_type": "code",
   "execution_count": 53,
   "metadata": {},
   "outputs": [
    {
     "ename": "KeyboardInterrupt",
     "evalue": "",
     "output_type": "error",
     "traceback": [
      "\u001b[0;31m---------------------------------------------------------------------------\u001b[0m",
      "\u001b[0;31mKeyboardInterrupt\u001b[0m                         Traceback (most recent call last)",
      "Cell \u001b[0;32mIn [53], line 3\u001b[0m\n\u001b[1;32m      1\u001b[0m \u001b[39mfrom\u001b[39;00m \u001b[39mgeemap\u001b[39;00m \u001b[39mimport\u001b[39;00m ml\n\u001b[1;32m      2\u001b[0m feature_names \u001b[39m=\u001b[39m X\u001b[39m.\u001b[39mcolumns\u001b[39m.\u001b[39mtolist() \u001b[39m# get the names of the variables\u001b[39;00m\n\u001b[0;32m----> 3\u001b[0m best_mod_str \u001b[39m=\u001b[39m ml\u001b[39m.\u001b[39;49mrf_to_strings(best_mod, feature_names, output_mode\u001b[39m=\u001b[39;49m \u001b[39m\"\u001b[39;49m\u001b[39mREGRESSION\u001b[39;49m\u001b[39m\"\u001b[39;49m )  \u001b[39m# IMPORTANT IS TO SET output_mode TO REGRESSION, OR ELSE THE STRING CONVERTION IS INCORRECT AND THE CLASSFICATION DOES NOT WORK\u001b[39;00m\n\u001b[1;32m      4\u001b[0m ee_classifier \u001b[39m=\u001b[39m ml\u001b[39m.\u001b[39mstrings_to_classifier(best_mod_str)\n\u001b[1;32m      6\u001b[0m ee_classifier\n",
      "File \u001b[0;32m~/opt/anaconda3/envs/anaconda_env/lib/python3.10/site-packages/geemap/ml.py:302\u001b[0m, in \u001b[0;36mrf_to_strings\u001b[0;34m(estimator, feature_names, processes, output_mode)\u001b[0m\n\u001b[1;32m    292\u001b[0m \u001b[39mwith\u001b[39;00m mp\u001b[39m.\u001b[39mPool(processes) \u001b[39mas\u001b[39;00m pool:\n\u001b[1;32m    293\u001b[0m     proc \u001b[39m=\u001b[39m pool\u001b[39m.\u001b[39mmap_async(\n\u001b[1;32m    294\u001b[0m         partial(\n\u001b[1;32m    295\u001b[0m             tree_to_string,\n\u001b[0;32m   (...)\u001b[0m\n\u001b[1;32m    300\u001b[0m         estimators,\n\u001b[1;32m    301\u001b[0m     )\n\u001b[0;32m--> 302\u001b[0m     trees \u001b[39m=\u001b[39m \u001b[39mlist\u001b[39m(proc\u001b[39m.\u001b[39;49mget())\n\u001b[1;32m    304\u001b[0m \u001b[39mreturn\u001b[39;00m trees\n",
      "File \u001b[0;32m~/opt/anaconda3/envs/anaconda_env/lib/python3.10/multiprocessing/pool.py:768\u001b[0m, in \u001b[0;36mApplyResult.get\u001b[0;34m(self, timeout)\u001b[0m\n\u001b[1;32m    767\u001b[0m \u001b[39mdef\u001b[39;00m \u001b[39mget\u001b[39m(\u001b[39mself\u001b[39m, timeout\u001b[39m=\u001b[39m\u001b[39mNone\u001b[39;00m):\n\u001b[0;32m--> 768\u001b[0m     \u001b[39mself\u001b[39;49m\u001b[39m.\u001b[39;49mwait(timeout)\n\u001b[1;32m    769\u001b[0m     \u001b[39mif\u001b[39;00m \u001b[39mnot\u001b[39;00m \u001b[39mself\u001b[39m\u001b[39m.\u001b[39mready():\n\u001b[1;32m    770\u001b[0m         \u001b[39mraise\u001b[39;00m \u001b[39mTimeoutError\u001b[39;00m\n",
      "File \u001b[0;32m~/opt/anaconda3/envs/anaconda_env/lib/python3.10/multiprocessing/pool.py:765\u001b[0m, in \u001b[0;36mApplyResult.wait\u001b[0;34m(self, timeout)\u001b[0m\n\u001b[1;32m    764\u001b[0m \u001b[39mdef\u001b[39;00m \u001b[39mwait\u001b[39m(\u001b[39mself\u001b[39m, timeout\u001b[39m=\u001b[39m\u001b[39mNone\u001b[39;00m):\n\u001b[0;32m--> 765\u001b[0m     \u001b[39mself\u001b[39;49m\u001b[39m.\u001b[39;49m_event\u001b[39m.\u001b[39;49mwait(timeout)\n",
      "File \u001b[0;32m~/opt/anaconda3/envs/anaconda_env/lib/python3.10/threading.py:607\u001b[0m, in \u001b[0;36mEvent.wait\u001b[0;34m(self, timeout)\u001b[0m\n\u001b[1;32m    605\u001b[0m signaled \u001b[39m=\u001b[39m \u001b[39mself\u001b[39m\u001b[39m.\u001b[39m_flag\n\u001b[1;32m    606\u001b[0m \u001b[39mif\u001b[39;00m \u001b[39mnot\u001b[39;00m signaled:\n\u001b[0;32m--> 607\u001b[0m     signaled \u001b[39m=\u001b[39m \u001b[39mself\u001b[39;49m\u001b[39m.\u001b[39;49m_cond\u001b[39m.\u001b[39;49mwait(timeout)\n\u001b[1;32m    608\u001b[0m \u001b[39mreturn\u001b[39;00m signaled\n",
      "File \u001b[0;32m~/opt/anaconda3/envs/anaconda_env/lib/python3.10/threading.py:320\u001b[0m, in \u001b[0;36mCondition.wait\u001b[0;34m(self, timeout)\u001b[0m\n\u001b[1;32m    318\u001b[0m \u001b[39mtry\u001b[39;00m:    \u001b[39m# restore state no matter what (e.g., KeyboardInterrupt)\u001b[39;00m\n\u001b[1;32m    319\u001b[0m     \u001b[39mif\u001b[39;00m timeout \u001b[39mis\u001b[39;00m \u001b[39mNone\u001b[39;00m:\n\u001b[0;32m--> 320\u001b[0m         waiter\u001b[39m.\u001b[39;49macquire()\n\u001b[1;32m    321\u001b[0m         gotit \u001b[39m=\u001b[39m \u001b[39mTrue\u001b[39;00m\n\u001b[1;32m    322\u001b[0m     \u001b[39melse\u001b[39;00m:\n",
      "\u001b[0;31mKeyboardInterrupt\u001b[0m: "
     ]
    }
   ],
   "source": [
    "from geemap import ml\n",
    "feature_names = X.columns.tolist() # get the names of the variables\n",
    "best_mod_str = ml.rf_to_strings(best_mod, feature_names, output_mode= \"REGRESSION\" )  # IMPORTANT IS TO SET output_mode TO REGRESSION, OR ELSE THE STRING CONVERTION IS INCORRECT AND THE CLASSFICATION DOES NOT WORK\n",
    "ee_classifier = ml.strings_to_classifier(best_mod_str)\n",
    "\n",
    "ee_classifier"
   ]
  },
  {
   "cell_type": "code",
   "execution_count": null,
   "metadata": {},
   "outputs": [],
   "source": [
    "classification = allRas_subset.mask(wetland_mask).clip(bbox).classify(ee_classifier) # really shouldnt make a difference but get a memory error if I do not re-clip classificaiton. \n",
    "#classification\n",
    "\n"
   ]
  },
  {
   "cell_type": "code",
   "execution_count": null,
   "metadata": {},
   "outputs": [
    {
     "ename": "EEException",
     "evalue": "Image.classify: The image to be classified does not contain all the bands which the classifier expects.\n  Image bands: [2017_5_median_ndvi, 2017_5_drought_index, 2017_5_soil_moister, 2017_5_SPI, grtgroup, field_capacity, soil_bulk_density].\n  Classifier inputs: [2017_5_soil_moister, field_capacity, grtgroup_14, grtgroup_12, 2017_5_drought_index, grtgroup_18, soil_bulk_density, 2017_5_SPI, grtgroup_4, grtgroup_8].\n  Missing bands: [grtgroup_4, grtgroup_12, grtgroup_8, grtgroup_14, grtgroup_18].",
     "output_type": "error",
     "traceback": [
      "\u001b[0;31m---------------------------------------------------------------------------\u001b[0m",
      "\u001b[0;31mHttpError\u001b[0m                                 Traceback (most recent call last)",
      "File \u001b[0;32m~/opt/anaconda3/envs/anaconda_env/lib/python3.10/site-packages/ee/data.py:328\u001b[0m, in \u001b[0;36m_execute_cloud_call\u001b[0;34m(call, num_retries)\u001b[0m\n\u001b[1;32m    327\u001b[0m \u001b[39mtry\u001b[39;00m:\n\u001b[0;32m--> 328\u001b[0m   \u001b[39mreturn\u001b[39;00m call\u001b[39m.\u001b[39;49mexecute(num_retries\u001b[39m=\u001b[39;49mnum_retries)\n\u001b[1;32m    329\u001b[0m \u001b[39mexcept\u001b[39;00m googleapiclient\u001b[39m.\u001b[39merrors\u001b[39m.\u001b[39mHttpError \u001b[39mas\u001b[39;00m e:\n",
      "File \u001b[0;32m~/opt/anaconda3/envs/anaconda_env/lib/python3.10/site-packages/googleapiclient/_helpers.py:130\u001b[0m, in \u001b[0;36mpositional.<locals>.positional_decorator.<locals>.positional_wrapper\u001b[0;34m(*args, **kwargs)\u001b[0m\n\u001b[1;32m    129\u001b[0m         logger\u001b[39m.\u001b[39mwarning(message)\n\u001b[0;32m--> 130\u001b[0m \u001b[39mreturn\u001b[39;00m wrapped(\u001b[39m*\u001b[39;49margs, \u001b[39m*\u001b[39;49m\u001b[39m*\u001b[39;49mkwargs)\n",
      "File \u001b[0;32m~/opt/anaconda3/envs/anaconda_env/lib/python3.10/site-packages/googleapiclient/http.py:938\u001b[0m, in \u001b[0;36mHttpRequest.execute\u001b[0;34m(self, http, num_retries)\u001b[0m\n\u001b[1;32m    937\u001b[0m \u001b[39mif\u001b[39;00m resp\u001b[39m.\u001b[39mstatus \u001b[39m>\u001b[39m\u001b[39m=\u001b[39m \u001b[39m300\u001b[39m:\n\u001b[0;32m--> 938\u001b[0m     \u001b[39mraise\u001b[39;00m HttpError(resp, content, uri\u001b[39m=\u001b[39m\u001b[39mself\u001b[39m\u001b[39m.\u001b[39muri)\n\u001b[1;32m    939\u001b[0m \u001b[39mreturn\u001b[39;00m \u001b[39mself\u001b[39m\u001b[39m.\u001b[39mpostproc(resp, content)\n",
      "\u001b[0;31mHttpError\u001b[0m: <HttpError 400 when requesting https://earthengine.googleapis.com/v1alpha/projects/earthengine-legacy/maps?fields=name&alt=json returned \"Image.classify: The image to be classified does not contain all the bands which the classifier expects.\n  Image bands: [2017_5_median_ndvi, 2017_5_drought_index, 2017_5_soil_moister, 2017_5_SPI, grtgroup, field_capacity, soil_bulk_density].\n  Classifier inputs: [2017_5_soil_moister, field_capacity, grtgroup_14, grtgroup_12, 2017_5_drought_index, grtgroup_18, soil_bulk_density, 2017_5_SPI, grtgroup_4, grtgroup_8].\n  Missing bands: [grtgroup_4, grtgroup_12, grtgroup_8, grtgroup_14, grtgroup_18].\". Details: \"Image.classify: The image to be classified does not contain all the bands which the classifier expects.\n  Image bands: [2017_5_median_ndvi, 2017_5_drought_index, 2017_5_soil_moister, 2017_5_SPI, grtgroup, field_capacity, soil_bulk_density].\n  Classifier inputs: [2017_5_soil_moister, field_capacity, grtgroup_14, grtgroup_12, 2017_5_drought_index, grtgroup_18, soil_bulk_density, 2017_5_SPI, grtgroup_4, grtgroup_8].\n  Missing bands: [grtgroup_4, grtgroup_12, grtgroup_8, grtgroup_14, grtgroup_18].\">",
      "\nDuring handling of the above exception, another exception occurred:\n",
      "\u001b[0;31mEEException\u001b[0m                               Traceback (most recent call last)",
      "Cell \u001b[0;32mIn [68], line 1\u001b[0m\n\u001b[0;32m----> 1\u001b[0m Map\u001b[39m.\u001b[39;49maddLayer(classification, ndviVis , \u001b[39m'\u001b[39;49m\u001b[39mclassification\u001b[39;49m\u001b[39m'\u001b[39;49m)\n",
      "File \u001b[0;32m~/opt/anaconda3/envs/anaconda_env/lib/python3.10/site-packages/geemap/geemap.py:1489\u001b[0m, in \u001b[0;36mMap.add_ee_layer\u001b[0;34m(self, ee_object, vis_params, name, shown, opacity)\u001b[0m\n\u001b[1;32m   1484\u001b[0m     \u001b[39melif\u001b[39;00m \u001b[39mnot\u001b[39;00m \u001b[39misinstance\u001b[39m(vis_params[\u001b[39m\"\u001b[39m\u001b[39mpalette\u001b[39m\u001b[39m\"\u001b[39m], \u001b[39mlist\u001b[39m):\n\u001b[1;32m   1485\u001b[0m         \u001b[39mraise\u001b[39;00m \u001b[39mValueError\u001b[39;00m(\n\u001b[1;32m   1486\u001b[0m             \u001b[39m\"\u001b[39m\u001b[39mThe palette must be a list of colors or a string or a Box object.\u001b[39m\u001b[39m\"\u001b[39m\n\u001b[1;32m   1487\u001b[0m         )\n\u001b[0;32m-> 1489\u001b[0m map_id_dict \u001b[39m=\u001b[39m ee\u001b[39m.\u001b[39;49mImage(image)\u001b[39m.\u001b[39;49mgetMapId(vis_params)\n\u001b[1;32m   1490\u001b[0m url \u001b[39m=\u001b[39m map_id_dict[\u001b[39m\"\u001b[39m\u001b[39mtile_fetcher\u001b[39m\u001b[39m\"\u001b[39m]\u001b[39m.\u001b[39murl_format\n\u001b[1;32m   1491\u001b[0m tile_layer \u001b[39m=\u001b[39m ipyleaflet\u001b[39m.\u001b[39mTileLayer(\n\u001b[1;32m   1492\u001b[0m     url\u001b[39m=\u001b[39murl,\n\u001b[1;32m   1493\u001b[0m     attribution\u001b[39m=\u001b[39m\u001b[39m\"\u001b[39m\u001b[39mGoogle Earth Engine\u001b[39m\u001b[39m\"\u001b[39m,\n\u001b[0;32m   (...)\u001b[0m\n\u001b[1;32m   1497\u001b[0m     max_zoom\u001b[39m=\u001b[39m\u001b[39m24\u001b[39m,\n\u001b[1;32m   1498\u001b[0m )\n",
      "File \u001b[0;32m~/opt/anaconda3/envs/anaconda_env/lib/python3.10/site-packages/ee/image.py:132\u001b[0m, in \u001b[0;36mImage.getMapId\u001b[0;34m(self, vis_params)\u001b[0m\n\u001b[1;32m    130\u001b[0m vis_image, request \u001b[39m=\u001b[39m \u001b[39mself\u001b[39m\u001b[39m.\u001b[39m_apply_visualization(vis_params)\n\u001b[1;32m    131\u001b[0m request[\u001b[39m'\u001b[39m\u001b[39mimage\u001b[39m\u001b[39m'\u001b[39m] \u001b[39m=\u001b[39m vis_image\n\u001b[0;32m--> 132\u001b[0m response \u001b[39m=\u001b[39m data\u001b[39m.\u001b[39;49mgetMapId(request)\n\u001b[1;32m    133\u001b[0m response[\u001b[39m'\u001b[39m\u001b[39mimage\u001b[39m\u001b[39m'\u001b[39m] \u001b[39m=\u001b[39m \u001b[39mself\u001b[39m\n\u001b[1;32m    134\u001b[0m \u001b[39mreturn\u001b[39;00m response\n",
      "File \u001b[0;32m~/opt/anaconda3/envs/anaconda_env/lib/python3.10/site-packages/ee/data.py:593\u001b[0m, in \u001b[0;36mgetMapId\u001b[0;34m(params)\u001b[0m\n\u001b[1;32m    591\u001b[0m \u001b[39mif\u001b[39;00m workload_tag:\n\u001b[1;32m    592\u001b[0m   queryParams[\u001b[39m'\u001b[39m\u001b[39mworkloadTag\u001b[39m\u001b[39m'\u001b[39m] \u001b[39m=\u001b[39m workload_tag\n\u001b[0;32m--> 593\u001b[0m result \u001b[39m=\u001b[39m _execute_cloud_call(\n\u001b[1;32m    594\u001b[0m     _get_cloud_api_resource()\u001b[39m.\u001b[39;49mprojects()\u001b[39m.\u001b[39;49mmaps()\u001b[39m.\u001b[39;49mcreate(\n\u001b[1;32m    595\u001b[0m         parent\u001b[39m=\u001b[39;49m_get_projects_path(), \u001b[39m*\u001b[39;49m\u001b[39m*\u001b[39;49mqueryParams))\n\u001b[1;32m    596\u001b[0m map_name \u001b[39m=\u001b[39m result[\u001b[39m'\u001b[39m\u001b[39mname\u001b[39m\u001b[39m'\u001b[39m]\n\u001b[1;32m    597\u001b[0m url_format \u001b[39m=\u001b[39m \u001b[39m'\u001b[39m\u001b[39m%s\u001b[39;00m\u001b[39m/\u001b[39m\u001b[39m%s\u001b[39;00m\u001b[39m/\u001b[39m\u001b[39m%s\u001b[39;00m\u001b[39m/tiles/\u001b[39m\u001b[39m{z}\u001b[39;00m\u001b[39m/\u001b[39m\u001b[39m{x}\u001b[39;00m\u001b[39m/\u001b[39m\u001b[39m{y}\u001b[39;00m\u001b[39m'\u001b[39m \u001b[39m%\u001b[39m (\n\u001b[1;32m    598\u001b[0m     _tile_base_url, _cloud_api_utils\u001b[39m.\u001b[39mVERSION, map_name)\n",
      "File \u001b[0;32m~/opt/anaconda3/envs/anaconda_env/lib/python3.10/site-packages/ee/data.py:330\u001b[0m, in \u001b[0;36m_execute_cloud_call\u001b[0;34m(call, num_retries)\u001b[0m\n\u001b[1;32m    328\u001b[0m   \u001b[39mreturn\u001b[39;00m call\u001b[39m.\u001b[39mexecute(num_retries\u001b[39m=\u001b[39mnum_retries)\n\u001b[1;32m    329\u001b[0m \u001b[39mexcept\u001b[39;00m googleapiclient\u001b[39m.\u001b[39merrors\u001b[39m.\u001b[39mHttpError \u001b[39mas\u001b[39;00m e:\n\u001b[0;32m--> 330\u001b[0m   \u001b[39mraise\u001b[39;00m _translate_cloud_exception(e)\n",
      "\u001b[0;31mEEException\u001b[0m: Image.classify: The image to be classified does not contain all the bands which the classifier expects.\n  Image bands: [2017_5_median_ndvi, 2017_5_drought_index, 2017_5_soil_moister, 2017_5_SPI, grtgroup, field_capacity, soil_bulk_density].\n  Classifier inputs: [2017_5_soil_moister, field_capacity, grtgroup_14, grtgroup_12, 2017_5_drought_index, grtgroup_18, soil_bulk_density, 2017_5_SPI, grtgroup_4, grtgroup_8].\n  Missing bands: [grtgroup_4, grtgroup_12, grtgroup_8, grtgroup_14, grtgroup_18]."
     ]
    }
   ],
   "source": [
    "Map.addLayer(classification, ndviVis , 'classification')"
   ]
  },
  {
   "cell_type": "code",
   "execution_count": null,
   "metadata": {},
   "outputs": [],
   "source": [
    "ndvi = (str(year_month)+\"_median_ndvi\")\n",
    "\n",
    "# Compute the difference between actual and predicted NDVI\n",
    "diff = allRas_subset.select(ndvi).mask(wetland_mask).subtract(classification)\n",
    "\n",
    "# Compute the squared difference between actual and predicted NDVI\n",
    "#squared_difference = diff.pow(2)\n"
   ]
  },
  {
   "cell_type": "code",
   "execution_count": null,
   "metadata": {},
   "outputs": [],
   "source": [
    "diffVis = {\"palette\": ['#440154', \"#414487\", \"#2a788e\", \"#22a884\", \"#7ad151\", \"#fde725\", 'red'], \"min\":0, \"max\": 1}\n",
    "\n",
    "Map.addLayer(diff, diffVis , 'diff')\n",
    "#Map.addLayer(squared_difference, diffVis , 'squared_difference')\n",
    "\n",
    "#Map\n"
   ]
  },
  {
   "cell_type": "code",
   "execution_count": 53,
   "metadata": {},
   "outputs": [
    {
     "data": {
      "application/vnd.jupyter.widget-view+json": {
       "model_id": "1be5fb95d53e47d98a011acb4c90dd46",
       "version_major": 2,
       "version_minor": 0
      },
      "text/plain": [
       "Map(center=[52.8, 11.5], controls=(WidgetControl(options=['position', 'transparent_bg'], widget=HBox(children=…"
      ]
     },
     "metadata": {},
     "output_type": "display_data"
    }
   ],
   "source": [
    "Map\n"
   ]
  },
  {
   "cell_type": "markdown",
   "metadata": {},
   "source": [
    "##### create some scatter plots"
   ]
  },
  {
   "cell_type": "code",
   "execution_count": null,
   "metadata": {},
   "outputs": [
    {
     "data": {
      "text/html": [
       "<div><style>:root {\n",
       "  --font-color-primary: var(--jp-content-font-color0, rgba(0, 0, 0, 1));\n",
       "  --font-color-secondary: var(--jp-content-font-color2, rgba(0, 0, 0, 0.6));\n",
       "  --font-color-accent: rgba(123, 31, 162, 1);\n",
       "  --border-color: var(--jp-border-color2, #e0e0e0);\n",
       "  --background-color: var(--jp-layout-color0, white);\n",
       "  --background-color-row-even: var(--jp-layout-color1, white);\n",
       "  --background-color-row-odd: var(--jp-layout-color2, #eeeeee);\n",
       "}\n",
       "\n",
       "html[theme=\"dark\"],\n",
       "body[data-theme=\"dark\"],\n",
       "body.vscode-dark {\n",
       "  --font-color-primary: rgba(255, 255, 255, 1);\n",
       "  --font-color-secondary: rgba(255, 255, 255, 0.6);\n",
       "  --font-color-accent: rgb(173, 132, 190);\n",
       "  --border-color: #2e2e2e;\n",
       "  --background-color: #111111;\n",
       "  --background-color-row-even: #111111;\n",
       "  --background-color-row-odd: #313131;\n",
       "}\n",
       "\n",
       ".ee {\n",
       "  padding: 1em;\n",
       "  line-height: 1.5em;\n",
       "  min-width: 300px;\n",
       "  max-width: 1200px;\n",
       "  overflow-y: scroll;\n",
       "  max-height: 600px;\n",
       "  border: 1px solid var(--border-color);\n",
       "  font-family: monospace;\n",
       "}\n",
       "\n",
       ".ee li {\n",
       "  list-style-type: none;\n",
       "}\n",
       "\n",
       ".ee ul {\n",
       "  padding-left: 1.5em !important;\n",
       "  margin: 0;\n",
       "}\n",
       "\n",
       ".ee > ul {\n",
       "  padding-left: 0 !important;\n",
       "}\n",
       "\n",
       ".ee-open,\n",
       ".ee-shut {\n",
       "  color: var(--font-color-secondary);\n",
       "  cursor: pointer;\n",
       "  margin: 0;\n",
       "}\n",
       "\n",
       ".ee-open:hover,\n",
       ".ee-shut:hover {\n",
       "  color: var(--font-color-primary);\n",
       "}\n",
       "\n",
       ".ee-k {\n",
       "  color: var(--font-color-accent);\n",
       "  margin-right: 6px;\n",
       "}\n",
       "\n",
       ".ee-v {\n",
       "  color: var(--font-color-primary);\n",
       "}\n",
       "\n",
       ".ee-toggle {\n",
       "  display: none;\n",
       "}\n",
       "\n",
       ".ee-shut + ul {\n",
       "  display: none;\n",
       "}\n",
       "\n",
       ".ee-open + ul {\n",
       "  display: block;\n",
       "}\n",
       "\n",
       ".ee-shut::before {\n",
       "  display: inline-block;\n",
       "  content: \"▼\";\n",
       "  margin-right: 6px;\n",
       "  transform: rotate(-90deg);\n",
       "  transition: transform 0.2s;\n",
       "}\n",
       "\n",
       ".ee-open::before {\n",
       "  transform: rotate(0deg);\n",
       "  display: inline-block;\n",
       "  content: \"▼\";\n",
       "  margin-right: 6px;\n",
       "  transition: transform 0.2s;\n",
       "}\n",
       "</style><div class='ee'><ul><li><label class='ee-shut'>Image (2 bands)<input type='checkbox' class='ee-toggle'></label><ul><li><span class='ee-k'>type:</span><span class='ee-v'>Image</span></li><li><label class='ee-shut'>bands: List (2 elements)<input type='checkbox' class='ee-toggle'></label><ul><li><label class='ee-shut'>0: \"2017_5_median_ndvi\", float, EPSG:4326, 5x4 px<input type='checkbox' class='ee-toggle'></label><ul><li><span class='ee-k'>id:</span><span class='ee-v'>2017_5_median_ndvi</span></li><li><span class='ee-k'>crs:</span><span class='ee-v'>EPSG:4326</span></li><li><label class='ee-shut'>crs_transform: [1, 0, 0, 0, 1, 0]<input type='checkbox' class='ee-toggle'></label><ul><li><span class='ee-k'>0:</span><span class='ee-v'>1</span></li><li><span class='ee-k'>1:</span><span class='ee-v'>0</span></li><li><span class='ee-k'>2:</span><span class='ee-v'>0</span></li><li><span class='ee-k'>3:</span><span class='ee-v'>0</span></li><li><span class='ee-k'>4:</span><span class='ee-v'>1</span></li><li><span class='ee-k'>5:</span><span class='ee-v'>0</span></li></ul></li><li><label class='ee-shut'>data_type: float<input type='checkbox' class='ee-toggle'></label><ul><li><span class='ee-k'>type:</span><span class='ee-v'>PixelType</span></li><li><span class='ee-k'>max:</span><span class='ee-v'>1</span></li><li><span class='ee-k'>min:</span><span class='ee-v'>-1</span></li><li><span class='ee-k'>precision:</span><span class='ee-v'>float</span></li></ul></li><li><label class='ee-shut'>dimensions: [5, 4]<input type='checkbox' class='ee-toggle'></label><ul><li><span class='ee-k'>0:</span><span class='ee-v'>5</span></li><li><span class='ee-k'>1:</span><span class='ee-v'>4</span></li></ul></li><li><label class='ee-shut'>origin: [10, 51]<input type='checkbox' class='ee-toggle'></label><ul><li><span class='ee-k'>0:</span><span class='ee-v'>10</span></li><li><span class='ee-k'>1:</span><span class='ee-v'>51</span></li></ul></li></ul></li><li><label class='ee-shut'>1: \"classification\", float, PROJCS[\"ETRS89_UTM_zone_33N_N_zE\", \n",
       "  GEOGCS[\"ETRS89\", \n",
       "    DATUM[\"European_Terrestrial_Reference_System_1989\", \n",
       "      SPHEROID[\"GRS 1980\", 6378137.0, 298.2572221010042, AUTHORITY[\"EPSG\",\"7019\"]], \n",
       "      AUTHORITY[\"EPSG\",\"6258\"]], \n",
       "    PRIMEM[\"Greenwich\", 0.0], \n",
       "    UNIT[\"degree\", 0.017453292519943295], \n",
       "    AXIS[\"Longitude\", EAST], \n",
       "    AXIS[\"Latitude\", NORTH]], \n",
       "  PROJECTION[\"Transverse_Mercator\"], \n",
       "  PARAMETER[\"central_meridian\", 15.0], \n",
       "  PARAMETER[\"latitude_of_origin\", 0.0], \n",
       "  PARAMETER[\"scale_factor\", 0.9996], \n",
       "  PARAMETER[\"false_easting\", 33500000.0], \n",
       "  PARAMETER[\"false_northing\", 0.0], \n",
       "  UNIT[\"m\", 1.0], \n",
       "  AXIS[\"x\", EAST], \n",
       "  AXIS[\"y\", NORTH]], 271x369 px<input type='checkbox' class='ee-toggle'></label><ul><li><span class='ee-k'>id:</span><span class='ee-v'>classification</span></li><li><span class='ee-k'>crs:</span><span class='ee-v'>PROJCS[\"ETRS89_UTM_zone_33N_N_zE\", \n",
       "  GEOGCS[\"ETRS89\", \n",
       "    DATUM[\"European_Terrestrial_Reference_System_1989\", \n",
       "      SPHEROID[\"GRS 1980\", 6378137.0, 298.2572221010042, AUTHORITY[\"EPSG\",\"7019\"]], \n",
       "      AUTHORITY[\"EPSG\",\"6258\"]], \n",
       "    PRIMEM[\"Greenwich\", 0.0], \n",
       "    UNIT[\"degree\", 0.017453292519943295], \n",
       "    AXIS[\"Longitude\", EAST], \n",
       "    AXIS[\"Latitude\", NORTH]], \n",
       "  PROJECTION[\"Transverse_Mercator\"], \n",
       "  PARAMETER[\"central_meridian\", 15.0], \n",
       "  PARAMETER[\"latitude_of_origin\", 0.0], \n",
       "  PARAMETER[\"scale_factor\", 0.9996], \n",
       "  PARAMETER[\"false_easting\", 33500000.0], \n",
       "  PARAMETER[\"false_northing\", 0.0], \n",
       "  UNIT[\"m\", 1.0], \n",
       "  AXIS[\"x\", EAST], \n",
       "  AXIS[\"y\", NORTH]]</span></li><li><label class='ee-shut'>crs_transform: List (6 elements)<input type='checkbox' class='ee-toggle'></label><ul><li><span class='ee-k'>0:</span><span class='ee-v'>997.9335793357945</span></li><li><span class='ee-k'>1:</span><span class='ee-v'>0</span></li><li><span class='ee-k'>2:</span><span class='ee-v'>33208443.37502673</span></li><li><span class='ee-k'>3:</span><span class='ee-v'>0</span></li><li><span class='ee-k'>4:</span><span class='ee-v'>-997.8319783197819</span></li><li><span class='ee-k'>5:</span><span class='ee-v'>6060343.462801612</span></li></ul></li><li><label class='ee-shut'>data_type: float<input type='checkbox' class='ee-toggle'></label><ul><li><span class='ee-k'>type:</span><span class='ee-v'>PixelType</span></li><li><span class='ee-k'>max:</span><span class='ee-v'>0.9479480385780334</span></li><li><span class='ee-k'>min:</span><span class='ee-v'>0.23490899801254272</span></li><li><span class='ee-k'>precision:</span><span class='ee-v'>float</span></li></ul></li><li><label class='ee-shut'>dimensions: [271, 369]<input type='checkbox' class='ee-toggle'></label><ul><li><span class='ee-k'>0:</span><span class='ee-v'>271</span></li><li><span class='ee-k'>1:</span><span class='ee-v'>369</span></li></ul></li></ul></li></ul></li><li><label class='ee-shut'>properties: Object (1 property)<input type='checkbox' class='ee-toggle'></label><ul><li><label class='ee-shut'>system:footprint: Polygon (19 vertices)<input type='checkbox' class='ee-toggle'></label><ul><li><span class='ee-k'>type:</span><span class='ee-v'>Polygon</span></li><li><label class='ee-shut'>coordinates: List (1 element)<input type='checkbox' class='ee-toggle'></label><ul><li><label class='ee-shut'>0: List (19 elements)<input type='checkbox' class='ee-toggle'></label><ul><li><label class='ee-shut'>0: [14.703659836040522, 51.38352696799094]<input type='checkbox' class='ee-toggle'></label><ul><li><span class='ee-k'>0:</span><span class='ee-v'>14.703659836040522</span></li><li><span class='ee-k'>1:</span><span class='ee-v'>51.38352696799094</span></li></ul></li><li><label class='ee-shut'>1: [14.703765277218872, 51.38464978719612]<input type='checkbox' class='ee-toggle'></label><ul><li><span class='ee-k'>0:</span><span class='ee-v'>14.703765277218872</span></li><li><span class='ee-k'>1:</span><span class='ee-v'>51.38464978719612</span></li></ul></li><li><label class='ee-shut'>2: [14.68024140151677, 54.685521628689415]<input type='checkbox' class='ee-toggle'></label><ul><li><span class='ee-k'>0:</span><span class='ee-v'>14.68024140151677</span></li><li><span class='ee-k'>1:</span><span class='ee-v'>54.685521628689415</span></li></ul></li><li><label class='ee-shut'>3: [14.67389548211368, 54.68964335744382]<input type='checkbox' class='ee-toggle'></label><ul><li><span class='ee-k'>0:</span><span class='ee-v'>14.67389548211368</span></li><li><span class='ee-k'>1:</span><span class='ee-v'>54.68964335744382</span></li></ul></li><li><label class='ee-shut'>4: [14.66848811601018, 54.69419052297301]<input type='checkbox' class='ee-toggle'></label><ul><li><span class='ee-k'>0:</span><span class='ee-v'>14.66848811601018</span></li><li><span class='ee-k'>1:</span><span class='ee-v'>54.69419052297301</span></li></ul></li><li><label class='ee-shut'>5: [14.666577556081188, 54.69439521423407]<input type='checkbox' class='ee-toggle'></label><ul><li><span class='ee-k'>0:</span><span class='ee-v'>14.666577556081188</span></li><li><span class='ee-k'>1:</span><span class='ee-v'>54.69439521423407</span></li></ul></li><li><label class='ee-shut'>6: [14.664631857114165, 54.69446037912287]<input type='checkbox' class='ee-toggle'></label><ul><li><span class='ee-k'>0:</span><span class='ee-v'>14.664631857114165</span></li><li><span class='ee-k'>1:</span><span class='ee-v'>54.69446037912287</span></li></ul></li><li><label class='ee-shut'>7: [10.491948534910662, 54.61097061778679]<input type='checkbox' class='ee-toggle'></label><ul><li><span class='ee-k'>0:</span><span class='ee-v'>10.491948534910662</span></li><li><span class='ee-k'>1:</span><span class='ee-v'>54.61097061778679</span></li></ul></li><li><label class='ee-shut'>8: [10.48523004196247, 54.607066772359545]<input type='checkbox' class='ee-toggle'></label><ul><li><span class='ee-k'>0:</span><span class='ee-v'>10.48523004196247</span></li><li><span class='ee-k'>1:</span><span class='ee-v'>54.607066772359545</span></li></ul></li><li><label class='ee-shut'>9: [10.477713981986264, 54.60368620200849]<input type='checkbox' class='ee-toggle'></label><ul><li><span class='ee-k'>0:</span><span class='ee-v'>10.477713981986264</span></li><li><span class='ee-k'>1:</span><span class='ee-v'>54.60368620200849</span></li></ul></li><li><label class='ee-shut'>10: [10.477391234223795, 54.602190258999464]<input type='checkbox' class='ee-toggle'></label><ul><li><span class='ee-k'>0:</span><span class='ee-v'>10.477391234223795</span></li><li><span class='ee-k'>1:</span><span class='ee-v'>54.602190258999464</span></li></ul></li><li><label class='ee-shut'>11: [10.809000910178465, 51.30998478805018]<input type='checkbox' class='ee-toggle'></label><ul><li><span class='ee-k'>0:</span><span class='ee-v'>10.809000910178465</span></li><li><span class='ee-k'>1:</span><span class='ee-v'>51.30998478805018</span></li></ul></li><li><label class='ee-shut'>12: [10.81520966574495, 51.30606912419187]<input type='checkbox' class='ee-toggle'></label><ul><li><span class='ee-k'>0:</span><span class='ee-v'>10.81520966574495</span></li><li><span class='ee-k'>1:</span><span class='ee-v'>51.30606912419187</span></li></ul></li><li><label class='ee-shut'>13: [10.820578088354521, 51.301695145419316]<input type='checkbox' class='ee-toggle'></label><ul><li><span class='ee-k'>0:</span><span class='ee-v'>10.820578088354521</span></li><li><span class='ee-k'>1:</span><span class='ee-v'>51.301695145419316</span></li></ul></li><li><label class='ee-shut'>14: [10.822966168220816, 51.301499333046735]<input type='checkbox' class='ee-toggle'></label><ul><li><span class='ee-k'>0:</span><span class='ee-v'>10.822966168220816</span></li><li><span class='ee-k'>1:</span><span class='ee-v'>51.301499333046735</span></li></ul></li><li><label class='ee-shut'>15: [14.689438809792835, 51.375632149954725]<input type='checkbox' class='ee-toggle'></label><ul><li><span class='ee-k'>0:</span><span class='ee-v'>14.689438809792835</span></li><li><span class='ee-k'>1:</span><span class='ee-v'>51.375632149954725</span></li></ul></li><li><label class='ee-shut'>16: [14.696042896366095, 51.37929895507965]<input type='checkbox' class='ee-toggle'></label><ul><li><span class='ee-k'>0:</span><span class='ee-v'>14.696042896366095</span></li><li><span class='ee-k'>1:</span><span class='ee-v'>51.37929895507965</span></li></ul></li><li><label class='ee-shut'>17: [14.703330408873159, 51.38242129752219]<input type='checkbox' class='ee-toggle'></label><ul><li><span class='ee-k'>0:</span><span class='ee-v'>14.703330408873159</span></li><li><span class='ee-k'>1:</span><span class='ee-v'>51.38242129752219</span></li></ul></li><li><label class='ee-shut'>18: [14.703659836040522, 51.38352696799094]<input type='checkbox' class='ee-toggle'></label><ul><li><span class='ee-k'>0:</span><span class='ee-v'>14.703659836040522</span></li><li><span class='ee-k'>1:</span><span class='ee-v'>51.38352696799094</span></li></ul></li></ul></li></ul></li></ul></li></ul></li></ul></li></ul></div><script>function toggleHeader() {\n",
       "    const parent = this.parentElement;\n",
       "    parent.className = parent.className === \"ee-open\" ? \"ee-shut\" : \"ee-open\";\n",
       "}\n",
       "\n",
       "for (let c of document.getElementsByClassName(\"ee-toggle\")) {\n",
       "    c.onclick = toggleHeader;\n",
       "}</script></div>"
      ],
      "text/plain": [
       "<ee.image.Image at 0x7fb991a8aa70>"
      ]
     },
     "execution_count": 54,
     "metadata": {},
     "output_type": "execute_result"
    }
   ],
   "source": [
    "\n",
    "ndvi_compairison = (allRas_subset.select(ndvi).mask(wetland_mask).clip(bbox).addBands([classification])).mask(wetland_mask).clip(bbox)\n",
    "ndvi_compairison\n"
   ]
  },
  {
   "cell_type": "code",
   "execution_count": null,
   "metadata": {},
   "outputs": [],
   "source": [
    "\n",
    "values = ndvi_compairison.sample(region=bbox, scale=10, numPixels=50000, geometries=False).getInfo()"
   ]
  },
  {
   "cell_type": "code",
   "execution_count": null,
   "metadata": {},
   "outputs": [
    {
     "data": {
      "text/html": [
       "<div>\n",
       "<style scoped>\n",
       "    .dataframe tbody tr th:only-of-type {\n",
       "        vertical-align: middle;\n",
       "    }\n",
       "\n",
       "    .dataframe tbody tr th {\n",
       "        vertical-align: top;\n",
       "    }\n",
       "\n",
       "    .dataframe thead th {\n",
       "        text-align: right;\n",
       "    }\n",
       "</style>\n",
       "<table border=\"1\" class=\"dataframe\">\n",
       "  <thead>\n",
       "    <tr style=\"text-align: right;\">\n",
       "      <th></th>\n",
       "      <th>2017_5_median_ndvi</th>\n",
       "      <th>classification</th>\n",
       "    </tr>\n",
       "  </thead>\n",
       "  <tbody>\n",
       "    <tr>\n",
       "      <th>0</th>\n",
       "      <td>0.792766</td>\n",
       "      <td>0.774526</td>\n",
       "    </tr>\n",
       "    <tr>\n",
       "      <th>0</th>\n",
       "      <td>0.940976</td>\n",
       "      <td>0.859042</td>\n",
       "    </tr>\n",
       "    <tr>\n",
       "      <th>0</th>\n",
       "      <td>0.870252</td>\n",
       "      <td>0.720634</td>\n",
       "    </tr>\n",
       "    <tr>\n",
       "      <th>0</th>\n",
       "      <td>0.838761</td>\n",
       "      <td>0.797752</td>\n",
       "    </tr>\n",
       "    <tr>\n",
       "      <th>0</th>\n",
       "      <td>0.685972</td>\n",
       "      <td>0.734768</td>\n",
       "    </tr>\n",
       "  </tbody>\n",
       "</table>\n",
       "</div>"
      ],
      "text/plain": [
       "   2017_5_median_ndvi  classification\n",
       "0            0.792766        0.774526\n",
       "0            0.940976        0.859042\n",
       "0            0.870252        0.720634\n",
       "0            0.838761        0.797752\n",
       "0            0.685972        0.734768"
      ]
     },
     "execution_count": 56,
     "metadata": {},
     "output_type": "execute_result"
    }
   ],
   "source": [
    "flag = 0\n",
    "featureValues = values['features']\n",
    "for f in featureValues:\n",
    " # Chekc here always the right order of the indices\n",
    "    prop = f['properties']\n",
    "    if flag == 0:\n",
    "        out_pd = pd.DataFrame(prop, index=[0])\n",
    "        flag = 1\n",
    "    else:\n",
    "        out_pd = pd.concat([out_pd, pd.DataFrame(prop, index=[0])])\n",
    "out_pd.head()"
   ]
  },
  {
   "cell_type": "code",
   "execution_count": null,
   "metadata": {},
   "outputs": [
    {
     "data": {
      "image/png": "[encoded data removed]",
      "text/plain": [
       "<Figure size 640x480 with 1 Axes>"
      ]
     },
     "metadata": {},
     "output_type": "display_data"
    }
   ],
   "source": [
    "from scipy.stats import gaussian_kde\n",
    "\n",
    "# Calculate the point density\n",
    "xy = np.vstack([out_pd[ndvi],out_pd[\"classification\"]])\n",
    "z = gaussian_kde(xy)(xy)\n",
    "\n",
    "#create scatterplot with regression line and confidence interval lines\n",
    "sns.regplot(x=out_pd[ndvi], y=out_pd[\"classification\"], scatter=False, line_kws={'linewidth':3})\n",
    "plt.scatter(x=out_pd[ndvi], y=out_pd[\"classification\"],c=z, s=8 )\n",
    "plt.plot([0,1], [0,1], 'black', linestyle='dotted', linewidth=1) #1 to 1 line\n",
    "plt.ylabel('Predicted NDVI')\n",
    "plt.xlabel('Actual NDVI')\n",
    "# show the plot\n",
    "plt.show()"
   ]
  },
  {
   "cell_type": "code",
   "execution_count": null,
   "metadata": {},
   "outputs": [],
   "source": []
  },
  {
   "cell_type": "code",
   "execution_count": null,
   "metadata": {},
   "outputs": [],
   "source": [
    "\n"
   ]
  },
  {
   "cell_type": "code",
   "execution_count": null,
   "metadata": {},
   "outputs": [],
   "source": []
  },
  {
   "cell_type": "code",
   "execution_count": null,
   "metadata": {},
   "outputs": [],
   "source": [
    "\n"
   ]
  },
  {
   "cell_type": "markdown",
   "metadata": {},
   "source": [
    "# Apply trained model to the bigger test data set\n"
   ]
  },
  {
   "cell_type": "markdown",
   "metadata": {},
   "source": [
    "# Create output maps"
   ]
  },
  {
   "cell_type": "code",
   "execution_count": null,
   "metadata": {},
   "outputs": [],
   "source": []
  }
 ],
 "metadata": {
  "celltoolbar": "Slideshow",
  "kernelspec": {
   "display_name": "Python 3 (ipykernel)",
   "language": "python",
   "name": "python3"
  },
  "language_info": {
   "codemirror_mode": {
    "name": "ipython",
    "version": 3
   },
   "file_extension": ".py",
   "mimetype": "text/x-python",
   "name": "python",
   "nbconvert_exporter": "python",
   "pygments_lexer": "ipython3",
   "version": "3.10.6"
  },
  "vscode": {
   "interpreter": {
    "hash": "0edc24dbc5cafb7dbcdbf05521fd13531db021af73dd1fb988aa6bae4360be4d"
   }
  }
 },
 "nbformat": 4,
 "nbformat_minor": 2
}
