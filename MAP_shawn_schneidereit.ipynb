{
 "cells": [
  {
   "cell_type": "markdown",
   "metadata": {
    "slideshow": {
     "slide_type": "slide"
    }
   },
   "source": [
    "# Geoprocessing in python MAP\n",
    "## 23.01.2023\n",
    "#### Shawn Schneidereit"
   ]
  },
  {
   "cell_type": "markdown",
   "metadata": {
    "slideshow": {
     "slide_type": "slide"
    }
   },
   "source": [
    "# Content\n",
    "\n",
    "*\n",
    "*\n",
    "*"
   ]
  },
  {
   "cell_type": "markdown",
   "metadata": {
    "slideshow": {
     "slide_type": "slide"
    }
   },
   "source": [
    "# Packages"
   ]
  },
  {
   "cell_type": "code",
   "execution_count": 1,
   "metadata": {},
   "outputs": [],
   "source": [
    "import ee\n",
    "import os\n",
    "import geemap\n",
    "import pandas as pd\n",
    "import numpy as np\n",
    "import matplotlib.pyplot as plt\n",
    "import copy\n",
    "import json\n",
    "import geojson\n",
    "\n",
    "\n",
    "\n",
    "import scipy\n",
    "from osgeo import gdal, ogr\n",
    "from sh import gunzip\n",
    "\n",
    "\n",
    "# geopy10_fun.py must be in your working directory\n",
    "import geopy10_fun as geopy\n"
   ]
  },
  {
   "cell_type": "code",
   "execution_count": 2,
   "metadata": {},
   "outputs": [],
   "source": [
    "try:\n",
    "    ee.Initialize()\n",
    "except Exception as e:\n",
    "    ee.Authenticate()\n",
    "    ee.Initialize()"
   ]
  },
  {
   "cell_type": "markdown",
   "metadata": {
    "slideshow": {
     "slide_type": "slide"
    }
   },
   "source": [
    "### Visualization parameters"
   ]
  },
  {
   "cell_type": "code",
   "execution_count": 3,
   "metadata": {},
   "outputs": [],
   "source": [
    "# Sentinel-2 surface reflectance\n",
    "s2Vis = {\"bands\": [\"B4\", \"B3\", \"B2\"], \"min\":0, \"max\": 1200}\n",
    "\n",
    "# NDVI color palette\n",
    "ndviVis = {\"palette\": ['white', 'green'], \"min\":0.2, \"max\": 1}"
   ]
  },
  {
   "cell_type": "markdown",
   "metadata": {},
   "source": [
    "## Import wetland mask"
   ]
  },
  {
   "cell_type": "code",
   "execution_count": 4,
   "metadata": {},
   "outputs": [],
   "source": [
    "# set folder location\n",
    "fn_wetland = \"/Users/shawn/Documents/humbolt/semester_05/geo_processing/MAP/wetland_mask.tif\"\n",
    "# Open data source\n",
    "ds_wetland = gdal.Open(fn_wetland)\n",
    "\n",
    "# get geotransformation meta data\n",
    "ulx, xres, xskew, uly, yskew, yres  = ds_wetland.GetGeoTransform()\n",
    "lrx = ulx + (ds_wetland.RasterXSize * xres)\n",
    "lry = uly + (ds_wetland.RasterYSize * yres)"
   ]
  },
  {
   "cell_type": "code",
   "execution_count": 5,
   "metadata": {},
   "outputs": [],
   "source": [
    "wetland_mask = ee.Image(\"projects/geoprocessing-python/assets/wetland_mask\") "
   ]
  },
  {
   "cell_type": "markdown",
   "metadata": {},
   "source": [
    "\n",
    "\n",
    "# Download environmental variables\n",
    "\n",
    "For the data sourced from DWD I implemted a import pipe line that dynamically generated a download link for each time step, gets the data, unzips it, and crops and transforms the data to match my wetland mask. Unfortunatly it was not straight forward to define a function for this, as the url structure changes from source to source. "
   ]
  },
  {
   "cell_type": "markdown",
   "metadata": {},
   "source": [
    "## Drought index"
   ]
  },
  {
   "cell_type": "code",
   "execution_count": null,
   "metadata": {},
   "outputs": [],
   "source": [
    "import wget\n",
    "# initialize time step variables\n",
    "years = [\"2017\", \"2018\", \"2019\", \"2020\", \"2021\", \"2022\"]\n",
    "months = [\"01\",\"02\",\"03\",\"04\",\"05\",\"06\",\"07\",\"08\",\"09\",\"10\",\"11\",\"12\"]\n",
    "months_DE = [\"Jan\", \"Feb\", \"Mar\", \"Apr\", \"May\", \"Jun\", \"Jul\", \"Aug\", \"Sep\", \"Oct\", \"Nov\", \"Dec\"]"
   ]
  },
  {
   "cell_type": "code",
   "execution_count": null,
   "metadata": {},
   "outputs": [],
   "source": [
    "# starting at 0 index\n",
    "i = 0\n",
    "j = 0\n",
    "for year in years :\n",
    "    for month in months:\n",
    "        # dynamic generation of url\n",
    "        url = (\"https://opendata.dwd.de/climate_environment/CDC/grids_germany/monthly/drought_index/\"+ month + \"_\" + months_DE[j] + \"/grids_germany_monthly_drought_index_\" + year + month + \".asc.gz\")\n",
    "\n",
    "        # download file from server\n",
    "        wget.download(url, (\"drought_index/grids_germany_monthly_drought_index_\" + year + month + \".asc.gz\"))\n",
    "        # unzip into a usable format\n",
    "        gunzip(\"drought_index/grids_germany_monthly_drought_index_\" + year + month + \".asc.gz\")\n",
    "\n",
    "        # define i/o paths\n",
    "        path_asc = \"/Users/shawn/Documents/humbolt/semester_05/geo_processing/MAP/drought_index/grids_germany_monthly_drought_index_\"+ year + month + \".asc\"\n",
    "        path_tif = (path_asc[0:-3] + \"tif\")\n",
    "\n",
    "        # Create option\n",
    "        kwargs = {\n",
    "            'format': 'GTiff',\n",
    "            'outputSRS': \"EPSG:31467\" # cant transform here... needs to be SRS defined in the DWD documentation\n",
    "        }\n",
    "        # Perform file translation into tif\n",
    "        gdal.Translate(path_tif, path_asc, **kwargs)\n",
    "        # remove asc version of file\n",
    "        os.remove(path_asc)\n",
    "\n",
    "        # set folder location\n",
    "        ### Using Wetland projection, as this is the dault for other data inputs for my ROI\n",
    "        warp = gdal.Warp(path_tif,path_tif,dstSRS=ds_wetland.GetProjection(), outputBounds= [ulx, lry, lrx , uly])\n",
    "        warp = None # Closes the files\n",
    "\n",
    "\n",
    "\n",
    "        # giving an incrememt of 1 to j\n",
    "        j = j + 1\n",
    "        if j == 12: # reset counter after on full year (12 months)\n",
    "            j=0"
   ]
  },
  {
   "cell_type": "markdown",
   "metadata": {},
   "source": [
    "stack all bands (dates)"
   ]
  },
  {
   "cell_type": "code",
   "execution_count": null,
   "metadata": {},
   "outputs": [],
   "source": [
    "# Custom helper function that return full file path of files in dir (source: stackoverflow)\n",
    "def listdir_fullpath(d):\n",
    "    return [os.path.join(d, f) for f in os.listdir(d)]"
   ]
  },
  {
   "cell_type": "code",
   "execution_count": null,
   "metadata": {},
   "outputs": [],
   "source": [
    "# Custom helper funtion to stack and save all files in a dir as a tif\n",
    "def stackdir(path, file_name):\n",
    "    # build a VRT with all files in dir\n",
    "    path\n",
    "\n",
    "    ImageList = listdir_fullpath(path)\n",
    "\n",
    "    #Build A VRT of all tif files in dir\n",
    "    VRT = (path + file_name + \"_stack.vrt\")\n",
    "    gdal.BuildVRT(VRT, ImageList, separate=True, callback=gdal.TermProgress_nocb)\n",
    "    VRT\n",
    "\n",
    "    # Save VRT as tif\n",
    "    InputImage = gdal.Open(VRT, 0)  # open the VRT in read-only mode\n",
    "    gdal.Translate((path + file_name + '_stack.tif'), InputImage, format='GTiff',\n",
    "                creationOptions=['COMPRESS:DEFLATE', 'TILED:YES'],\n",
    "                callback=gdal.TermProgress_nocb)\n",
    "                \n",
    "    del InputImage  # close the VRT\n",
    "\n",
    "    # helper function to clean out all single date tif files \n",
    "    for filename in os.listdir(path):\n",
    "        #print(filename)\n",
    "        if filename not in (path + file_name + '_stack.tif'):\n",
    "             os.remove(path + filename)"
   ]
  },
  {
   "cell_type": "code",
   "execution_count": null,
   "metadata": {},
   "outputs": [],
   "source": [
    "stackdir('/Users/shawn/Documents/humbolt/semester_05/geo_processing/MAP/drought_index/', \"drought_index\")"
   ]
  },
  {
   "cell_type": "markdown",
   "metadata": {},
   "source": [
    "### soil moisture 1x1km at 60cm depth under grass\n",
    "\n"
   ]
  },
  {
   "cell_type": "code",
   "execution_count": null,
   "metadata": {},
   "outputs": [],
   "source": [
    "# starting at 0 index\n",
    "i = 0\n",
    "j = 0\n",
    "for year in years :\n",
    "    for month in months:\n",
    "        # dynamic generation of url\n",
    "        url = (\"https://opendata.dwd.de/climate_environment/CDC/grids_germany/monthly/soil_moist/grids_germany_monthly_soil_moist_\"+ year + month + \".asc.gz\")\n",
    "\n",
    "        # download file from server\n",
    "        wget.download(url, (\"soil_moister/grids_germany_monthly_soil_moister_\" + year + month + \".asc.gz\"))\n",
    "        # unzip into a usable format\n",
    "        gunzip(\"soil_moister/grids_germany_monthly_soil_moister_\" + year + month + \".asc.gz\")\n",
    "\n",
    "        # define i/o paths\n",
    "        path_asc = \"/Users/shawn/Documents/humbolt/semester_05/geo_processing/MAP/soil_moister/grids_germany_monthly_soil_moister_\"+ year + month + \".asc\"\n",
    "        path_tif = (path_asc[0:-3] + \"tif\")\n",
    "\n",
    "        # Create option\n",
    "        kwargs = {\n",
    "            'format': 'GTiff',\n",
    "            'outputSRS': \"EPSG:31467\" # cant transform here... needs to be SRS defined in the DWD documentation\n",
    "        }\n",
    "        # Perform file translation into tif\n",
    "        gdal.Translate(path_tif, path_asc, **kwargs)\n",
    "        # remove asc version of file\n",
    "        os.remove(path_asc)\n",
    "\n",
    "        # set folder location\n",
    "        warp = gdal.Warp(path_tif,path_tif,dstSRS=ds_wetland.GetProjection(), outputBounds= [ulx, lry, lrx , uly])\n",
    "        warp = None # Closes the files\n",
    "\n",
    "\n",
    "\n",
    "        # giving an incrememt of 1 to j\n",
    "        j = j + 1\n",
    "        if j == 12: # reset counter after on full year (12 months)\n",
    "            j=0"
   ]
  },
  {
   "cell_type": "code",
   "execution_count": null,
   "metadata": {},
   "outputs": [],
   "source": [
    "# build a VRT with all files in dir\n",
    "stackdir('/Users/shawn/Documents/humbolt/semester_05/geo_processing/MAP/soil_moister/', \"soil_moister\")\n"
   ]
  },
  {
   "cell_type": "markdown",
   "metadata": {},
   "source": [
    "### SMI: using Multi-annual grids of precipitation height over Germany 1981-2010 1x1km:\n"
   ]
  },
  {
   "cell_type": "markdown",
   "metadata": {},
   "source": [
    "## First get the average precipitation per month"
   ]
  },
  {
   "cell_type": "code",
   "execution_count": null,
   "metadata": {},
   "outputs": [],
   "source": [
    "# starting at 0 index\n",
    "i = 0\n",
    "j = 0\n",
    "for year in years :\n",
    "    for month in months:\n",
    "        # dynamic generation of url\n",
    "        url = (\"https://opendata.dwd.de/climate_environment/CDC/grids_germany/monthly/precipitation/\"+ month + \"_\" + months_DE[j] + \"/grids_germany_monthly_precipitation_\" + year + month + \".asc.gz\")\n",
    "\n",
    "        # download file from server\n",
    "        wget.download(url, (\"precipitation/precipitation_\" + year + month + \".asc.gz\"))\n",
    "        # unzip into a usable format\n",
    "        gunzip(\"precipitation/precipitation_\" + year + month + \".asc.gz\")\n",
    "\n",
    "        # define i/o paths\n",
    "        path_asc = \"/Users/shawn/Documents/humbolt/semester_05/geo_processing/MAP/precipitation/precipitation_\"+ year + month + \".asc\"\n",
    "        path_tif = (path_asc[0:-3] + \"tif\")\n",
    "\n",
    "        # Create option\n",
    "        kwargs = {\n",
    "            'format': 'GTiff',\n",
    "            'outputSRS': \"EPSG:31467\" # cant transform here... needs to be SRS defined in the DWD documentation\n",
    "        }\n",
    "        # Perform file translation into tif\n",
    "        gdal.Translate(path_tif, path_asc, **kwargs)\n",
    "        # remove asc version of file\n",
    "        os.remove(path_asc)\n",
    "\n",
    "        # set folder location\n",
    "        warp = gdal.Warp(path_tif,path_tif,dstSRS=ds_wetland.GetProjection(), outputBounds= [ulx, lry, lrx , uly])\n",
    "        warp = None # Closes the files\n",
    "        \n",
    "        # giving an incrememt of 1 to j\n",
    "        j = j + 1\n",
    "        if j == 12: # reset counter after on full year (12 months)\n",
    "            j=0"
   ]
  },
  {
   "cell_type": "code",
   "execution_count": null,
   "metadata": {},
   "outputs": [],
   "source": [
    "# build a VRT with all files in dir\n",
    "stackdir('/Users/shawn/Documents/humbolt/semester_05/geo_processing/MAP/precipitation/', \"precipitation\")"
   ]
  },
  {
   "cell_type": "markdown",
   "metadata": {},
   "source": [
    "## Then download the long term values from 1971-2010 \n"
   ]
  },
  {
   "cell_type": "markdown",
   "metadata": {},
   "source": [
    "##### Then get the long term percipitation values over the past 40 years to compute long term means and standard deviation inputs needed to compute SPI"
   ]
  },
  {
   "cell_type": "code",
   "execution_count": null,
   "metadata": {},
   "outputs": [],
   "source": [
    "years = (np.arange(1970,2011))\n",
    "years = list(map(str, years))"
   ]
  },
  {
   "cell_type": "code",
   "execution_count": null,
   "metadata": {},
   "outputs": [],
   "source": [
    "# starting at 0 index\n",
    "i = 0\n",
    "j = 0\n",
    "for year in years :\n",
    "    for month in months:\n",
    "        # dynamic generation of url\n",
    "        url = (\"https://opendata.dwd.de/climate_environment/CDC/grids_germany/monthly/precipitation/\"+ month + \"_\" + months_DE[j] + \"/grids_germany_monthly_precipitation_\" + year + month + \".asc.gz\")\n",
    "\n",
    "        # download file from server\n",
    "        wget.download(url, (\"precipitation_1970-2010/precipitation_\" + year + month + \".asc.gz\"))\n",
    "        # unzip into a usable format\n",
    "        gunzip(\"precipitation_1970-2010/precipitation_\" + year + month + \".asc.gz\")\n",
    "\n",
    "        # define i/o paths\n",
    "        path_asc = \"/Users/shawn/Documents/humbolt/semester_05/geo_processing/MAP/precipitation_1970-2010/precipitation_\"+ year + month + \".asc\"\n",
    "        path_tif = (path_asc[0:-3] + \"tif\")\n",
    "\n",
    "        # Create option\n",
    "        kwargs = {\n",
    "            'format': 'GTiff',\n",
    "            'outputSRS': \"EPSG:31467\" # cant transform here... needs to be SRS defined in the DWD documentation\n",
    "        }\n",
    "        # Perform file translation into tif\n",
    "        gdal.Translate(path_tif, path_asc, **kwargs)\n",
    "        # remove asc version of file\n",
    "        os.remove(path_asc)\n",
    "\n",
    "        # set folder location\n",
    "        warp = gdal.Warp(path_tif,path_tif,dstSRS=ds_wetland.GetProjection(), outputBounds= [ulx, lry, lrx , uly])\n",
    "        warp = None # Closes the files\n",
    "        \n",
    "        # giving an incrememt of 1 to j\n",
    "        j = j + 1\n",
    "        if j == 12: # reset counter after on full year (12 months)\n",
    "            j=0"
   ]
  },
  {
   "cell_type": "code",
   "execution_count": null,
   "metadata": {},
   "outputs": [],
   "source": [
    "# build a VRT with all files in dir\n",
    "stackdir('/Users/shawn/Documents/humbolt/semester_05/geo_processing/MAP/precipitation_1970-2010/', \"precipitation\")"
   ]
  },
  {
   "cell_type": "markdown",
   "metadata": {},
   "source": [
    "## Compute SMI\n",
    "\n",
    "SPI = (P-P*) /  σp\n",
    "\n",
    "__**where P = precipitation**__\n",
    "__**p = mean historic precipitation**__\n",
    "__**σp = standard deviation of precipitation**__\n",
    "\n",
    "\n",
    "#### Additonally of indicies are aggregated with a moving window of three months to better reflect the seasonal and cumulative drought effects"
   ]
  },
  {
   "cell_type": "markdown",
   "metadata": {},
   "source": [
    "##### Create binary wetland raster to mask climate variables via raster algebra and broadcasting"
   ]
  },
  {
   "cell_type": "code",
   "execution_count": null,
   "metadata": {},
   "outputs": [],
   "source": [
    "# get subprocess to call GDAL util\n",
    "import subprocess\n",
    "\n",
    "# define paths to raster and vector\n",
    "inraster = '/Users/shawn/Documents/humbolt/semester_05/geo_processing/MAP/wetland_mask_1km.tif'\n",
    "inshape = '/Users/shawn/Documents/humbolt/semester_05/geo_processing/MAP/wetland_mask_vector/wetland_mask.shp'\n",
    "\n",
    "# make gdal_rasterize command - will burn value 0 to raster where polygon intersects \n",
    "cmd = ('gdal_rasterize -burn 0 -i '+ inshape + ' ' + inraster)\n",
    "\n",
    "# run command\n",
    "subprocess.call(cmd, shell=True)\n",
    "\n",
    "# make gdal command to subset to only first band (apperently no option to this in rasterize)\n",
    "#cmd = (\"gdal_translate -b 1 \" + inraster + \" \" + inraster)\n",
    "#subprocess.call(cmd, shell=True)\n",
    "\n"
   ]
  },
  {
   "cell_type": "code",
   "execution_count": null,
   "metadata": {},
   "outputs": [],
   "source": [
    "\n",
    "\n",
    "wetland_mask_raster_src = gdal.Open(\"/Users/shawn/Documents/humbolt/semester_05/geo_processing/MAP/wetland_mask_1km.tif\")\n",
    "wetland_mask_raster = wetland_mask_raster_src.GetRasterBand(1).ReadAsArray()\n",
    "\n",
    "# Convert to binary\n",
    "wetland_mask_raster[wetland_mask_raster >0] = 1\n",
    "wetland_mask_raster = wetland_mask_raster.astype(float)\n",
    "wetland_mask_raster[wetland_mask_raster ==0] = np.nan # set no data value to nan in order to not influence downstream compurations and aggregations"
   ]
  },
  {
   "cell_type": "markdown",
   "metadata": {},
   "source": [
    "##### mask values outside of wetland areas by multiplying by zero"
   ]
  },
  {
   "cell_type": "code",
   "execution_count": null,
   "metadata": {},
   "outputs": [],
   "source": [
    "precipitation_src = gdal.Open(\"/Users/shawn/Documents/humbolt/semester_05/geo_processing/MAP/precipitation/precipitation_stack.tif\")\n",
    "precipitation = (precipitation_src.ReadAsArray()) \n",
    "precipitation = precipitation.astype(float)\n",
    "precipitation[precipitation == -999] = \"nan\"\n",
    "# mask via raster algebra and broadcasting \n",
    "### currently commmented out as I decided it make more sence to compile a complete tif for the ROI and can subset the data when preping the data for ML prediction\n",
    "#precipitation = precipitation*wetland_mask_raster\n"
   ]
  },
  {
   "cell_type": "markdown",
   "metadata": {},
   "source": [
    "#### Function to compute moving Window average \n",
    "(Window truncated in first 2 months)"
   ]
  },
  {
   "cell_type": "code",
   "execution_count": null,
   "metadata": {},
   "outputs": [],
   "source": [
    "def moving_window_mean(input_stack, output_stack):\n",
    "\n",
    "    for i in range(input_stack.shape[0]) :\n",
    "        if i == 0:\n",
    "            moving_window = copy.copy(input_stack[i])\n",
    "            output_stack[i] = moving_window\n",
    "\n",
    "        if i > 0:\n",
    "            moving_window = copy.copy(input_stack[i-1:i,])\n",
    "            output_stack[i] = np.nanmean(moving_window, axis=(0))\n",
    "\n",
    "        if i > 1:\n",
    "            moving_window = copy.copy(input_stack[i-2:i,])\n",
    "            output_stack[i] = np.nanmean(moving_window, axis=(0))\n",
    "\n",
    "        if i > 2:\n",
    "            moving_window = copy.copy(input_stack[i-3:i,])\n",
    "            output_stack[i] = np.nanmean(moving_window, axis=(0))"
   ]
  },
  {
   "cell_type": "code",
   "execution_count": null,
   "metadata": {},
   "outputs": [],
   "source": [
    "precipitation_smothed = np.zeros(precipitation.shape)\n",
    "moving_window_mean(precipitation, precipitation_smothed)"
   ]
  },
  {
   "cell_type": "markdown",
   "metadata": {},
   "source": [
    "#### Agregate the mean and std for long term precipitation "
   ]
  },
  {
   "cell_type": "code",
   "execution_count": null,
   "metadata": {},
   "outputs": [],
   "source": [
    "precipitation_1970_2010_src = gdal.Open(\"/Users/shawn/Documents/humbolt/semester_05/geo_processing/MAP/precipitation_1970-2010/precipitation_stack.tif\")\n",
    "precipitation_1970_2010 = (precipitation_1970_2010_src.ReadAsArray()) \n",
    "precipitation_1970_2010 = precipitation_1970_2010.astype(float)\n",
    "precipitation_1970_2010[precipitation_1970_2010 == -999] = np.nan\n",
    "# mask via raster algebra and broadcasting \n",
    "#precipitation_1970_2010 = precipitation_1970_2010*wetland_mask_raster\n"
   ]
  },
  {
   "cell_type": "markdown",
   "metadata": {},
   "source": [
    "The logic below it to index with i+every 12 band. This allows to compute the mean and std for each month across the previous 40 years"
   ]
  },
  {
   "cell_type": "code",
   "execution_count": null,
   "metadata": {},
   "outputs": [],
   "source": [
    "# intialize empty arrays to be populated in the loop \n",
    "precipitation_1970_2010_mean = np.zeros([12]+list(precipitation.shape[1:]))\n",
    "precipitation_1970_2010_std  = np.zeros([12]+list(precipitation.shape[1:]))\n",
    "\n",
    "for i in np.arange(12):\n",
    "    precipitation_1970_2010_mean[i] = np.nanmean(precipitation_1970_2010[i::12], axis=0)\n",
    "    precipitation_1970_2010_std[i] = np.nanstd(precipitation_1970_2010[i::12], axis=0)\n"
   ]
  },
  {
   "cell_type": "code",
   "execution_count": null,
   "metadata": {},
   "outputs": [],
   "source": [
    "precipitation_1970_2010_mean_smoothed = np.zeros(precipitation_1970_2010_mean.shape)\n",
    "precipitation_1970_2010_std_smoothed = np.zeros(precipitation_1970_2010_std.shape)\n",
    "moving_window_mean(precipitation_1970_2010_mean, precipitation_1970_2010_mean_smoothed)\n",
    "moving_window_mean(precipitation_1970_2010_std, precipitation_1970_2010_std_smoothed)"
   ]
  },
  {
   "cell_type": "markdown",
   "metadata": {},
   "source": [
    "#### Compute SPI\n",
    "\n",
    "Dynamically index yearly precipitation values, while keeping the long term mean and standard deviation fixed"
   ]
  },
  {
   "cell_type": "code",
   "execution_count": null,
   "metadata": {},
   "outputs": [],
   "source": [
    "# inital the array with first 12 months. The SPI for the rest of the time series are appened in the loop\n",
    "SPI = (precipitation_smothed[0:12]-precipitation_1970_2010_mean_smoothed)/(precipitation_1970_2010_std_smoothed)\n",
    "for i in np.arange(1,precipitation_smothed.shape[0]/12):\n",
    "    start_index = int(i*12)\n",
    "    end_index =   int((start_index + 12))\n",
    "    SPI_temp = (precipitation_smothed[start_index:end_index]-precipitation_1970_2010_mean_smoothed)/(precipitation_1970_2010_std_smoothed)\n",
    "    SPI = np.concatenate((SPI,SPI_temp))\n",
    "   "
   ]
  },
  {
   "cell_type": "markdown",
   "metadata": {},
   "source": [
    "#### Apply moving window to soil moister and drought index"
   ]
  },
  {
   "cell_type": "code",
   "execution_count": null,
   "metadata": {},
   "outputs": [],
   "source": [
    "drought_index_src = gdal.Open(\"/Users/shawn/Documents/humbolt/semester_05/geo_processing/MAP/drought_index/drought_index_stack.tif\")\n",
    "drought_index = (drought_index_src.ReadAsArray()) \n",
    "drought_index = drought_index.astype(float)\n",
    "drought_index[drought_index == -999] = np.nan\n",
    "# mask via raster algebra and broadcasting \n",
    "#drought_index = drought_index*wetland_mask_raster\n",
    "\n",
    "drought_index_smoothed = np.zeros(drought_index.shape)\n",
    "moving_window_mean(drought_index, drought_index_smoothed)"
   ]
  },
  {
   "cell_type": "code",
   "execution_count": null,
   "metadata": {},
   "outputs": [],
   "source": [
    "soil_moister_src = gdal.Open(\"/Users/shawn/Documents/humbolt/semester_05/geo_processing/MAP/soil_moister/soil_moister_stack.tif\")\n",
    "soil_moister = (soil_moister_src.ReadAsArray()) \n",
    "soil_moister = soil_moister.astype(float)\n",
    "soil_moister[soil_moister == -9999] = np.nan  # Utterly critical. For unexplaned reason the DWD set the no data value to -9999 instead of the -999 used in every other dataset... thanks.....\n",
    "# mask via raster algebra and broadcasting \n",
    "#soil_moister = soil_moister*wetland_mask_raster\n",
    "\n",
    "soil_moister_smoothed = np.zeros(soil_moister.shape)\n",
    "moving_window_mean(soil_moister, soil_moister_smoothed)\n",
    "#soil_moister_smothed[soil_moister_smothed == 255] = np.nan\n"
   ]
  },
  {
   "cell_type": "markdown",
   "metadata": {},
   "source": [
    "#### Save smoothed and formated  environmental time series to tifs"
   ]
  },
  {
   "cell_type": "code",
   "execution_count": null,
   "metadata": {},
   "outputs": [],
   "source": [
    "# Modified from source: https://gis.stackexchange.com/questions/213937/in-gdal-how-to-save-3-dimensional-array-as-stacked-raster-image\n",
    "def array_to_tif(out_path, Array, driver, no_data_value, \n",
    "                  GeoTransformation, Projection, DataType):\n",
    "    Array[np.isnan(Array)] = no_data_value\n",
    "    DataSet = driver.Create(out_path, Array.shape[2], Array.shape[1], Array.shape[0], DataType)\n",
    "    DataSet.SetGeoTransform(GeoTransformation)\n",
    "    DataSet.SetProjection(Projection)\n",
    "    for i, image in enumerate(Array, 1):\n",
    "        DataSet.GetRasterBand(i).WriteArray( image )\n",
    "        DataSet.GetRasterBand(i).SetNoDataValue(no_data_value)\n",
    "    DataSet.FlushCache()\n",
    "    return out_path"
   ]
  },
  {
   "cell_type": "code",
   "execution_count": null,
   "metadata": {},
   "outputs": [],
   "source": [
    "# define basis parameters\n",
    "driver = gdal.GetDriverByName(\"GTiff\")\n",
    "GeoTransformation = precipitation_src.GetGeoTransform()\n",
    "projection = precipitation_src.GetProjection()\n",
    "DataType = gdal.GDT_Float32\n",
    "\n",
    "out_path = \"/Users/shawn/Documents/humbolt/semester_05/geo_processing/MAP/SPI/SPI.tif\"\n",
    "array_to_tif(out_path,SPI,driver,-9999,GeoTransformation,projection, DataType)\n",
    "\n",
    "out_path = \"/Users/shawn/Documents/humbolt/semester_05/geo_processing/MAP/drought_index/drought_index_smoothed.tif\"\n",
    "array_to_tif(out_path,drought_index_smoothed,driver,-9999,GeoTransformation,projection, DataType)\n",
    "\n",
    "out_path = \"/Users/shawn/Documents/humbolt/semester_05/geo_processing/MAP/soil_moister/soil_moister_smoothed.tif\"\n",
    "array_to_tif(out_path,soil_moister_smoothed,driver,-9999,GeoTransformation,projection, DataType)"
   ]
  },
  {
   "cell_type": "markdown",
   "metadata": {},
   "source": [
    "### Potentially soil data from GEE data catalog (USDA so would need significant cleaning and aggregation of classes, especially since from what I can tell random forest in skikit-learn only allows for hot-coding of categorical variables)\n"
   ]
  },
  {
   "cell_type": "markdown",
   "metadata": {},
   "source": [
    "# Transform all to common CRS and use raster math to mask to relevant wetland areas\n",
    "\n",
    "Actually not needed as GEE can deal with projections on the fly\n"
   ]
  },
  {
   "cell_type": "code",
   "execution_count": null,
   "metadata": {},
   "outputs": [],
   "source": [
    "filename = \"/Users/shawn/Documents/humbolt/semester_05/geo_processing/MAP/drought_index/drought_index_smoothed.tif\"\n",
    "input_raster = gdal.Open(filename)\n",
    "output_raster = \"/Users/shawn/Documents/humbolt/semester_05/geo_processing/MAP/drought_index/drought_index_smoothed_espg3857.tif\"\n",
    "warp = gdal.Warp(output_raster,input_raster,dstSRS='EPSG:3857')\n",
    "warp = None # Closes the files"
   ]
  },
  {
   "cell_type": "markdown",
   "metadata": {},
   "source": [
    "Import environmental variables (uploaded from local to GEE project folder)"
   ]
  },
  {
   "cell_type": "code",
   "execution_count": 6,
   "metadata": {},
   "outputs": [],
   "source": [
    "drought_index = ee.Image(\"projects/geoprocessing-python/assets/drought_index\") \n",
    "soil_moister = ee.Image(\"projects/geoprocessing-python/assets/soil_moister\") \n",
    "SPI = ee.Image(\"projects/geoprocessing-python/assets/SPI\") "
   ]
  },
  {
   "cell_type": "code",
   "execution_count": 7,
   "metadata": {},
   "outputs": [],
   "source": [
    "bbox = drought_index.geometry()"
   ]
  },
  {
   "cell_type": "markdown",
   "metadata": {},
   "source": [
    "## Get NDVI time series from GEE data catalog\n"
   ]
  },
  {
   "cell_type": "markdown",
   "metadata": {},
   "source": [
    "### Set up map window\n"
   ]
  },
  {
   "cell_type": "code",
   "execution_count": 8,
   "metadata": {},
   "outputs": [],
   "source": [
    "Map = geemap.Map(center=[52.8, 11.5], zoom=7)\n",
    "Map.add_basemap('HYBRID')\n",
    "#Map\n"
   ]
  },
  {
   "cell_type": "code",
   "execution_count": 9,
   "metadata": {},
   "outputs": [],
   "source": [
    "# Sentinel-2 surface reflectance\n",
    "droughtVis = {\"bands\": [\"b1\"],\"palette\": ['blue',\"yellow\",\"orange\",\"red\", 'red'], \"min\":0, \"max\": 11}\n",
    "\n",
    "# NDVI color palette\n",
    "#ndviVis = {\"palette\": ['white', 'green'], \"min\":0.2, \"max\": 1}"
   ]
  },
  {
   "cell_type": "code",
   "execution_count": 10,
   "metadata": {},
   "outputs": [],
   "source": [
    "#Map.addLayer(drought_index, droughtVis, \"drought_index\")\n"
   ]
  },
  {
   "cell_type": "markdown",
   "metadata": {},
   "source": [
    "#### Below is code to generate a two property list from a static month and year range. The idea was to modify the calc_NDVI function to take two input parameters (in a dictionary or other data structure) and then map across this list. Would have been an elogent solution, but unfortunatly this does not seem to be possible. While i can see the month and year values in the output window, for the values to actually be accessable i need to use getinfo(). When attempting to do this using the map function it triggers an error since a client side process is being called in a server side computation. After extensive googleing and attempting to hack together a solution I was not able to find a way. Equally it is not possible to start out with \"normal\" python dictionary an converting them to ee.lists inside of the  monthlyNdviMedian function, as using map for a ee.ImageCollection will only let you map across an ee.list(). "
   ]
  },
  {
   "cell_type": "code",
   "execution_count": 11,
   "metadata": {},
   "outputs": [],
   "source": [
    "def get_year_month_combinations(start_year, end_year, start_month, end_month):\n",
    "    years = ee.List.sequence(start_year, end_year)\n",
    "    months = ee.List.sequence(start_month, end_month)\n",
    "\n",
    "    year_month_combinations = years.map(lambda y: \n",
    "                                          months.map(lambda m: \n",
    "                                            ee.Dictionary({\"year\": y, \"month\": ee.Number(m).int8()})))\n",
    "\n",
    "    return year_month_combinations.flatten()"
   ]
  },
  {
   "cell_type": "code",
   "execution_count": 12,
   "metadata": {},
   "outputs": [
    {
     "data": {
      "text/html": [
       "<div><style>:root {\n",
       "  --font-color-primary: var(--jp-content-font-color0, rgba(0, 0, 0, 1));\n",
       "  --font-color-secondary: var(--jp-content-font-color2, rgba(0, 0, 0, 0.6));\n",
       "  --font-color-accent: rgba(123, 31, 162, 1);\n",
       "  --border-color: var(--jp-border-color2, #e0e0e0);\n",
       "  --background-color: var(--jp-layout-color0, white);\n",
       "  --background-color-row-even: var(--jp-layout-color1, white);\n",
       "  --background-color-row-odd: var(--jp-layout-color2, #eeeeee);\n",
       "}\n",
       "\n",
       "html[theme=\"dark\"],\n",
       "body[data-theme=\"dark\"],\n",
       "body.vscode-dark {\n",
       "  --font-color-primary: rgba(255, 255, 255, 1);\n",
       "  --font-color-secondary: rgba(255, 255, 255, 0.6);\n",
       "  --font-color-accent: rgb(173, 132, 190);\n",
       "  --border-color: #2e2e2e;\n",
       "  --background-color: #111111;\n",
       "  --background-color-row-even: #111111;\n",
       "  --background-color-row-odd: #313131;\n",
       "}\n",
       "\n",
       ".ee {\n",
       "  padding: 1em;\n",
       "  line-height: 1.5em;\n",
       "  min-width: 300px;\n",
       "  max-width: 1200px;\n",
       "  overflow-y: scroll;\n",
       "  max-height: 600px;\n",
       "  border: 1px solid var(--border-color);\n",
       "  font-family: monospace;\n",
       "}\n",
       "\n",
       ".ee li {\n",
       "  list-style-type: none;\n",
       "}\n",
       "\n",
       ".ee ul {\n",
       "  padding-left: 1.5em !important;\n",
       "  margin: 0;\n",
       "}\n",
       "\n",
       ".ee > ul {\n",
       "  padding-left: 0 !important;\n",
       "}\n",
       "\n",
       ".ee-open,\n",
       ".ee-shut {\n",
       "  color: var(--font-color-secondary);\n",
       "  cursor: pointer;\n",
       "  margin: 0;\n",
       "}\n",
       "\n",
       ".ee-open:hover,\n",
       ".ee-shut:hover {\n",
       "  color: var(--font-color-primary);\n",
       "}\n",
       "\n",
       ".ee-k {\n",
       "  color: var(--font-color-accent);\n",
       "  margin-right: 6px;\n",
       "}\n",
       "\n",
       ".ee-v {\n",
       "  color: var(--font-color-primary);\n",
       "}\n",
       "\n",
       ".ee-toggle {\n",
       "  display: none;\n",
       "}\n",
       "\n",
       ".ee-shut + ul {\n",
       "  display: none;\n",
       "}\n",
       "\n",
       ".ee-open + ul {\n",
       "  display: block;\n",
       "}\n",
       "\n",
       ".ee-shut::before {\n",
       "  display: inline-block;\n",
       "  content: \"▼\";\n",
       "  margin-right: 6px;\n",
       "  transform: rotate(-90deg);\n",
       "  transition: transform 0.2s;\n",
       "}\n",
       "\n",
       ".ee-open::before {\n",
       "  transform: rotate(0deg);\n",
       "  display: inline-block;\n",
       "  content: \"▼\";\n",
       "  margin-right: 6px;\n",
       "  transition: transform 0.2s;\n",
       "}\n",
       "</style><div class='ee'><ul><li><label class='ee-shut'>Object (2 properties)<input type='checkbox' class='ee-toggle'></label><ul><li><span class='ee-k'>month:</span><span class='ee-v'>1</span></li><li><span class='ee-k'>year:</span><span class='ee-v'>2017</span></li></ul></li></ul></div><script>function toggleHeader() {\n",
       "    const parent = this.parentElement;\n",
       "    parent.className = parent.className === \"ee-open\" ? \"ee-shut\" : \"ee-open\";\n",
       "}\n",
       "\n",
       "for (let c of document.getElementsByClassName(\"ee-toggle\")) {\n",
       "    c.onclick = toggleHeader;\n",
       "}</script></div>"
      ],
      "text/plain": [
       "<ee.computedobject.ComputedObject at 0x7ff92a217a90>"
      ]
     },
     "execution_count": 12,
     "metadata": {},
     "output_type": "execute_result"
    }
   ],
   "source": [
    "year_month_combinations = get_year_month_combinations(2017, 2022, 1, 12)\n",
    "combination = year_month_combinations.get(0)\n",
    "combination"
   ]
  },
  {
   "cell_type": "code",
   "execution_count": 13,
   "metadata": {},
   "outputs": [
    {
     "data": {
      "text/plain": [
       "(ee.ee_list.List, list, dict)"
      ]
     },
     "execution_count": 13,
     "metadata": {},
     "output_type": "execute_result"
    }
   ],
   "source": [
    "# checking data types for possible workarounds to feed the data into the monthlyNdviMedian fucniton\n",
    "combination_list = year_month_combinations.getInfo()\n",
    "first_combination = combination_list[0]\n",
    "month = first_combination[\"month\"]\n",
    "year = first_combination[\"year\"]\n",
    "type(year_month_combinations), type(combination_list), type(first_combination)"
   ]
  },
  {
   "cell_type": "markdown",
   "metadata": {},
   "source": [
    "### SO I found a solution that completely removed the need for using the map function. This defenelty results in a slower computation and was very challenging to finally get implemented but it works... "
   ]
  },
  {
   "cell_type": "code",
   "execution_count": 14,
   "metadata": {},
   "outputs": [],
   "source": [
    "# Function to get all year and month combinations\n",
    "def get_year_month_combinations(start_year, end_year, start_month, end_month):\n",
    "    year_month_combinations = [] # Initialize empty list to store combinations\n",
    "    for year in range(start_year, end_year + 1): # Loop through years \n",
    "        for month in range(start_month, end_month + 1): # Loop through months for each year\n",
    "            year_month_combinations.append(str(year) + \"_\" + str(month).zfill(2)) # Combine year and month into a string and append to list\n",
    "    return year_month_combinations"
   ]
  },
  {
   "cell_type": "code",
   "execution_count": 15,
   "metadata": {},
   "outputs": [],
   "source": [
    "# Function to get median NDVI for a given year-month combination (modified from Dirk)\n",
    "def monthlyNdviMedian(combination_string):\n",
    "    year, month = combination_string.split(\"_\") # Split year-month combination into year and month\n",
    "    year = int(year)\n",
    "    month = int(month)\n",
    "\n",
    "    # Filter images based on year and month\n",
    "    dateFilter = ee.Filter.And(ee.Filter.calendarRange(month, month, \"month\"),\n",
    "                               ee.Filter.date(ee.Date.fromYMD(year, 1, 1), \n",
    "                               ee.Date.fromYMD(year, 12, 31)))\n",
    "    \n",
    "    # Get Sentinal-2 image collection and calculate NDVI\n",
    "    S2 = ee.ImageCollection(\"COPERNICUS/S2_SR\") \\\n",
    "             .filter(dateFilter) \\\n",
    "             .filterBounds(bbox) \\\n",
    "             .filterMetadata(\"CLOUDY_PIXEL_PERCENTAGE\", \"less_than\", 70) \\\n",
    "             .map(geopy.maskCloudsS2) \\\n",
    "             .map(geopy.calcNdviS2)\n",
    "\n",
    "    medianNdvi = S2.median()\n",
    "\n",
    "    # Rename the median NDVI image with year-month and suffix\n",
    "    return medianNdvi.rename(ee.Number(year).format().cat(\"_\").cat(ee.Number(month).format()).cat(ee.String(\"_median_ndvi\")))      "
   ]
  },
  {
   "cell_type": "code",
   "execution_count": 16,
   "metadata": {},
   "outputs": [],
   "source": [
    "# Function to get median NDVI for all year-month combinations\n",
    "def monthlyNdviMedianAll(year_month_combinations):\n",
    "  image = ee.Image().select([]) # Initialize empty image\n",
    "\n",
    "  for combination in year_month_combinations: # Loop through year-month combinations\n",
    "    medianNdvi = monthlyNdviMedian(combination) # Get median NDVI for each combination\n",
    "    image = image.addBands(medianNdvi) # Add the median NDVI to the empty image\n",
    "\n",
    "  return image"
   ]
  },
  {
   "cell_type": "markdown",
   "metadata": {},
   "source": [
    "##### Execution of monthlyNdviMedian across of months in all years"
   ]
  },
  {
   "cell_type": "code",
   "execution_count": 17,
   "metadata": {},
   "outputs": [],
   "source": [
    "year_month_combinations = get_year_month_combinations(2017, 2022, 1, 12)\n",
    "medianNdviStack = monthlyNdviMedianAll(year_month_combinations)\n",
    "#medianNdviStack"
   ]
  },
  {
   "cell_type": "code",
   "execution_count": 18,
   "metadata": {},
   "outputs": [],
   "source": [
    "#Map.addLayer(medianNdviStack.select([\"2017_5_median_ndvi\"]), ndviVis, \"median NDVI Stack\")"
   ]
  },
  {
   "cell_type": "markdown",
   "metadata": {},
   "source": [
    "## REMOVED AS ITS ONLY AVAILABLE FOR US.... \n",
    "#### GRIDMET DROUGHT: CONUS Drought Indices from GEE (4x4km spatial resolution)\n",
    "\n",
    "No where in the GEE was it noted that this is US only... Fully implemented but useless as it does not cover study area. Thanks google\n",
    "\n",
    "Here I use modifed code, following the same workflow from above. "
   ]
  },
  {
   "cell_type": "code",
   "execution_count": 19,
   "metadata": {},
   "outputs": [],
   "source": [
    "# Function to get GRIDMET for a given year-month combination (modified from Dirk)\n",
    "def monthlyGRIDMET(combination_string):\n",
    "    year, month = combination_string.split(\"_\") # Split year-month combination into year and month\n",
    "    year = int(year)\n",
    "    month = int(month)\n",
    "\n",
    "    # Filter images based on year and month\n",
    "    dateFilter = ee.Filter.And(ee.Filter.calendarRange(month, month, \"month\"),\n",
    "                               ee.Filter.date(ee.Date.fromYMD(year, 1, 1), \n",
    "                               ee.Date.fromYMD(year, 12, 31)))\n",
    "    \n",
    "    # Get Sentinal-2 image collection and calculate NDVI\n",
    "    GRIDMET = ee.ImageCollection(\"GRIDMET/DROUGHT\") \\\n",
    "             .filter(dateFilter) \\\n",
    "             .filterBounds(bbox) \\\n",
    "             .select(['spei30d', 'eddi30d', 'pdsi']) # select the relavent target bands (Standardized Precipitation Evapotranspiration Index (SPEI)(monthly), Evaporative Drought Demand Index (EDDI)(monthly), Palmer Drought Severity Index (pdsi))\n",
    "\n",
    "    GRIDMET = GRIDMET.median() \\\n",
    "              .rename(ee.Number(year).format().cat(\"_\").cat(ee.Number(month).format()).cat(ee.String(\"_SPEI\")), \\\n",
    "                      ee.Number(year).format().cat(\"_\").cat(ee.Number(month).format()).cat(ee.String(\"_EDDI\")), \\\n",
    "                      ee.Number(year).format().cat(\"_\").cat(ee.Number(month).format()).cat(ee.String(\"_PDSI\"))  \\\n",
    "                     )\n",
    "\n",
    "\n",
    "    # Rename the GRIDMET image with year-month and suffix\n",
    "    return GRIDMET#.rename(ee.Number(year).format().cat(\"_\").cat(ee.Number(month).format()).cat(ee.String(\"_GRIDMET\")))      "
   ]
  },
  {
   "cell_type": "code",
   "execution_count": 20,
   "metadata": {},
   "outputs": [],
   "source": [
    "# Function to get median NDVI for all year-month combinations\n",
    "def monthlyGRIDMETAll(year_month_combinations):\n",
    "  image = ee.Image().select([]) # Initialize empty image\n",
    "\n",
    "  for combination in year_month_combinations: # Loop through year-month combinations\n",
    "    GRIDMET = monthlyGRIDMET(combination) # Get median NDVI for each combination\n",
    "    image = image.addBands(GRIDMET) # Add the median NDVI to the empty image\n",
    "\n",
    "  return image"
   ]
  },
  {
   "cell_type": "code",
   "execution_count": 21,
   "metadata": {},
   "outputs": [],
   "source": [
    "#GRIDMETstack = monthlyGRIDMETAll(year_month_combinations)"
   ]
  },
  {
   "cell_type": "markdown",
   "metadata": {},
   "source": [
    "### Import OpenLandMap Predicted Hapludalfs Probability (Predicted USDA soil great groups at 250 m (probabilities))"
   ]
  },
  {
   "cell_type": "code",
   "execution_count": 22,
   "metadata": {},
   "outputs": [],
   "source": [
    "soil_type = ee.Image(\"OpenLandMap/SOL/SOL_GRTGROUP_USDA-SOILTAX-HAPLUDALFS_P/v01\") \\\n",
    "             .clip(bbox) "
   ]
  },
  {
   "cell_type": "code",
   "execution_count": 23,
   "metadata": {},
   "outputs": [],
   "source": [
    "soilvis = {\n",
    "  \"bands\": ['grtgroup'],\n",
    "  \"min\": 0.0,\n",
    "  \"max\": 35.0,\n",
    "  \"palette\": ['ffffb2', 'fecc5c', 'fd8d3c', 'f03b20', 'bd0026']\n",
    "}\n",
    "\n",
    "#Map.addLayer(soil_type, soilvis, \"soil_type\")"
   ]
  },
  {
   "cell_type": "markdown",
   "metadata": {},
   "source": [
    "#### OpenLandMap Soil Water Content at 33kPa (Field Capacity)"
   ]
  },
  {
   "cell_type": "code",
   "execution_count": 24,
   "metadata": {},
   "outputs": [],
   "source": [
    "field_capacity = ee.Image(\"OpenLandMap/SOL/SOL_WATERCONTENT-33KPA_USDA-4B1C_M/v01\").clip(bbox).reduce(ee.Reducer.median()).rename('field_capacity')"
   ]
  },
  {
   "cell_type": "markdown",
   "metadata": {},
   "source": [
    "OpenLandMap Soil Bulk Density"
   ]
  },
  {
   "cell_type": "code",
   "execution_count": 25,
   "metadata": {},
   "outputs": [],
   "source": [
    "soil_bulk_density = ee.Image(\"OpenLandMap/SOL/SOL_BULKDENS-FINEEARTH_USDA-4A1H_M/v02\").clip(bbox).reduce(ee.Reducer.median()).rename('soil_bulk_density')"
   ]
  },
  {
   "cell_type": "markdown",
   "metadata": {},
   "source": [
    "#### Import sample points"
   ]
  },
  {
   "cell_type": "code",
   "execution_count": 26,
   "metadata": {},
   "outputs": [],
   "source": [
    "pts = ogr.Open(\"/Users/shawn/Documents/humbolt/semester_05/geo_processing/MAP/sample_points_regular/sample_points_regular.shp\")\n",
    "lyr = pts.GetLayer()"
   ]
  },
  {
   "cell_type": "code",
   "execution_count": 27,
   "metadata": {},
   "outputs": [
    {
     "data": {
      "text/plain": [
       "['id', 'FID']"
      ]
     },
     "execution_count": 27,
     "metadata": {},
     "output_type": "execute_result"
    }
   ],
   "source": [
    "# check names in shp\n",
    "[field.name for field in lyr.schema]"
   ]
  },
  {
   "cell_type": "markdown",
   "metadata": {},
   "source": [
    "#### Subset the whole sample_points feature collection to avoid memory issues "
   ]
  },
  {
   "cell_type": "code",
   "execution_count": 28,
   "metadata": {},
   "outputs": [],
   "source": [
    "import random\n",
    "\n",
    "# Get the number of features in the layer\n",
    "feature_count = lyr.GetFeatureCount()\n",
    "\n",
    "# Generate a list of random indices\n",
    "sample_size = 5000 # change this depending on test or final run\n",
    "random_indices = random.sample(range(feature_count), sample_size)\n",
    "\n",
    "# Create a new layer to store the selected features\n",
    "driver = ogr.GetDriverByName(\"ESRI Shapefile\")\n",
    "dst_ds = driver.CreateDataSource(\"/Users/shawn/Documents/humbolt/semester_05/geo_processing/MAP/sample_points_regular/sample_points_regular_subset.shp\")\n",
    "dst_layer = dst_ds.CreateLayer(\"selected_points\", lyr.GetSpatialRef(), ogr.wkbPoint)\n",
    "\n",
    "# Check if the lyr data source has an 'id' field (had some errors here)\n",
    "src_layer_defn = lyr.GetLayerDefn()\n",
    "id_field_index = src_layer_defn.GetFieldIndex(\"id\")\n",
    "if id_field_index != -1:\n",
    "    # Add an 'id' field to the destination layer if it exists in the source layer\n",
    "    id_field = src_layer_defn.GetFieldDefn(id_field_index)\n",
    "    dst_layer.CreateField(id_field)\n",
    "\n",
    "# Loop through the random indices and extract the corresponding features\n",
    "for i in random_indices:\n",
    "    lyr.SetNextByIndex(i)\n",
    "    feature = lyr.GetNextFeature()\n",
    "    geom = feature.GetGeometryRef()\n",
    "    if geom.GetGeometryType() == ogr.wkbMultiPoint:\n",
    "        # Extract individual points from the multi-point feature\n",
    "        for j in range(geom.GetGeometryCount()):\n",
    "            point = geom.GetGeometryRef(j)\n",
    "            new_feature = ogr.Feature(dst_layer.GetLayerDefn())\n",
    "            new_feature.SetGeometry(point)\n",
    "            if id_field_index != -1:\n",
    "                new_feature.SetField(\"id\", feature.GetField(\"id\"))\n",
    "            dst_layer.CreateFeature(new_feature)\n",
    "    else:\n",
    "        new_feature = ogr.Feature(dst_layer.GetLayerDefn())\n",
    "        new_feature.SetGeometry(geom)\n",
    "        if id_field_index != -1:\n",
    "            new_feature.SetField(\"id\", feature.GetField(\"id\"))\n",
    "        dst_layer.CreateFeature(new_feature)\n",
    "\n",
    "# Clean up\n",
    "# src_ds = None\n",
    "dst_ds = None\n"
   ]
  },
  {
   "cell_type": "code",
   "execution_count": 29,
   "metadata": {},
   "outputs": [
    {
     "data": {
      "text/plain": [
       "['id']"
      ]
     },
     "execution_count": 29,
     "metadata": {},
     "output_type": "execute_result"
    }
   ],
   "source": [
    "\n",
    "pts = ogr.Open(\"/Users/shawn/Documents/humbolt/semester_05/geo_processing/MAP/sample_points_regular/sample_points_regular_subset.shp\")\n",
    "lyr2 = pts.GetLayer()\n",
    "# check names in shp\n",
    "[field.name for field in lyr2.schema]"
   ]
  },
  {
   "cell_type": "code",
   "execution_count": 30,
   "metadata": {},
   "outputs": [
    {
     "data": {
      "text/plain": [
       "5000"
      ]
     },
     "execution_count": 30,
     "metadata": {},
     "output_type": "execute_result"
    }
   ],
   "source": [
    "# creat google earth feature collection for server side processing\n",
    "featList = [] # Instantiate a list that we populate with the features\n",
    "feat = lyr2.GetNextFeature()\n",
    "while feat:\n",
    "    id = feat.GetField('id')\n",
    "    #print(id)\n",
    "    # -----------------------------------------\n",
    "    geom = feat.geometry()\n",
    "    geom_json = json.loads(geom.ExportToJson())\n",
    "    geom_coord = geom_json['coordinates']\n",
    "    geom_EE = ee.Geometry.Point(coords=geom_coord, proj=\"EPSG:5653\") # critical to hard code define the espg definition\n",
    "    # Create ee.Feature(), append to list\n",
    "    eeFeat = ee.Feature(geom_EE, {\"UniqueID\": id})\n",
    "    featList.append(eeFeat)\n",
    "\n",
    "    # -----------------------------------------\n",
    "    feat = lyr2.GetNextFeature()\n",
    "lyr2.ResetReading()\n",
    "\n",
    "len(featList)"
   ]
  },
  {
   "cell_type": "code",
   "execution_count": 31,
   "metadata": {},
   "outputs": [],
   "source": [
    "fc = ee.FeatureCollection(ee.List(featList))\n"
   ]
  },
  {
   "cell_type": "markdown",
   "metadata": {},
   "source": [
    "#### A unelagent but funcitonal method to rename bands from generic b1,b2,... to a combination of year month and data type (this allows subsequent filtering in the next step)"
   ]
  },
  {
   "cell_type": "code",
   "execution_count": 32,
   "metadata": {},
   "outputs": [],
   "source": [
    "years = [2017, 2018, 2019, 2020, 2021, 2022]\n",
    "months = [1, 2, 3, 4, 5, 6, 7, 8, 9, 10, 11, 12]\n",
    "\n",
    "band_names = [str(year) + \"_\" + str(month) + \"_drought_index\" for year in years for month in months]\n",
    "drought_index = drought_index.rename(ee.List(band_names))\n",
    "\n",
    "band_names = [str(year) + \"_\" + str(month) + \"_soil_moister\" for year in years for month in months]\n",
    "soil_moister = soil_moister.rename(ee.List(band_names))\n",
    "\n",
    "band_names = [str(year) + \"_\" + str(month) + \"_SPI\" for year in years for month in months]\n",
    "SPI = SPI.rename(ee.List(band_names))\n"
   ]
  },
  {
   "cell_type": "code",
   "execution_count": 33,
   "metadata": {},
   "outputs": [],
   "source": [
    "allRas = medianNdviStack.addBands([drought_index, soil_moister, SPI, soil_type, field_capacity, soil_bulk_density])"
   ]
  },
  {
   "cell_type": "markdown",
   "metadata": {},
   "source": [
    "#### Subset each data source to contain only the relavent bands for each year and month combinaiton"
   ]
  },
  {
   "cell_type": "code",
   "execution_count": 34,
   "metadata": {},
   "outputs": [],
   "source": [
    "allRas_subsets = {}\n",
    "\n",
    "for year in years:\n",
    "    for month in months:\n",
    "        medianNdviStack = \"{}_{}_median_ndvi\".format(year, month)\n",
    "        drought_band = \"{}_{}_drought_index\".format(year, month)\n",
    "        soil_moister_band = \"{}_{}_soil_moister\".format(year, month)\n",
    "        SPI_band = \"{}_{}_SPI\".format(year, month)\n",
    "        soil_type = \"grtgroup\"\n",
    "        field_capacity = \"field_capacity\"\n",
    "        soil_bulk_density = \"soil_bulk_density\"\n",
    "        \n",
    "        \n",
    "        year_month_image = allRas.select([medianNdviStack, drought_band, soil_moister_band, SPI_band, soil_type,field_capacity, soil_bulk_density])\n",
    "        \n",
    "        key = \"{}_{}\".format(year, month)  # found on the interwebs. Neat, but dont if I like it or if its best pratice...\n",
    "        allRas_subsets[key] = year_month_image"
   ]
  },
  {
   "cell_type": "code",
   "execution_count": 35,
   "metadata": {},
   "outputs": [],
   "source": [
    "#allRas_subsets"
   ]
  },
  {
   "cell_type": "code",
   "execution_count": 36,
   "metadata": {},
   "outputs": [],
   "source": [
    "year_month = \"2017_5\" \n",
    "allRas_subset = allRas_subsets[year_month]\n"
   ]
  },
  {
   "cell_type": "code",
   "execution_count": 37,
   "metadata": {},
   "outputs": [],
   "source": [
    "band_names = allRas_subset.bandNames()\n",
    "#print('Band names:', band_names.getInfo())  # ee.List of band names"
   ]
  },
  {
   "cell_type": "markdown",
   "metadata": {},
   "source": [
    "#### Extract the raster data for the sample ponts "
   ]
  },
  {
   "cell_type": "code",
   "execution_count": 38,
   "metadata": {},
   "outputs": [],
   "source": [
    "vals = allRas_subset.sampleRegions(collection=fc, properties=['UniqueID'], scale=10, tileScale=4, geometries=False).getInfo()\n",
    "#vals"
   ]
  },
  {
   "cell_type": "code",
   "execution_count": 39,
   "metadata": {},
   "outputs": [],
   "source": [
    "flag = 0\n",
    "featureValues = vals['features']\n",
    "for f in featureValues:\n",
    " # Chekc here always the right order of the indices\n",
    "    prop = f['properties']\n",
    "    if flag == 0:\n",
    "        out_pd = pd.DataFrame(prop, index=[0])\n",
    "        flag = 1\n",
    "    else:\n",
    "        out_pd = pd.concat([out_pd, pd.DataFrame(prop, index=[0])])\n",
    "#out_pd.head()"
   ]
  },
  {
   "cell_type": "markdown",
   "metadata": {},
   "source": [
    "## Split data (either random 30/70, or could use BB points to predict MV or visa versa)\n"
   ]
  },
  {
   "cell_type": "markdown",
   "metadata": {},
   "source": [
    "### Parameterize classifiers locally "
   ]
  },
  {
   "cell_type": "markdown",
   "metadata": {},
   "source": [
    "#### Extract feature target array\n"
   ]
  },
  {
   "cell_type": "code",
   "execution_count": 40,
   "metadata": {},
   "outputs": [],
   "source": [
    "from sklearn.model_selection import GridSearchCV\n",
    "from sklearn.ensemble import RandomForestRegressor\n",
    "from sklearn.model_selection import train_test_split\n",
    "from sklearn import metrics\n",
    "from sklearn import preprocessing\n",
    "from sklearn.preprocessing import StandardScaler\n",
    "\n",
    "# Create the two arrays\n",
    "y = out_pd['2017_5_median_ndvi']\n",
    "X = out_pd.drop(['2017_5_median_ndvi', 'UniqueID'], axis=1)"
   ]
  },
  {
   "cell_type": "markdown",
   "metadata": {},
   "source": [
    "##### soil type renaming"
   ]
  },
  {
   "cell_type": "code",
   "execution_count": 41,
   "metadata": {},
   "outputs": [],
   "source": [
    "soil_names = df = pd.read_csv(\"/Users/shawn/Documents/humbolt/semester_05/geo_processing/MAP/USDA Soil Taxonomy Great Groups.csv\")\n",
    "soil_names= soil_names.rename(columns={\"Value\": \"grtgroup\", \"Description\": \"soil_type\"})"
   ]
  },
  {
   "cell_type": "code",
   "execution_count": 42,
   "metadata": {},
   "outputs": [],
   "source": [
    "X= X.join(soil_names[[\"grtgroup\",\"soil_type\"]].set_index('grtgroup'), on='grtgroup').drop(\"grtgroup\", axis=1)"
   ]
  },
  {
   "cell_type": "markdown",
   "metadata": {},
   "source": [
    "#### standardize the feature vector (z-transformation (zero mean and unit variance))\n",
    "The data need to be scaled to remove unit and size imbalances between variables. Failing to do so would overweight some variables predictive significance soely based on there numeric size."
   ]
  },
  {
   "cell_type": "code",
   "execution_count": 43,
   "metadata": {},
   "outputs": [],
   "source": [
    "from sklearn import preprocessing\n",
    "from sklearn.preprocessing import StandardScaler\n",
    "\n",
    "scaler = preprocessing.StandardScaler().fit(X.drop(\"soil_type\", axis=1))"
   ]
  },
  {
   "cell_type": "code",
   "execution_count": 44,
   "metadata": {},
   "outputs": [],
   "source": [
    "X[[\"2017_5_SPI\",\"2017_5_drought_index\",\"2017_5_soil_moister\",\"field_capacity\",\"soil_bulk_density\"]] = StandardScaler().fit_transform(X[[\"2017_5_SPI\",\"2017_5_drought_index\",\"2017_5_soil_moister\",\"field_capacity\",\"soil_bulk_density\"]])"
   ]
  },
  {
   "cell_type": "code",
   "execution_count": 45,
   "metadata": {},
   "outputs": [
    {
     "data": {
      "text/html": [
       "<div>\n",
       "<style scoped>\n",
       "    .dataframe tbody tr th:only-of-type {\n",
       "        vertical-align: middle;\n",
       "    }\n",
       "\n",
       "    .dataframe tbody tr th {\n",
       "        vertical-align: top;\n",
       "    }\n",
       "\n",
       "    .dataframe thead th {\n",
       "        text-align: right;\n",
       "    }\n",
       "</style>\n",
       "<table border=\"1\" class=\"dataframe\">\n",
       "  <thead>\n",
       "    <tr style=\"text-align: right;\">\n",
       "      <th></th>\n",
       "      <th>2017_5_SPI</th>\n",
       "      <th>2017_5_drought_index</th>\n",
       "      <th>2017_5_soil_moister</th>\n",
       "      <th>field_capacity</th>\n",
       "      <th>soil_bulk_density</th>\n",
       "      <th>soil_type_Albaqualfs</th>\n",
       "      <th>soil_type_Cryaqualfs</th>\n",
       "      <th>soil_type_Durixeralfs</th>\n",
       "      <th>soil_type_Endoaqualfs</th>\n",
       "      <th>soil_type_Epiaqualfs</th>\n",
       "      <th>...</th>\n",
       "      <th>soil_type_Natraqualfs</th>\n",
       "      <th>soil_type_Natrixeralfs</th>\n",
       "      <th>soil_type_Natrudalfs</th>\n",
       "      <th>soil_type_Natrustalfs</th>\n",
       "      <th>soil_type_Palecryalfs</th>\n",
       "      <th>soil_type_Paleudalfs</th>\n",
       "      <th>soil_type_Paleustalfs</th>\n",
       "      <th>soil_type_Palexeralfs</th>\n",
       "      <th>soil_type_Rhodustalfs</th>\n",
       "      <th>soil_type_Vermaqualfs</th>\n",
       "    </tr>\n",
       "  </thead>\n",
       "  <tbody>\n",
       "    <tr>\n",
       "      <th>0</th>\n",
       "      <td>0.303993</td>\n",
       "      <td>1.769071</td>\n",
       "      <td>1.094182</td>\n",
       "      <td>-0.836777</td>\n",
       "      <td>-1.294514</td>\n",
       "      <td>0</td>\n",
       "      <td>0</td>\n",
       "      <td>0</td>\n",
       "      <td>0</td>\n",
       "      <td>0</td>\n",
       "      <td>...</td>\n",
       "      <td>0</td>\n",
       "      <td>0</td>\n",
       "      <td>0</td>\n",
       "      <td>0</td>\n",
       "      <td>0</td>\n",
       "      <td>0</td>\n",
       "      <td>0</td>\n",
       "      <td>0</td>\n",
       "      <td>0</td>\n",
       "      <td>0</td>\n",
       "    </tr>\n",
       "    <tr>\n",
       "      <th>0</th>\n",
       "      <td>-1.160552</td>\n",
       "      <td>-1.283916</td>\n",
       "      <td>-0.432863</td>\n",
       "      <td>0.267699</td>\n",
       "      <td>0.102230</td>\n",
       "      <td>0</td>\n",
       "      <td>0</td>\n",
       "      <td>0</td>\n",
       "      <td>0</td>\n",
       "      <td>0</td>\n",
       "      <td>...</td>\n",
       "      <td>0</td>\n",
       "      <td>0</td>\n",
       "      <td>0</td>\n",
       "      <td>0</td>\n",
       "      <td>0</td>\n",
       "      <td>0</td>\n",
       "      <td>0</td>\n",
       "      <td>0</td>\n",
       "      <td>0</td>\n",
       "      <td>0</td>\n",
       "    </tr>\n",
       "    <tr>\n",
       "      <th>0</th>\n",
       "      <td>-1.230326</td>\n",
       "      <td>0.242577</td>\n",
       "      <td>0.330659</td>\n",
       "      <td>-0.615882</td>\n",
       "      <td>0.155951</td>\n",
       "      <td>0</td>\n",
       "      <td>0</td>\n",
       "      <td>0</td>\n",
       "      <td>0</td>\n",
       "      <td>0</td>\n",
       "      <td>...</td>\n",
       "      <td>0</td>\n",
       "      <td>0</td>\n",
       "      <td>0</td>\n",
       "      <td>0</td>\n",
       "      <td>0</td>\n",
       "      <td>0</td>\n",
       "      <td>0</td>\n",
       "      <td>0</td>\n",
       "      <td>0</td>\n",
       "      <td>0</td>\n",
       "    </tr>\n",
       "    <tr>\n",
       "      <th>0</th>\n",
       "      <td>-1.346977</td>\n",
       "      <td>0.242577</td>\n",
       "      <td>0.025250</td>\n",
       "      <td>-0.505434</td>\n",
       "      <td>1.176649</td>\n",
       "      <td>0</td>\n",
       "      <td>0</td>\n",
       "      <td>0</td>\n",
       "      <td>0</td>\n",
       "      <td>0</td>\n",
       "      <td>...</td>\n",
       "      <td>0</td>\n",
       "      <td>0</td>\n",
       "      <td>0</td>\n",
       "      <td>0</td>\n",
       "      <td>0</td>\n",
       "      <td>0</td>\n",
       "      <td>0</td>\n",
       "      <td>0</td>\n",
       "      <td>0</td>\n",
       "      <td>0</td>\n",
       "    </tr>\n",
       "    <tr>\n",
       "      <th>0</th>\n",
       "      <td>-1.359386</td>\n",
       "      <td>0.242577</td>\n",
       "      <td>0.636069</td>\n",
       "      <td>-0.726329</td>\n",
       "      <td>-0.488700</td>\n",
       "      <td>0</td>\n",
       "      <td>0</td>\n",
       "      <td>0</td>\n",
       "      <td>0</td>\n",
       "      <td>0</td>\n",
       "      <td>...</td>\n",
       "      <td>0</td>\n",
       "      <td>0</td>\n",
       "      <td>0</td>\n",
       "      <td>0</td>\n",
       "      <td>0</td>\n",
       "      <td>0</td>\n",
       "      <td>0</td>\n",
       "      <td>0</td>\n",
       "      <td>0</td>\n",
       "      <td>0</td>\n",
       "    </tr>\n",
       "  </tbody>\n",
       "</table>\n",
       "<p>5 rows × 32 columns</p>\n",
       "</div>"
      ],
      "text/plain": [
       "   2017_5_SPI  2017_5_drought_index  2017_5_soil_moister  field_capacity  \\\n",
       "0    0.303993              1.769071             1.094182       -0.836777   \n",
       "0   -1.160552             -1.283916            -0.432863        0.267699   \n",
       "0   -1.230326              0.242577             0.330659       -0.615882   \n",
       "0   -1.346977              0.242577             0.025250       -0.505434   \n",
       "0   -1.359386              0.242577             0.636069       -0.726329   \n",
       "\n",
       "   soil_bulk_density  soil_type_Albaqualfs  soil_type_Cryaqualfs  \\\n",
       "0          -1.294514                     0                     0   \n",
       "0           0.102230                     0                     0   \n",
       "0           0.155951                     0                     0   \n",
       "0           1.176649                     0                     0   \n",
       "0          -0.488700                     0                     0   \n",
       "\n",
       "   soil_type_Durixeralfs  soil_type_Endoaqualfs  soil_type_Epiaqualfs  ...  \\\n",
       "0                      0                      0                     0  ...   \n",
       "0                      0                      0                     0  ...   \n",
       "0                      0                      0                     0  ...   \n",
       "0                      0                      0                     0  ...   \n",
       "0                      0                      0                     0  ...   \n",
       "\n",
       "   soil_type_Natraqualfs  soil_type_Natrixeralfs  soil_type_Natrudalfs  \\\n",
       "0                      0                       0                     0   \n",
       "0                      0                       0                     0   \n",
       "0                      0                       0                     0   \n",
       "0                      0                       0                     0   \n",
       "0                      0                       0                     0   \n",
       "\n",
       "   soil_type_Natrustalfs  soil_type_Palecryalfs  soil_type_Paleudalfs  \\\n",
       "0                      0                      0                     0   \n",
       "0                      0                      0                     0   \n",
       "0                      0                      0                     0   \n",
       "0                      0                      0                     0   \n",
       "0                      0                      0                     0   \n",
       "\n",
       "   soil_type_Paleustalfs  soil_type_Palexeralfs  soil_type_Rhodustalfs  \\\n",
       "0                      0                      0                      0   \n",
       "0                      0                      0                      0   \n",
       "0                      0                      0                      0   \n",
       "0                      0                      0                      0   \n",
       "0                      0                      0                      0   \n",
       "\n",
       "   soil_type_Vermaqualfs  \n",
       "0                      0  \n",
       "0                      0  \n",
       "0                      0  \n",
       "0                      0  \n",
       "0                      0  \n",
       "\n",
       "[5 rows x 32 columns]"
      ]
     },
     "execution_count": 45,
     "metadata": {},
     "output_type": "execute_result"
    }
   ],
   "source": [
    "# One-hot encode the data using pandas get_dummies\n",
    "X['soil_type'] = pd.Categorical(X.soil_type)\n",
    "X = pd.get_dummies(X, prefix='soil_type')\n",
    "# Display the first 5 rows of the last 12 columns\n",
    "X.head()"
   ]
  },
  {
   "cell_type": "markdown",
   "metadata": {},
   "source": [
    "#### Tune hyperparameters\n",
    "\n",
    "Shifted from a grid search to a random sampleling of the grid. Seems to be both quicker and provide better estimates, as a effecitvely a larger grid can be searched."
   ]
  },
  {
   "cell_type": "code",
   "execution_count": 46,
   "metadata": {},
   "outputs": [],
   "source": [
    "from sklearn.model_selection import RandomizedSearchCV\n",
    "\n",
    "# Create a classifier instance\n",
    "RF = RandomForestRegressor(random_state=1)\n",
    "param_grid = {'n_estimators': [10, 25, 50, 75, 100],# 'numberOfTrees\n",
    "              'max_features': [5, 10, 25, 'sqrt'],# 'variablesPerSplit'\n",
    "              'min_samples_split': [5, 10, 15, 25], # minLeafPopulation\n",
    "              'max_depth': [5, 10, 20, 50]} # maxNodes\n",
    "#RF_cv = GridSearchCV(RF, param_grid=param_grid, cv=3, refit=True, n_jobs=8).fit(X, y)"
   ]
  },
  {
   "cell_type": "code",
   "execution_count": 47,
   "metadata": {},
   "outputs": [],
   "source": [
    "from sklearn.model_selection import RandomizedSearchCV\n",
    "# Number of trees in random forest\n",
    "n_estimators = [int(x) for x in np.linspace(start = 10, stop = 100, num = 10)]\n",
    "# Number of features to consider at every split\n",
    "max_features = [1.0, 'sqrt']\n",
    "# Maximum number of levels in tree\n",
    "max_depth = [int(x) for x in np.linspace(10, 110, num = 11)]\n",
    "max_depth.append(None)\n",
    "# Minimum number of samples required to split a node\n",
    "min_samples_split = [2, 5, 10]\n",
    "# Minimum number of samples required at each leaf node\n",
    "min_samples_leaf = [1, 2, 4]\n",
    "# Method of selecting samples for training each tree\n",
    "bootstrap = [True, False]\n",
    "\n",
    "# Create the random grid\n",
    "random_grid = {'n_estimators': n_estimators,\n",
    "               'max_features': max_features,\n",
    "               'max_depth': max_depth,\n",
    "               'min_samples_split': min_samples_split,\n",
    "               'min_samples_leaf': min_samples_leaf,\n",
    "               'bootstrap': bootstrap}\n",
    "\n",
    "RF_random = RandomizedSearchCV(estimator = RF, param_distributions = random_grid, n_iter = 100, cv = 3, verbose=False, random_state=1, n_jobs = -1).fit(X, y)"
   ]
  },
  {
   "cell_type": "markdown",
   "metadata": {},
   "source": [
    "#### evaluate best_mod parameters"
   ]
  },
  {
   "cell_type": "code",
   "execution_count": 48,
   "metadata": {},
   "outputs": [],
   "source": [
    "#best_mod = RF_cv.best_estimator_\n",
    "#best_mod"
   ]
  },
  {
   "cell_type": "code",
   "execution_count": 49,
   "metadata": {},
   "outputs": [
    {
     "data": {
      "text/html": [
       "<style>#sk-container-id-1 {color: black;background-color: white;}#sk-container-id-1 pre{padding: 0;}#sk-container-id-1 div.sk-toggleable {background-color: white;}#sk-container-id-1 label.sk-toggleable__label {cursor: pointer;display: block;width: 100%;margin-bottom: 0;padding: 0.3em;box-sizing: border-box;text-align: center;}#sk-container-id-1 label.sk-toggleable__label-arrow:before {content: \"▸\";float: left;margin-right: 0.25em;color: #696969;}#sk-container-id-1 label.sk-toggleable__label-arrow:hover:before {color: black;}#sk-container-id-1 div.sk-estimator:hover label.sk-toggleable__label-arrow:before {color: black;}#sk-container-id-1 div.sk-toggleable__content {max-height: 0;max-width: 0;overflow: hidden;text-align: left;background-color: #f0f8ff;}#sk-container-id-1 div.sk-toggleable__content pre {margin: 0.2em;color: black;border-radius: 0.25em;background-color: #f0f8ff;}#sk-container-id-1 input.sk-toggleable__control:checked~div.sk-toggleable__content {max-height: 200px;max-width: 100%;overflow: auto;}#sk-container-id-1 input.sk-toggleable__control:checked~label.sk-toggleable__label-arrow:before {content: \"▾\";}#sk-container-id-1 div.sk-estimator input.sk-toggleable__control:checked~label.sk-toggleable__label {background-color: #d4ebff;}#sk-container-id-1 div.sk-label input.sk-toggleable__control:checked~label.sk-toggleable__label {background-color: #d4ebff;}#sk-container-id-1 input.sk-hidden--visually {border: 0;clip: rect(1px 1px 1px 1px);clip: rect(1px, 1px, 1px, 1px);height: 1px;margin: -1px;overflow: hidden;padding: 0;position: absolute;width: 1px;}#sk-container-id-1 div.sk-estimator {font-family: monospace;background-color: #f0f8ff;border: 1px dotted black;border-radius: 0.25em;box-sizing: border-box;margin-bottom: 0.5em;}#sk-container-id-1 div.sk-estimator:hover {background-color: #d4ebff;}#sk-container-id-1 div.sk-parallel-item::after {content: \"\";width: 100%;border-bottom: 1px solid gray;flex-grow: 1;}#sk-container-id-1 div.sk-label:hover label.sk-toggleable__label {background-color: #d4ebff;}#sk-container-id-1 div.sk-serial::before {content: \"\";position: absolute;border-left: 1px solid gray;box-sizing: border-box;top: 0;bottom: 0;left: 50%;z-index: 0;}#sk-container-id-1 div.sk-serial {display: flex;flex-direction: column;align-items: center;background-color: white;padding-right: 0.2em;padding-left: 0.2em;position: relative;}#sk-container-id-1 div.sk-item {position: relative;z-index: 1;}#sk-container-id-1 div.sk-parallel {display: flex;align-items: stretch;justify-content: center;background-color: white;position: relative;}#sk-container-id-1 div.sk-item::before, #sk-container-id-1 div.sk-parallel-item::before {content: \"\";position: absolute;border-left: 1px solid gray;box-sizing: border-box;top: 0;bottom: 0;left: 50%;z-index: -1;}#sk-container-id-1 div.sk-parallel-item {display: flex;flex-direction: column;z-index: 1;position: relative;background-color: white;}#sk-container-id-1 div.sk-parallel-item:first-child::after {align-self: flex-end;width: 50%;}#sk-container-id-1 div.sk-parallel-item:last-child::after {align-self: flex-start;width: 50%;}#sk-container-id-1 div.sk-parallel-item:only-child::after {width: 0;}#sk-container-id-1 div.sk-dashed-wrapped {border: 1px dashed gray;margin: 0 0.4em 0.5em 0.4em;box-sizing: border-box;padding-bottom: 0.4em;background-color: white;}#sk-container-id-1 div.sk-label label {font-family: monospace;font-weight: bold;display: inline-block;line-height: 1.2em;}#sk-container-id-1 div.sk-label-container {text-align: center;}#sk-container-id-1 div.sk-container {/* jupyter's `normalize.less` sets `[hidden] { display: none; }` but bootstrap.min.css set `[hidden] { display: none !important; }` so we also need the `!important` here to be able to override the default hidden behavior on the sphinx rendered scikit-learn.org. See: https://github.com/scikit-learn/scikit-learn/issues/21755 */display: inline-block !important;position: relative;}#sk-container-id-1 div.sk-text-repr-fallback {display: none;}</style><div id=\"sk-container-id-1\" class=\"sk-top-container\"><div class=\"sk-text-repr-fallback\"><pre>RandomForestRegressor(bootstrap=False, max_depth=40, max_features=&#x27;sqrt&#x27;,\n",
       "                      min_samples_leaf=2, min_samples_split=5, n_estimators=80,\n",
       "                      random_state=1)</pre><b>In a Jupyter environment, please rerun this cell to show the HTML representation or trust the notebook. <br />On GitHub, the HTML representation is unable to render, please try loading this page with nbviewer.org.</b></div><div class=\"sk-container\" hidden><div class=\"sk-item\"><div class=\"sk-estimator sk-toggleable\"><input class=\"sk-toggleable__control sk-hidden--visually\" id=\"sk-estimator-id-1\" type=\"checkbox\" checked><label for=\"sk-estimator-id-1\" class=\"sk-toggleable__label sk-toggleable__label-arrow\">RandomForestRegressor</label><div class=\"sk-toggleable__content\"><pre>RandomForestRegressor(bootstrap=False, max_depth=40, max_features=&#x27;sqrt&#x27;,\n",
       "                      min_samples_leaf=2, min_samples_split=5, n_estimators=80,\n",
       "                      random_state=1)</pre></div></div></div></div></div>"
      ],
      "text/plain": [
       "RandomForestRegressor(bootstrap=False, max_depth=40, max_features='sqrt',\n",
       "                      min_samples_leaf=2, min_samples_split=5, n_estimators=80,\n",
       "                      random_state=1)"
      ]
     },
     "execution_count": 49,
     "metadata": {},
     "output_type": "execute_result"
    }
   ],
   "source": [
    "best_mod = RF_random.best_estimator_\n",
    "best_mod"
   ]
  },
  {
   "cell_type": "code",
   "execution_count": 50,
   "metadata": {},
   "outputs": [],
   "source": [
    "X_train, X_val, y_train, y_val = train_test_split(X, y, test_size=0.5)\n",
    "y_pred = best_mod.predict(X_val)"
   ]
  },
  {
   "cell_type": "code",
   "execution_count": 51,
   "metadata": {},
   "outputs": [
    {
     "data": {
      "text/plain": [
       "(0.05785108140409678, 0.10016473491660434)"
      ]
     },
     "execution_count": 51,
     "metadata": {},
     "output_type": "execute_result"
    }
   ],
   "source": [
    "mae = metrics.mean_absolute_error(y_val, y_pred)\n",
    "mse = metrics.mean_squared_error(y_val, y_pred)\n",
    "rmse = mse**0.5\n",
    "\n",
    "mae, rmse"
   ]
  },
  {
   "cell_type": "code",
   "execution_count": 52,
   "metadata": {},
   "outputs": [
    {
     "data": {
      "image/png": "[encoded data removed]",
      "text/plain": [
       "<Figure size 640x480 with 1 Axes>"
      ]
     },
     "metadata": {},
     "output_type": "display_data"
    }
   ],
   "source": [
    "import seaborn as sns\n",
    "#create scatterplot with regression line and confidence interval lines\n",
    "sns.regplot(x=y_val, y=y_pred)\n",
    "plt.plot([0,1], [0,1], 'black') #1 to 1 line\n",
    "plt.ylabel('Predicted NDVI')\n",
    "plt.xlabel('Actual NDVI')\n",
    "# show the plot\n",
    "plt.show()"
   ]
  },
  {
   "cell_type": "markdown",
   "metadata": {},
   "source": [
    "### Get variable importance"
   ]
  },
  {
   "cell_type": "code",
   "execution_count": 53,
   "metadata": {},
   "outputs": [
    {
     "name": "stdout",
     "output_type": "stream",
     "text": [
      "Variable: 2017_5_SPI           Importance: 0.22\n",
      "Variable: soil_bulk_density    Importance: 0.21\n",
      "Variable: field_capacity       Importance: 0.16\n",
      "Variable: 2017_5_soil_moister  Importance: 0.15\n",
      "Variable: 2017_5_drought_index Importance: 0.06\n",
      "Variable: soil_type_Cryaqualfs Importance: 0.05\n",
      "Variable: soil_type_Durixeralfs Importance: 0.05\n",
      "Variable: soil_type_Endoaqualfs Importance: 0.02\n",
      "Variable: soil_type_Fragiudalfs Importance: 0.02\n",
      "Variable: soil_type_Epiaqualfs Importance: 0.01\n",
      "Variable: soil_type_Fragiaqualfs Importance: 0.01\n",
      "Variable: soil_type_Fragixeralfs Importance: 0.01\n",
      "Variable: soil_type_Glossaqualfs Importance: 0.01\n",
      "Variable: soil_type_Glossudalfs Importance: 0.01\n",
      "Variable: soil_type_Natrixeralfs Importance: 0.01\n",
      "Variable: soil_type_Albaqualfs Importance: 0.0\n",
      "Variable: soil_type_Eutroboralfs Importance: 0.0\n",
      "Variable: soil_type_Fraglossudalfs Importance: 0.0\n",
      "Variable: soil_type_Glossocryalfs Importance: 0.0\n",
      "Variable: soil_type_Haplocryalfs Importance: 0.0\n",
      "Variable: soil_type_Haploxeralfs Importance: 0.0\n",
      "Variable: soil_type_Hapludalfs Importance: 0.0\n",
      "Variable: soil_type_Haplustalfs Importance: 0.0\n",
      "Variable: soil_type_Natraqualfs Importance: 0.0\n",
      "Variable: soil_type_Natrudalfs Importance: 0.0\n",
      "Variable: soil_type_Natrustalfs Importance: 0.0\n",
      "Variable: soil_type_Palecryalfs Importance: 0.0\n",
      "Variable: soil_type_Paleudalfs Importance: 0.0\n",
      "Variable: soil_type_Paleustalfs Importance: 0.0\n",
      "Variable: soil_type_Palexeralfs Importance: 0.0\n",
      "Variable: soil_type_Rhodustalfs Importance: 0.0\n",
      "Variable: soil_type_Vermaqualfs Importance: 0.0\n"
     ]
    }
   ],
   "source": [
    "# Get numerical feature importances\n",
    "importances = list(best_mod.feature_importances_)\n",
    "# List of tuples with variable and importance\n",
    "feature_importances = [(feature, round(importance, 2)) for feature, importance in zip(X, importances)]\n",
    "# Sort the feature importances by most important first\n",
    "feature_importances = sorted(feature_importances, key = lambda x: x[1], reverse = True)\n",
    "# Print out the feature and importances \n",
    "[print('Variable: {:20} Importance: {}'.format(*pair)) for pair in feature_importances];"
   ]
  },
  {
   "cell_type": "code",
   "execution_count": 54,
   "metadata": {},
   "outputs": [
    {
     "data": {
      "image/png": "[encoded data removed]",
      "text/plain": [
       "<Figure size 640x480 with 1 Axes>"
      ]
     },
     "metadata": {},
     "output_type": "display_data"
    }
   ],
   "source": [
    "%matplotlib inline\n",
    "# Set the style\n",
    "plt.style.use('fivethirtyeight')\n",
    "# list of x locations for plotting\n",
    "x_values = list(range(len(importances)))\n",
    "# Make a bar chart\n",
    "plt.bar(x_values, importances, orientation = 'vertical')\n",
    "# Tick labels for x axis\n",
    "plt.xticks(x_values, X, rotation= 90, size=6)\n",
    "# Axis labels and title\n",
    "plt.ylabel('Importance'); plt.xlabel('Variable'); plt.title('Variable Importances');"
   ]
  },
  {
   "cell_type": "code",
   "execution_count": 55,
   "metadata": {},
   "outputs": [],
   "source": [
    "from sklearn import preprocessing\n",
    "from sklearn.preprocessing import StandardScaler\n",
    "import seaborn as sns\n",
    "from sklearn.model_selection import RandomizedSearchCV\n",
    "from sklearn.model_selection import RandomizedSearchCV\n",
    "from sklearn import preprocessing\n",
    "from sklearn.preprocessing import StandardScaler\n",
    "from sklearn.model_selection import GridSearchCV\n",
    "from sklearn.ensemble import RandomForestRegressor\n",
    "from sklearn.model_selection import train_test_split\n",
    "from sklearn import metrics\n",
    "from sklearn import preprocessing\n",
    "from sklearn.preprocessing import StandardScaler\n",
    "\n",
    "\n",
    "def process_and_predict(year_month):\n",
    "\n",
    "    # Assign variable names for different variables\n",
    "    ndvi = f\"{year_month}_median_ndvi\"\n",
    "    SPI = f\"{year_month}_SPI\"\n",
    "    soil_moister = f\"{year_month}_soil_moister\"\n",
    "    drought_index = f\"{year_month}_drought_index\"\n",
    "\n",
    "     # Subset the allRas data for the given year_month (would be better to do out of loop, but this cause memory issues)\n",
    "    allRas_subset = allRas_subsets[year_month]\n",
    "    # Get the band names of the `allRas_subset` data\n",
    "    band_names = allRas_subset.bandNames()\n",
    "    # Sample regions of the data to get their properties\n",
    "    vals = allRas_subset.sampleRegions(collection=fc, properties=['UniqueID'], scale=10, tileScale=4, geometries=False).getInfo()\n",
    "\n",
    "    # Initialize a flag variable for creating a Pandas dataframe from the properties of the sampled regions\n",
    "    flag = 0\n",
    "    featureValues = vals['features']\n",
    "    # Iterate through the properties of each feature and add them to the Pandas dataframe\n",
    "    for f in featureValues:\n",
    "        prop = f['properties']\n",
    "        if flag == 0:\n",
    "            out_pd = pd.DataFrame(prop, index=[0])\n",
    "            flag = 1\n",
    "        else:\n",
    "            out_pd = pd.concat([out_pd, pd.DataFrame(prop, index=[0])])\n",
    "    # Show the first few rows of the resulting Pandas dataframe\n",
    "    out_pd.head()\n",
    "\n",
    "    # Create the target variable and feature arrays\n",
    "    y = out_pd[ndvi]\n",
    "    X = out_pd.drop([ndvi, 'UniqueID'], axis=1)\n",
    "    # Join the `X` data with soil names on the 'grtgroup' index\n",
    "    X= X.join(soil_names[[\"grtgroup\",\"soil_type\"]].set_index('grtgroup'), on='grtgroup').drop(\"grtgroup\", axis=1)\n",
    "\n",
    "    # Fit a standard scaler to the features in `X` excluding the soil type\n",
    "    scaler = preprocessing.StandardScaler().fit(X.drop(\"soil_type\", axis=1))\n",
    "    # Standardize the values of selected columns in `X`\n",
    "    X[[SPI,drought_index,soil_moister,\"field_capacity\",\"soil_bulk_density\"]] = StandardScaler().fit_transform(X[[SPI,drought_index,soil_moister,\"field_capacity\",\"soil_bulk_density\"]])\n",
    "    # One-hot encode the soil type column in `X`\n",
    "    X['soil_type'] = pd.Categorical(X.soil_type)\n",
    "    X = pd.get_dummies(X, prefix='soil_type')\n",
    "\n",
    "    # Create a random forest regressor instance\n",
    "    RF = RandomForestRegressor(random_state=1)\n",
    "    # Number of trees in random forest\n",
    "    n_estimators = [int(x) for x in np.linspace(start = 10, stop = 100, num = 10)]\n",
    "    # Number of features to consider at every split\n",
    "    max_features = [1.0, 'sqrt']\n",
    "    # Maximum number of levels in tree\n",
    "    max_depth = [int(x) for x in np.linspace(10, 110, num = 11)]\n",
    "    max_depth.append(None)\n",
    "    # Minimum number of samples required to split a node\n",
    "    min_samples_split = [2, 5, 10]\n",
    "    # Minimum number of samples required at each leaf node\n",
    "    min_samples_leaf = [1, 2, 4]\n",
    "    # Method of selecting samples for training each tree\n",
    "    bootstrap = [True, False]\n",
    "\n",
    "    # Create the random grid\n",
    "    random_grid = {'n_estimators': n_estimators,\n",
    "                'max_features': max_features,\n",
    "                'max_depth': max_depth,\n",
    "                'min_samples_split': min_samples_split,\n",
    "                'min_samples_leaf': min_samples_leaf,\n",
    "                'bootstrap': bootstrap}\n",
    "\n",
    "    RF_random = RandomizedSearchCV(estimator = RF, param_distributions = random_grid, n_iter = 100, cv = 3, verbose=False, random_state=1, n_jobs = -1).fit(X, y)\n",
    "    best_mod = RF_random.best_estimator_\n",
    "\n",
    "\n",
    "    X_train, X_val, y_train, y_val = train_test_split(X, y, test_size=0.5)\n",
    "    y_pred = best_mod.predict(X_val)\n",
    "\n",
    "\n",
    "    mae = metrics.mean_absolute_error(y_val, y_pred)\n",
    "    mse = metrics.mean_squared_error(y_val, y_pred)\n",
    "    rmse = mse**0.5\n",
    "    mae, rmse\n",
    "\n",
    "\n",
    "    # Get numerical feature importances\n",
    "    importances = list(best_mod.feature_importances_)\n",
    "    # List of tuples with variable and importance\n",
    "    feature_importances = [(feature, round(importance, 2)) for feature, importance in zip(X, importances)]\n",
    "    # Sort the feature importances by most important first\n",
    "    feature_importances = sorted(feature_importances, key = lambda x: x[1], reverse = True)\n",
    "    # Print out the feature and importances \n",
    "    #[print('Variable: {:20} Importance: {}'.format(*pair)) for pair in feature_importances]\n",
    "\n",
    "\n",
    "    global RF_output, RF_errors, RF_feature_importance, RF_models\n",
    "\n",
    "    RF_output = RF_output.append(pd.DataFrame(\n",
    "    {'year_month': year_month, \n",
    "    'y_val': y_val, \n",
    "    'y_pred': y_pred}\n",
    "    ))\n",
    "\n",
    "    RF_errors = RF_errors.append(pd.DataFrame(\n",
    "    {'year_month': [year_month], \n",
    "    'mae': [mae], \n",
    "    'mse': [mse], \n",
    "    'rmse': [rmse]}\n",
    "    ))\n",
    "\n",
    "    feature_importance = pd.DataFrame(feature_importances, columns=[\"variable\", \"value\"])\n",
    "    feature_importance[\"year_month\"] = year_month\n",
    "    RF_feature_importance = RF_feature_importance.append(feature_importance)\n",
    "\n",
    "    RF_models[year_month] = best_mod\n",
    "\n",
    "    print(\"Finshied processing \"+year_month)\n",
    "\n",
    "    return RF_output, RF_errors, RF_feature_importance, RF_models"
   ]
  },
  {
   "cell_type": "code",
   "execution_count": 58,
   "metadata": {},
   "outputs": [],
   "source": [
    "soil_names = df = pd.read_csv(\"/Users/shawn/Documents/humbolt/semester_05/geo_processing/MAP/USDA Soil Taxonomy Great Groups.csv\")\n",
    "soil_names= soil_names.rename(columns={\"Value\": \"grtgroup\", \"Description\": \"soil_type\"})\n",
    "\n",
    "years = [2017, 2018, 2019, 2020, 2021, 2022]\n",
    "months = [4, 5, 6, 7, 8, 9, 10]\n"
   ]
  },
  {
   "cell_type": "code",
   "execution_count": 59,
   "metadata": {},
   "outputs": [
    {
     "name": "stdout",
     "output_type": "stream",
     "text": [
      "Finshied processing 2017_4\n",
      "Finshied processing 2017_5\n",
      "Finshied processing 2017_6\n",
      "Finshied processing 2017_7\n",
      "Finshied processing 2017_8\n",
      "Finshied processing 2017_9\n",
      "Finshied processing 2017_10\n",
      "Finshied processing 2018_4\n",
      "Finshied processing 2018_5\n",
      "Finshied processing 2018_6\n",
      "Finshied processing 2018_7\n",
      "Finshied processing 2018_8\n",
      "Finshied processing 2018_9\n",
      "Finshied processing 2018_10\n",
      "Finshied processing 2019_4\n",
      "Finshied processing 2019_5\n",
      "Finshied processing 2019_6\n",
      "Finshied processing 2019_7\n",
      "Finshied processing 2019_8\n",
      "Finshied processing 2019_9\n",
      "Finshied processing 2019_10\n",
      "Finshied processing 2020_4\n",
      "Finshied processing 2020_5\n",
      "Finshied processing 2020_6\n",
      "Finshied processing 2020_7\n",
      "Finshied processing 2020_8\n",
      "Finshied processing 2020_9\n",
      "Finshied processing 2020_10\n",
      "Finshied processing 2021_4\n",
      "Finshied processing 2021_5\n",
      "Finshied processing 2021_6\n",
      "Finshied processing 2021_7\n",
      "Finshied processing 2021_8\n",
      "Finshied processing 2021_9\n",
      "Finshied processing 2021_10\n",
      "Finshied processing 2022_4\n",
      "Finshied processing 2022_5\n",
      "Finshied processing 2022_6\n",
      "Finshied processing 2022_7\n",
      "Finshied processing 2022_8\n",
      "Finshied processing 2022_9\n",
      "Finshied processing 2022_10\n"
     ]
    }
   ],
   "source": [
    "RF_output = pd.DataFrame({'year_month': [], 'y_val': [], 'y_pred': []})\n",
    "RF_errors = pd.DataFrame({'year_month': [], \"mae\": [], 'mse': [], 'rmse': []})\n",
    "RF_feature_importance = pd.DataFrame({'year_month': [], \"variable\": [], 'value': []})\n",
    "RF_models = dict()\n",
    "\n",
    "for year in years:\n",
    "     for month in months:\n",
    "        year_month = (str(year)+\"_\"+str(month))\n",
    "        RF_output, RF_errors, RF_feature_importance, RF_models = process_and_predict(str(year_month))"
   ]
  },
  {
   "cell_type": "markdown",
   "metadata": {},
   "source": [
    "##### Cach dfs locally"
   ]
  },
  {
   "cell_type": "code",
   "execution_count": 60,
   "metadata": {},
   "outputs": [],
   "source": [
    "RF_output.to_csv('/Users/shawn/Documents/humbolt/semester_05/geo_processing/MAP/RF_output.csv')\n",
    "RF_errors.to_csv('/Users/shawn/Documents/humbolt/semester_05/geo_processing/MAP/RF_errors.csv')\n",
    "RF_feature_importance.to_csv('/Users/shawn/Documents/humbolt/semester_05/geo_processing/MAP/RF_feature_importance.csv')\n",
    "\n",
    "import pickle \n",
    "filehandler = open(\"/Users/shawn/Documents/humbolt/semester_05/geo_processing/MAP/RF_models\", 'wb') \n",
    "pickle.dump(RF_models, filehandler)"
   ]
  },
  {
   "cell_type": "code",
   "execution_count": 61,
   "metadata": {},
   "outputs": [],
   "source": [
    "#RF_output.head(), RF_errors.head(), RF_feature_importance.head(), RF_models"
   ]
  },
  {
   "cell_type": "code",
   "execution_count": 62,
   "metadata": {},
   "outputs": [
    {
     "data": {
      "image/png": "[encoded data removed]",
      "text/plain": [
       "<Figure size 640x480 with 1 Axes>"
      ]
     },
     "metadata": {},
     "output_type": "display_data"
    }
   ],
   "source": [
    "#create scatterplot with regression line and confidence interval lines\n",
    "sns.regplot(x=RF_output[\"y_val\"], y=RF_output[\"y_pred\"])\n",
    "plt.plot([0,1], [0,1], 'black') #1 to 1 line\n",
    "plt.ylabel('Predicted NDVI')\n",
    "plt.xlabel('Actual NDVI')\n",
    "# show the plot\n",
    "plt.show()"
   ]
  },
  {
   "cell_type": "code",
   "execution_count": 63,
   "metadata": {},
   "outputs": [
    {
     "data": {
      "text/plain": [
       "array([22.0180414 , 20.71133678,  2.91802327, ...,  5.43577985,\n",
       "        8.57344173,  7.82146109])"
      ]
     },
     "execution_count": 63,
     "metadata": {},
     "output_type": "execute_result"
    }
   ],
   "source": [
    "from scipy.stats import gaussian_kde\n",
    "\n",
    "# Calculate the point density\n",
    "xy = np.vstack([RF_output[\"y_val\"], RF_output[\"y_pred\"]])\n",
    "z = gaussian_kde(xy)(xy)\n",
    "z"
   ]
  },
  {
   "cell_type": "code",
   "execution_count": 64,
   "metadata": {},
   "outputs": [],
   "source": [
    "RF_output = pd.read_csv('/Users/shawn/Documents/humbolt/semester_05/geo_processing/MAP/RF_output.csv')"
   ]
  },
  {
   "cell_type": "code",
   "execution_count": 65,
   "metadata": {},
   "outputs": [
    {
     "data": {
      "text/html": [
       "<div>\n",
       "<style scoped>\n",
       "    .dataframe tbody tr th:only-of-type {\n",
       "        vertical-align: middle;\n",
       "    }\n",
       "\n",
       "    .dataframe tbody tr th {\n",
       "        vertical-align: top;\n",
       "    }\n",
       "\n",
       "    .dataframe thead th {\n",
       "        text-align: right;\n",
       "    }\n",
       "</style>\n",
       "<table border=\"1\" class=\"dataframe\">\n",
       "  <thead>\n",
       "    <tr style=\"text-align: right;\">\n",
       "      <th></th>\n",
       "      <th>Unnamed: 0</th>\n",
       "      <th>y_val</th>\n",
       "      <th>y_pred</th>\n",
       "    </tr>\n",
       "    <tr>\n",
       "      <th>year_month</th>\n",
       "      <th></th>\n",
       "      <th></th>\n",
       "      <th></th>\n",
       "    </tr>\n",
       "  </thead>\n",
       "  <tbody>\n",
       "    <tr>\n",
       "      <th>2017-04-01</th>\n",
       "      <td>0</td>\n",
       "      <td>0.764706</td>\n",
       "      <td>0.743741</td>\n",
       "    </tr>\n",
       "    <tr>\n",
       "      <th>2017-04-01</th>\n",
       "      <td>0</td>\n",
       "      <td>0.870620</td>\n",
       "      <td>0.771937</td>\n",
       "    </tr>\n",
       "    <tr>\n",
       "      <th>2017-04-01</th>\n",
       "      <td>0</td>\n",
       "      <td>0.434355</td>\n",
       "      <td>0.524919</td>\n",
       "    </tr>\n",
       "    <tr>\n",
       "      <th>2017-04-01</th>\n",
       "      <td>0</td>\n",
       "      <td>0.725475</td>\n",
       "      <td>0.647312</td>\n",
       "    </tr>\n",
       "    <tr>\n",
       "      <th>2017-04-01</th>\n",
       "      <td>0</td>\n",
       "      <td>0.520501</td>\n",
       "      <td>0.624385</td>\n",
       "    </tr>\n",
       "    <tr>\n",
       "      <th>...</th>\n",
       "      <td>...</td>\n",
       "      <td>...</td>\n",
       "      <td>...</td>\n",
       "    </tr>\n",
       "    <tr>\n",
       "      <th>2022-10-01</th>\n",
       "      <td>0</td>\n",
       "      <td>0.463849</td>\n",
       "      <td>0.488964</td>\n",
       "    </tr>\n",
       "    <tr>\n",
       "      <th>2022-10-01</th>\n",
       "      <td>0</td>\n",
       "      <td>0.438322</td>\n",
       "      <td>0.515410</td>\n",
       "    </tr>\n",
       "    <tr>\n",
       "      <th>2022-10-01</th>\n",
       "      <td>0</td>\n",
       "      <td>0.497333</td>\n",
       "      <td>0.481104</td>\n",
       "    </tr>\n",
       "    <tr>\n",
       "      <th>2022-10-01</th>\n",
       "      <td>0</td>\n",
       "      <td>0.534911</td>\n",
       "      <td>0.510274</td>\n",
       "    </tr>\n",
       "    <tr>\n",
       "      <th>2022-10-01</th>\n",
       "      <td>0</td>\n",
       "      <td>0.516356</td>\n",
       "      <td>0.502349</td>\n",
       "    </tr>\n",
       "  </tbody>\n",
       "</table>\n",
       "<p>93748 rows × 3 columns</p>\n",
       "</div>"
      ],
      "text/plain": [
       "            Unnamed: 0     y_val    y_pred\n",
       "year_month                                \n",
       "2017-04-01           0  0.764706  0.743741\n",
       "2017-04-01           0  0.870620  0.771937\n",
       "2017-04-01           0  0.434355  0.524919\n",
       "2017-04-01           0  0.725475  0.647312\n",
       "2017-04-01           0  0.520501  0.624385\n",
       "...                ...       ...       ...\n",
       "2022-10-01           0  0.463849  0.488964\n",
       "2022-10-01           0  0.438322  0.515410\n",
       "2022-10-01           0  0.497333  0.481104\n",
       "2022-10-01           0  0.534911  0.510274\n",
       "2022-10-01           0  0.516356  0.502349\n",
       "\n",
       "[93748 rows x 3 columns]"
      ]
     },
     "execution_count": 65,
     "metadata": {},
     "output_type": "execute_result"
    }
   ],
   "source": [
    "RF_output['year_month'] = pd.to_datetime(RF_output['year_month'], format='%Y_%m')\n",
    "RF_output.set_index('year_month', inplace=True)\n",
    "RF_output.shape()"
   ]
  },
  {
   "cell_type": "code",
   "execution_count": 73,
   "metadata": {},
   "outputs": [
    {
     "data": {
      "text/plain": [
       "(93748, 3)"
      ]
     },
     "execution_count": 73,
     "metadata": {},
     "output_type": "execute_result"
    }
   ],
   "source": [
    "RF_output.shape"
   ]
  },
  {
   "cell_type": "code",
   "execution_count": 66,
   "metadata": {},
   "outputs": [
    {
     "data": {
      "image/png": "[encoded data removed]",
      "text/plain": [
       "<Figure size 640x480 with 1 Axes>"
      ]
     },
     "metadata": {},
     "output_type": "display_data"
    }
   ],
   "source": [
    "\n",
    "#create scatterplot with regression line and confidence interval lines\n",
    "sns.regplot(x=RF_output[\"y_val\"],  y=RF_output[\"y_pred\"], scatter=False, line_kws={'linewidth':1, \"color\":\"red\"})\n",
    "plt.scatter(x=RF_output[\"y_val\"],  y=RF_output[\"y_pred\"],c=z, s=1 )\n",
    "plt.plot([-0.2,1], [-0.2,0.9], 'black', linestyle='dotted', linewidth=1) #1 to 1 line\n",
    "plt.ylabel('Predicted NDVI')\n",
    "plt.xlabel('Actual NDVI')\n",
    "# show the plot\n",
    "plt.show()"
   ]
  },
  {
   "cell_type": "code",
   "execution_count": 67,
   "metadata": {},
   "outputs": [],
   "source": [
    "SPI_subsample = SPI.sampleRegions(collection=fc, properties=['UniqueID'], scale=1000, tileScale=4, geometries=False).getInfo()\n"
   ]
  },
  {
   "cell_type": "code",
   "execution_count": 68,
   "metadata": {},
   "outputs": [],
   "source": [
    "flag = 0\n",
    "SPI_values = SPI_subsample['features']\n",
    "for f in SPI_values:\n",
    " # Chekc here always the right order of the indices\n",
    "    prop = f['properties']\n",
    "    if flag == 0:\n",
    "        SPI_df = pd.DataFrame(prop, index=[0])\n",
    "        flag = 1\n",
    "    else:\n",
    "        SPI_df = pd.concat([SPI_df, pd.DataFrame(prop, index=[0])])"
   ]
  },
  {
   "cell_type": "code",
   "execution_count": 69,
   "metadata": {},
   "outputs": [
    {
     "data": {
      "text/html": [
       "<div>\n",
       "<style scoped>\n",
       "    .dataframe tbody tr th:only-of-type {\n",
       "        vertical-align: middle;\n",
       "    }\n",
       "\n",
       "    .dataframe tbody tr th {\n",
       "        vertical-align: top;\n",
       "    }\n",
       "\n",
       "    .dataframe thead th {\n",
       "        text-align: right;\n",
       "    }\n",
       "</style>\n",
       "<table border=\"1\" class=\"dataframe\">\n",
       "  <thead>\n",
       "    <tr style=\"text-align: right;\">\n",
       "      <th></th>\n",
       "      <th>SPI</th>\n",
       "    </tr>\n",
       "    <tr>\n",
       "      <th>year_month</th>\n",
       "      <th></th>\n",
       "    </tr>\n",
       "  </thead>\n",
       "  <tbody>\n",
       "    <tr>\n",
       "      <th>2017-10-01</th>\n",
       "      <td>1.064574</td>\n",
       "    </tr>\n",
       "    <tr>\n",
       "      <th>2017-10-01</th>\n",
       "      <td>0.626403</td>\n",
       "    </tr>\n",
       "    <tr>\n",
       "      <th>2017-10-01</th>\n",
       "      <td>1.285165</td>\n",
       "    </tr>\n",
       "    <tr>\n",
       "      <th>2017-10-01</th>\n",
       "      <td>1.782087</td>\n",
       "    </tr>\n",
       "    <tr>\n",
       "      <th>2017-10-01</th>\n",
       "      <td>1.222585</td>\n",
       "    </tr>\n",
       "  </tbody>\n",
       "</table>\n",
       "</div>"
      ],
      "text/plain": [
       "                 SPI\n",
       "year_month          \n",
       "2017-10-01  1.064574\n",
       "2017-10-01  0.626403\n",
       "2017-10-01  1.285165\n",
       "2017-10-01  1.782087\n",
       "2017-10-01  1.222585"
      ]
     },
     "execution_count": 69,
     "metadata": {},
     "output_type": "execute_result"
    }
   ],
   "source": [
    "SPI_df = SPI_df.drop([\"UniqueID\"], axis=1).melt(var_name='year_month', value_name='SPI')\n",
    "SPI_df[\"year_month\"] = SPI_df[\"year_month\"].str.replace(\"_SPI\", \"\")\n",
    "SPI_df['year_month'] = pd.to_datetime(SPI_df['year_month'], format='%Y_%m')\n",
    "SPI_df.set_index('year_month', inplace=True)\n",
    "SPI_df.head()"
   ]
  },
  {
   "cell_type": "code",
   "execution_count": 70,
   "metadata": {},
   "outputs": [
    {
     "data": {
      "image/png": "[encoded data removed]",
      "text/plain": [
       "<Figure size 1200x600 with 2 Axes>"
      ]
     },
     "metadata": {},
     "output_type": "display_data"
    }
   ],
   "source": [
    "\n",
    "fig, ax = plt.subplots(figsize=(12, 6))\n",
    "sns.lineplot(data=RF_output, x=RF_output.index, y='y_pred', lw=1.5, ax=ax, label= \"perdicted NDVI\")\n",
    "\n",
    "ax2 = ax.twinx()\n",
    "sns.lineplot(data=SPI_df, x=SPI_df.index, y=SPI_df[\"SPI\"], lw=1.5, ax=ax2, color='red', label='SPI')\n",
    "ax2.grid(None)\n",
    "\n",
    "plt.xlabel('Year-Month')\n",
    "plt.ylabel('Predicted NDVI')\n",
    "plt.title('Time Series Plot')\n",
    "plt.show()"
   ]
  },
  {
   "cell_type": "code",
   "execution_count": 71,
   "metadata": {},
   "outputs": [
    {
     "ename": "KeyError",
     "evalue": "'year_month'",
     "output_type": "error",
     "traceback": [
      "\u001b[0;31m---------------------------------------------------------------------------\u001b[0m",
      "\u001b[0;31mKeyError\u001b[0m                                  Traceback (most recent call last)",
      "File \u001b[0;32m~/opt/anaconda3/envs/anaconda_env/lib/python3.10/site-packages/pandas/core/indexes/base.py:3629\u001b[0m, in \u001b[0;36mIndex.get_loc\u001b[0;34m(self, key, method, tolerance)\u001b[0m\n\u001b[1;32m   3628\u001b[0m \u001b[39mtry\u001b[39;00m:\n\u001b[0;32m-> 3629\u001b[0m     \u001b[39mreturn\u001b[39;00m \u001b[39mself\u001b[39;49m\u001b[39m.\u001b[39;49m_engine\u001b[39m.\u001b[39;49mget_loc(casted_key)\n\u001b[1;32m   3630\u001b[0m \u001b[39mexcept\u001b[39;00m \u001b[39mKeyError\u001b[39;00m \u001b[39mas\u001b[39;00m err:\n",
      "File \u001b[0;32m~/opt/anaconda3/envs/anaconda_env/lib/python3.10/site-packages/pandas/_libs/index.pyx:136\u001b[0m, in \u001b[0;36mpandas._libs.index.IndexEngine.get_loc\u001b[0;34m()\u001b[0m\n",
      "File \u001b[0;32m~/opt/anaconda3/envs/anaconda_env/lib/python3.10/site-packages/pandas/_libs/index.pyx:163\u001b[0m, in \u001b[0;36mpandas._libs.index.IndexEngine.get_loc\u001b[0;34m()\u001b[0m\n",
      "File \u001b[0;32mpandas/_libs/hashtable_class_helper.pxi:5198\u001b[0m, in \u001b[0;36mpandas._libs.hashtable.PyObjectHashTable.get_item\u001b[0;34m()\u001b[0m\n",
      "File \u001b[0;32mpandas/_libs/hashtable_class_helper.pxi:5206\u001b[0m, in \u001b[0;36mpandas._libs.hashtable.PyObjectHashTable.get_item\u001b[0;34m()\u001b[0m\n",
      "\u001b[0;31mKeyError\u001b[0m: 'year_month'",
      "\nThe above exception was the direct cause of the following exception:\n",
      "\u001b[0;31mKeyError\u001b[0m                                  Traceback (most recent call last)",
      "Cell \u001b[0;32mIn [71], line 3\u001b[0m\n\u001b[1;32m      1\u001b[0m sns\u001b[39m.\u001b[39mset_style(\u001b[39m\"\u001b[39m\u001b[39mwhitegrid\u001b[39m\u001b[39m\"\u001b[39m)\n\u001b[0;32m----> 3\u001b[0m g \u001b[39m=\u001b[39m sns\u001b[39m.\u001b[39;49mFacetGrid(data\u001b[39m=\u001b[39;49mRF_output, col\u001b[39m=\u001b[39;49m\u001b[39m'\u001b[39;49m\u001b[39myear_month\u001b[39;49m\u001b[39m'\u001b[39;49m, col_wrap\u001b[39m=\u001b[39;49m\u001b[39m4\u001b[39;49m, height\u001b[39m=\u001b[39;49m\u001b[39m2.5\u001b[39;49m, aspect\u001b[39m=\u001b[39;49m\u001b[39m2\u001b[39;49m)\n\u001b[1;32m      4\u001b[0m g \u001b[39m=\u001b[39m g\u001b[39m.\u001b[39mmap(sns\u001b[39m.\u001b[39mkdeplot, \u001b[39m\"\u001b[39m\u001b[39my_pred\u001b[39m\u001b[39m\"\u001b[39m, shade\u001b[39m=\u001b[39m\u001b[39mTrue\u001b[39;00m)\n\u001b[1;32m      6\u001b[0m plt\u001b[39m.\u001b[39mshow()\n",
      "File \u001b[0;32m~/opt/anaconda3/envs/anaconda_env/lib/python3.10/site-packages/seaborn/axisgrid.py:396\u001b[0m, in \u001b[0;36mFacetGrid.__init__\u001b[0;34m(self, data, row, col, hue, col_wrap, sharex, sharey, height, aspect, palette, row_order, col_order, hue_order, hue_kws, dropna, legend_out, despine, margin_titles, xlim, ylim, subplot_kws, gridspec_kws)\u001b[0m\n\u001b[1;32m    394\u001b[0m     col_names \u001b[39m=\u001b[39m []\n\u001b[1;32m    395\u001b[0m \u001b[39melse\u001b[39;00m:\n\u001b[0;32m--> 396\u001b[0m     col_names \u001b[39m=\u001b[39m categorical_order(data[col], col_order)\n\u001b[1;32m    398\u001b[0m \u001b[39m# Additional dict of kwarg -> list of values for mapping the hue var\u001b[39;00m\n\u001b[1;32m    399\u001b[0m hue_kws \u001b[39m=\u001b[39m hue_kws \u001b[39mif\u001b[39;00m hue_kws \u001b[39mis\u001b[39;00m \u001b[39mnot\u001b[39;00m \u001b[39mNone\u001b[39;00m \u001b[39melse\u001b[39;00m {}\n",
      "File \u001b[0;32m~/opt/anaconda3/envs/anaconda_env/lib/python3.10/site-packages/pandas/core/frame.py:3505\u001b[0m, in \u001b[0;36mDataFrame.__getitem__\u001b[0;34m(self, key)\u001b[0m\n\u001b[1;32m   3503\u001b[0m \u001b[39mif\u001b[39;00m \u001b[39mself\u001b[39m\u001b[39m.\u001b[39mcolumns\u001b[39m.\u001b[39mnlevels \u001b[39m>\u001b[39m \u001b[39m1\u001b[39m:\n\u001b[1;32m   3504\u001b[0m     \u001b[39mreturn\u001b[39;00m \u001b[39mself\u001b[39m\u001b[39m.\u001b[39m_getitem_multilevel(key)\n\u001b[0;32m-> 3505\u001b[0m indexer \u001b[39m=\u001b[39m \u001b[39mself\u001b[39;49m\u001b[39m.\u001b[39;49mcolumns\u001b[39m.\u001b[39;49mget_loc(key)\n\u001b[1;32m   3506\u001b[0m \u001b[39mif\u001b[39;00m is_integer(indexer):\n\u001b[1;32m   3507\u001b[0m     indexer \u001b[39m=\u001b[39m [indexer]\n",
      "File \u001b[0;32m~/opt/anaconda3/envs/anaconda_env/lib/python3.10/site-packages/pandas/core/indexes/base.py:3631\u001b[0m, in \u001b[0;36mIndex.get_loc\u001b[0;34m(self, key, method, tolerance)\u001b[0m\n\u001b[1;32m   3629\u001b[0m     \u001b[39mreturn\u001b[39;00m \u001b[39mself\u001b[39m\u001b[39m.\u001b[39m_engine\u001b[39m.\u001b[39mget_loc(casted_key)\n\u001b[1;32m   3630\u001b[0m \u001b[39mexcept\u001b[39;00m \u001b[39mKeyError\u001b[39;00m \u001b[39mas\u001b[39;00m err:\n\u001b[0;32m-> 3631\u001b[0m     \u001b[39mraise\u001b[39;00m \u001b[39mKeyError\u001b[39;00m(key) \u001b[39mfrom\u001b[39;00m \u001b[39merr\u001b[39;00m\n\u001b[1;32m   3632\u001b[0m \u001b[39mexcept\u001b[39;00m \u001b[39mTypeError\u001b[39;00m:\n\u001b[1;32m   3633\u001b[0m     \u001b[39m# If we have a listlike key, _check_indexing_error will raise\u001b[39;00m\n\u001b[1;32m   3634\u001b[0m     \u001b[39m#  InvalidIndexError. Otherwise we fall through and re-raise\u001b[39;00m\n\u001b[1;32m   3635\u001b[0m     \u001b[39m#  the TypeError.\u001b[39;00m\n\u001b[1;32m   3636\u001b[0m     \u001b[39mself\u001b[39m\u001b[39m.\u001b[39m_check_indexing_error(key)\n",
      "\u001b[0;31mKeyError\u001b[0m: 'year_month'"
     ]
    }
   ],
   "source": [
    "sns.set_style(\"whitegrid\")\n",
    "\n",
    "g = sns.FacetGrid(data=RF_output, col='year_month', col_wrap=4, height=2.5, aspect=2)\n",
    "g = g.map(sns.kdeplot, \"y_pred\", shade=True)\n",
    "\n",
    "plt.show()"
   ]
  },
  {
   "cell_type": "code",
   "execution_count": null,
   "metadata": {},
   "outputs": [
    {
     "data": {
      "text/html": [
       "<div>\n",
       "<style scoped>\n",
       "    .dataframe tbody tr th:only-of-type {\n",
       "        vertical-align: middle;\n",
       "    }\n",
       "\n",
       "    .dataframe tbody tr th {\n",
       "        vertical-align: top;\n",
       "    }\n",
       "\n",
       "    .dataframe thead th {\n",
       "        text-align: right;\n",
       "    }\n",
       "</style>\n",
       "<table border=\"1\" class=\"dataframe\">\n",
       "  <thead>\n",
       "    <tr style=\"text-align: right;\">\n",
       "      <th></th>\n",
       "      <th>mae</th>\n",
       "      <th>mse</th>\n",
       "      <th>rmse</th>\n",
       "    </tr>\n",
       "  </thead>\n",
       "  <tbody>\n",
       "    <tr>\n",
       "      <th>count</th>\n",
       "      <td>8.000000</td>\n",
       "      <td>8.000000</td>\n",
       "      <td>8.000000</td>\n",
       "    </tr>\n",
       "    <tr>\n",
       "      <th>mean</th>\n",
       "      <td>0.060824</td>\n",
       "      <td>0.007603</td>\n",
       "      <td>0.082826</td>\n",
       "    </tr>\n",
       "    <tr>\n",
       "      <th>std</th>\n",
       "      <td>0.022666</td>\n",
       "      <td>0.004711</td>\n",
       "      <td>0.029128</td>\n",
       "    </tr>\n",
       "    <tr>\n",
       "      <th>min</th>\n",
       "      <td>0.029565</td>\n",
       "      <td>0.002072</td>\n",
       "      <td>0.045516</td>\n",
       "    </tr>\n",
       "    <tr>\n",
       "      <th>25%</th>\n",
       "      <td>0.041446</td>\n",
       "      <td>0.003007</td>\n",
       "      <td>0.054779</td>\n",
       "    </tr>\n",
       "    <tr>\n",
       "      <th>50%</th>\n",
       "      <td>0.064086</td>\n",
       "      <td>0.008072</td>\n",
       "      <td>0.089010</td>\n",
       "    </tr>\n",
       "    <tr>\n",
       "      <th>75%</th>\n",
       "      <td>0.079854</td>\n",
       "      <td>0.011387</td>\n",
       "      <td>0.106695</td>\n",
       "    </tr>\n",
       "    <tr>\n",
       "      <th>max</th>\n",
       "      <td>0.088299</td>\n",
       "      <td>0.013719</td>\n",
       "      <td>0.117129</td>\n",
       "    </tr>\n",
       "  </tbody>\n",
       "</table>\n",
       "</div>"
      ],
      "text/plain": [
       "            mae       mse      rmse\n",
       "count  8.000000  8.000000  8.000000\n",
       "mean   0.060824  0.007603  0.082826\n",
       "std    0.022666  0.004711  0.029128\n",
       "min    0.029565  0.002072  0.045516\n",
       "25%    0.041446  0.003007  0.054779\n",
       "50%    0.064086  0.008072  0.089010\n",
       "75%    0.079854  0.011387  0.106695\n",
       "max    0.088299  0.013719  0.117129"
      ]
     },
     "execution_count": 49,
     "metadata": {},
     "output_type": "execute_result"
    }
   ],
   "source": [
    "RF_errors.describe()"
   ]
  },
  {
   "cell_type": "code",
   "execution_count": null,
   "metadata": {},
   "outputs": [
    {
     "data": {
      "text/html": [
       "<div>\n",
       "<style scoped>\n",
       "    .dataframe tbody tr th:only-of-type {\n",
       "        vertical-align: middle;\n",
       "    }\n",
       "\n",
       "    .dataframe tbody tr th {\n",
       "        vertical-align: top;\n",
       "    }\n",
       "\n",
       "    .dataframe thead th {\n",
       "        text-align: right;\n",
       "    }\n",
       "</style>\n",
       "<table border=\"1\" class=\"dataframe\">\n",
       "  <thead>\n",
       "    <tr style=\"text-align: right;\">\n",
       "      <th></th>\n",
       "      <th>Mean</th>\n",
       "      <th>stdev</th>\n",
       "    </tr>\n",
       "    <tr>\n",
       "      <th>variable</th>\n",
       "      <th></th>\n",
       "      <th></th>\n",
       "    </tr>\n",
       "  </thead>\n",
       "  <tbody>\n",
       "    <tr>\n",
       "      <th>__SPI</th>\n",
       "      <td>0.24125</td>\n",
       "      <td>0.015526</td>\n",
       "    </tr>\n",
       "    <tr>\n",
       "      <th>__drought_index</th>\n",
       "      <td>0.06000</td>\n",
       "      <td>0.016903</td>\n",
       "    </tr>\n",
       "    <tr>\n",
       "      <th>__soil_moister</th>\n",
       "      <td>0.14750</td>\n",
       "      <td>0.010351</td>\n",
       "    </tr>\n",
       "    <tr>\n",
       "      <th>field_capacity</th>\n",
       "      <td>0.18875</td>\n",
       "      <td>0.019594</td>\n",
       "    </tr>\n",
       "    <tr>\n",
       "      <th>soil_bulk_density</th>\n",
       "      <td>0.19250</td>\n",
       "      <td>0.016690</td>\n",
       "    </tr>\n",
       "    <tr>\n",
       "      <th>soil_type_Albaqualfs</th>\n",
       "      <td>0.00250</td>\n",
       "      <td>0.004629</td>\n",
       "    </tr>\n",
       "    <tr>\n",
       "      <th>soil_type_Cryaqualfs</th>\n",
       "      <td>0.01500</td>\n",
       "      <td>0.010690</td>\n",
       "    </tr>\n",
       "    <tr>\n",
       "      <th>soil_type_Durixeralfs</th>\n",
       "      <td>0.01375</td>\n",
       "      <td>0.005175</td>\n",
       "    </tr>\n",
       "    <tr>\n",
       "      <th>soil_type_Endoaqualfs</th>\n",
       "      <td>0.01375</td>\n",
       "      <td>0.005175</td>\n",
       "    </tr>\n",
       "    <tr>\n",
       "      <th>soil_type_Epiaqualfs</th>\n",
       "      <td>0.01000</td>\n",
       "      <td>0.000000</td>\n",
       "    </tr>\n",
       "    <tr>\n",
       "      <th>soil_type_Fragiaqualfs</th>\n",
       "      <td>0.01000</td>\n",
       "      <td>0.000000</td>\n",
       "    </tr>\n",
       "    <tr>\n",
       "      <th>soil_type_Fragiudalfs</th>\n",
       "      <td>0.01125</td>\n",
       "      <td>0.003536</td>\n",
       "    </tr>\n",
       "    <tr>\n",
       "      <th>soil_type_Fragixeralfs</th>\n",
       "      <td>0.01000</td>\n",
       "      <td>0.000000</td>\n",
       "    </tr>\n",
       "    <tr>\n",
       "      <th>soil_type_Fraglossudalfs</th>\n",
       "      <td>0.01000</td>\n",
       "      <td>0.000000</td>\n",
       "    </tr>\n",
       "    <tr>\n",
       "      <th>soil_type_Glossaqualfs</th>\n",
       "      <td>0.01000</td>\n",
       "      <td>0.000000</td>\n",
       "    </tr>\n",
       "    <tr>\n",
       "      <th>soil_type_Glossocryalfs</th>\n",
       "      <td>0.01000</td>\n",
       "      <td>0.000000</td>\n",
       "    </tr>\n",
       "    <tr>\n",
       "      <th>soil_type_Glossudalfs</th>\n",
       "      <td>0.01000</td>\n",
       "      <td>0.000000</td>\n",
       "    </tr>\n",
       "    <tr>\n",
       "      <th>soil_type_Haplocryalfs</th>\n",
       "      <td>0.01000</td>\n",
       "      <td>0.000000</td>\n",
       "    </tr>\n",
       "    <tr>\n",
       "      <th>soil_type_Haploxeralfs</th>\n",
       "      <td>0.01000</td>\n",
       "      <td>0.000000</td>\n",
       "    </tr>\n",
       "    <tr>\n",
       "      <th>soil_type_Hapludalfs</th>\n",
       "      <td>0.01000</td>\n",
       "      <td>0.000000</td>\n",
       "    </tr>\n",
       "    <tr>\n",
       "      <th>soil_type_Haplustalfs</th>\n",
       "      <td>0.01000</td>\n",
       "      <td>0.000000</td>\n",
       "    </tr>\n",
       "    <tr>\n",
       "      <th>soil_type_Natraqualfs</th>\n",
       "      <td>0.00000</td>\n",
       "      <td>0.000000</td>\n",
       "    </tr>\n",
       "    <tr>\n",
       "      <th>soil_type_Natrixeralfs</th>\n",
       "      <td>0.00000</td>\n",
       "      <td>0.000000</td>\n",
       "    </tr>\n",
       "    <tr>\n",
       "      <th>soil_type_Natrudalfs</th>\n",
       "      <td>0.00125</td>\n",
       "      <td>0.003536</td>\n",
       "    </tr>\n",
       "    <tr>\n",
       "      <th>soil_type_Natrustalfs</th>\n",
       "      <td>0.00000</td>\n",
       "      <td>0.000000</td>\n",
       "    </tr>\n",
       "    <tr>\n",
       "      <th>soil_type_Palecryalfs</th>\n",
       "      <td>0.00000</td>\n",
       "      <td>0.000000</td>\n",
       "    </tr>\n",
       "    <tr>\n",
       "      <th>soil_type_Paleudalfs</th>\n",
       "      <td>0.00000</td>\n",
       "      <td>0.000000</td>\n",
       "    </tr>\n",
       "    <tr>\n",
       "      <th>soil_type_Paleustalfs</th>\n",
       "      <td>0.00000</td>\n",
       "      <td>0.000000</td>\n",
       "    </tr>\n",
       "    <tr>\n",
       "      <th>soil_type_Palexeralfs</th>\n",
       "      <td>0.00000</td>\n",
       "      <td>0.000000</td>\n",
       "    </tr>\n",
       "  </tbody>\n",
       "</table>\n",
       "</div>"
      ],
      "text/plain": [
       "                             Mean     stdev\n",
       "variable                                   \n",
       "__SPI                     0.24125  0.015526\n",
       "__drought_index           0.06000  0.016903\n",
       "__soil_moister            0.14750  0.010351\n",
       "field_capacity            0.18875  0.019594\n",
       "soil_bulk_density         0.19250  0.016690\n",
       "soil_type_Albaqualfs      0.00250  0.004629\n",
       "soil_type_Cryaqualfs      0.01500  0.010690\n",
       "soil_type_Durixeralfs     0.01375  0.005175\n",
       "soil_type_Endoaqualfs     0.01375  0.005175\n",
       "soil_type_Epiaqualfs      0.01000  0.000000\n",
       "soil_type_Fragiaqualfs    0.01000  0.000000\n",
       "soil_type_Fragiudalfs     0.01125  0.003536\n",
       "soil_type_Fragixeralfs    0.01000  0.000000\n",
       "soil_type_Fraglossudalfs  0.01000  0.000000\n",
       "soil_type_Glossaqualfs    0.01000  0.000000\n",
       "soil_type_Glossocryalfs   0.01000  0.000000\n",
       "soil_type_Glossudalfs     0.01000  0.000000\n",
       "soil_type_Haplocryalfs    0.01000  0.000000\n",
       "soil_type_Haploxeralfs    0.01000  0.000000\n",
       "soil_type_Hapludalfs      0.01000  0.000000\n",
       "soil_type_Haplustalfs     0.01000  0.000000\n",
       "soil_type_Natraqualfs     0.00000  0.000000\n",
       "soil_type_Natrixeralfs    0.00000  0.000000\n",
       "soil_type_Natrudalfs      0.00125  0.003536\n",
       "soil_type_Natrustalfs     0.00000  0.000000\n",
       "soil_type_Palecryalfs     0.00000  0.000000\n",
       "soil_type_Paleudalfs      0.00000  0.000000\n",
       "soil_type_Paleustalfs     0.00000  0.000000\n",
       "soil_type_Palexeralfs     0.00000  0.000000"
      ]
     },
     "execution_count": 50,
     "metadata": {},
     "output_type": "execute_result"
    }
   ],
   "source": [
    "RF_feature_importance[\"variable\"] = RF_feature_importance[\"variable\"].str.replace('\\d+', '')\n",
    "RF_feature_importance.groupby('variable').agg(\n",
    "    Mean=('value', np.mean),\n",
    "    stdev=('value', np.nanstd))"
   ]
  },
  {
   "cell_type": "code",
   "execution_count": null,
   "metadata": {},
   "outputs": [],
   "source": []
  },
  {
   "cell_type": "markdown",
   "metadata": {},
   "source": [
    "#### Setting up classification in GEE"
   ]
  },
  {
   "cell_type": "markdown",
   "metadata": {},
   "source": [
    "#### Create string description of RF model that is interpretable in GEE"
   ]
  },
  {
   "cell_type": "code",
   "execution_count": null,
   "metadata": {},
   "outputs": [],
   "source": [
    "from geemap import ml\n",
    "feature_names = X.columns.tolist() # get the names of the variables\n",
    "best_mod_str = ml.rf_to_strings(best_mod, feature_names, output_mode= \"REGRESSION\" )  # IMPORTANT IS TO SET output_mode TO REGRESSION, OR ELSE THE STRING CONVERTION IS INCORRECT AND THE CLASSFICATION DOES NOT WORK\n",
    "ee_classifier = ml.strings_to_classifier(best_mod_str)\n",
    "\n",
    "ee_classifier"
   ]
  },
  {
   "cell_type": "code",
   "execution_count": null,
   "metadata": {},
   "outputs": [],
   "source": [
    "classification = allRas_subset.mask(wetland_mask).clip(bbox).classify(ee_classifier) # really shouldnt make a difference but get a memory error if I do not re-clip classificaiton. \n",
    "#classification\n",
    "\n"
   ]
  },
  {
   "cell_type": "code",
   "execution_count": null,
   "metadata": {},
   "outputs": [],
   "source": [
    "Map.addLayer(classification, ndviVis , 'classification')"
   ]
  },
  {
   "cell_type": "code",
   "execution_count": null,
   "metadata": {},
   "outputs": [],
   "source": [
    "ndvi = (str(year_month)+\"_median_ndvi\")\n",
    "\n",
    "# Compute the difference between actual and predicted NDVI\n",
    "diff = allRas_subset.select(ndvi).mask(wetland_mask).subtract(classification)\n",
    "\n",
    "# Compute the squared difference between actual and predicted NDVI\n",
    "#squared_difference = diff.pow(2)\n"
   ]
  },
  {
   "cell_type": "code",
   "execution_count": null,
   "metadata": {},
   "outputs": [],
   "source": [
    "diffVis = {\"palette\": ['#440154', \"#414487\", \"#2a788e\", \"#22a884\", \"#7ad151\", \"#fde725\", 'red'], \"min\":0, \"max\": 1}\n",
    "\n",
    "Map.addLayer(diff, diffVis , 'diff')\n",
    "#Map.addLayer(squared_difference, diffVis , 'squared_difference')\n",
    "\n",
    "#Map\n"
   ]
  },
  {
   "cell_type": "code",
   "execution_count": null,
   "metadata": {},
   "outputs": [],
   "source": [
    "Map\n"
   ]
  },
  {
   "cell_type": "markdown",
   "metadata": {},
   "source": [
    "##### create some scatter plots"
   ]
  },
  {
   "cell_type": "code",
   "execution_count": null,
   "metadata": {},
   "outputs": [],
   "source": [
    "\n",
    "ndvi_compairison = (allRas_subset.select(ndvi).mask(wetland_mask).clip(bbox).addBands([classification])).mask(wetland_mask).clip(bbox)\n",
    "ndvi_compairison\n"
   ]
  },
  {
   "cell_type": "code",
   "execution_count": null,
   "metadata": {},
   "outputs": [],
   "source": [
    "\n",
    "values = ndvi_compairison.sample(region=bbox, scale=10, numPixels=50000, geometries=False).getInfo()"
   ]
  },
  {
   "cell_type": "code",
   "execution_count": null,
   "metadata": {},
   "outputs": [],
   "source": [
    "flag = 0\n",
    "featureValues = values['features']\n",
    "for f in featureValues:\n",
    " # Chekc here always the right order of the indices\n",
    "    prop = f['properties']\n",
    "    if flag == 0:\n",
    "        out_pd = pd.DataFrame(prop, index=[0])\n",
    "        flag = 1\n",
    "    else:\n",
    "        out_pd = pd.concat([out_pd, pd.DataFrame(prop, index=[0])])\n",
    "out_pd.head()"
   ]
  },
  {
   "cell_type": "code",
   "execution_count": null,
   "metadata": {},
   "outputs": [],
   "source": [
    "from scipy.stats import gaussian_kde\n",
    "\n",
    "# Calculate the point density\n",
    "xy = np.vstack([out_pd[ndvi],out_pd[\"classification\"]])\n",
    "z = gaussian_kde(xy)(xy)\n",
    "\n",
    "#create scatterplot with regression line and confidence interval lines\n",
    "sns.regplot(x=out_pd[ndvi], y=out_pd[\"classification\"], scatter=False, line_kws={'linewidth':3})\n",
    "plt.scatter(x=out_pd[ndvi], y=out_pd[\"classification\"],c=z, s=8 )\n",
    "plt.plot([0,1], [0,1], 'black', linestyle='dotted', linewidth=1) #1 to 1 line\n",
    "plt.ylabel('Predicted NDVI')\n",
    "plt.xlabel('Actual NDVI')\n",
    "# show the plot\n",
    "plt.show()"
   ]
  },
  {
   "cell_type": "code",
   "execution_count": null,
   "metadata": {},
   "outputs": [],
   "source": []
  },
  {
   "cell_type": "code",
   "execution_count": null,
   "metadata": {},
   "outputs": [],
   "source": [
    "\n"
   ]
  },
  {
   "cell_type": "code",
   "execution_count": null,
   "metadata": {},
   "outputs": [],
   "source": []
  },
  {
   "cell_type": "code",
   "execution_count": null,
   "metadata": {},
   "outputs": [],
   "source": [
    "\n"
   ]
  },
  {
   "cell_type": "markdown",
   "metadata": {},
   "source": [
    "# Apply trained model to the bigger test data set\n"
   ]
  },
  {
   "cell_type": "markdown",
   "metadata": {},
   "source": [
    "# Create output maps"
   ]
  },
  {
   "cell_type": "code",
   "execution_count": null,
   "metadata": {},
   "outputs": [],
   "source": []
  }
 ],
 "metadata": {
  "celltoolbar": "Slideshow",
  "kernelspec": {
   "display_name": "Python 3 (ipykernel)",
   "language": "python",
   "name": "python3"
  },
  "language_info": {
   "codemirror_mode": {
    "name": "ipython",
    "version": 3
   },
   "file_extension": ".py",
   "mimetype": "text/x-python",
   "name": "python",
   "nbconvert_exporter": "python",
   "pygments_lexer": "ipython3",
   "version": "3.10.6"
  },
  "vscode": {
   "interpreter": {
    "hash": "0edc24dbc5cafb7dbcdbf05521fd13531db021af73dd1fb988aa6bae4360be4d"
   }
  }
 },
 "nbformat": 4,
 "nbformat_minor": 2
}
